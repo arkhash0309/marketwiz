{
 "cells": [
  {
   "cell_type": "markdown",
   "metadata": {},
   "source": [
    "<h1>Sales EDA"
   ]
  },
  {
   "cell_type": "markdown",
   "metadata": {},
   "source": [
    "Combining the sales data from the different sources and performing EDA on the combined data."
   ]
  },
  {
   "cell_type": "code",
   "execution_count": 77,
   "metadata": {},
   "outputs": [],
   "source": [
    "import pandas as pd\n",
    "import numpy as np\n",
    "import matplotlib.pyplot as plt\n",
    "import seaborn as sns"
   ]
  },
  {
   "cell_type": "markdown",
   "metadata": {},
   "source": [
    "Code to Join the sheets to one dataframe"
   ]
  },
  {
   "cell_type": "code",
   "execution_count": 78,
   "metadata": {},
   "outputs": [],
   "source": [
    "# Python\n",
    "import pandas as pd\n",
    "import os\n",
    "\n",
    "# Directory where the Excel files are located\n",
    "directory = 'datasets/Sales'\n",
    "\n",
    "# List to store the dataframes\n",
    "dfs = []\n",
    "\n",
    "# Iterate over each file in the directory\n",
    "for filename in os.listdir(directory):\n",
    "    if filename.endswith(\".xlsx\") or filename.endswith(\".xls\"):\n",
    "        # Construct the full file path\n",
    "        file_path = os.path.join(directory, filename)\n",
    "        \n",
    "        # Read the Excel file\n",
    "        df = pd.read_excel(file_path)\n",
    "        \n",
    "        # Select the required columns\n",
    "        df = df[['DATE', 'PRODUCT CODE', 'DESCRIPTION', 'QTY']]\n",
    "        \n",
    "        # Append the dataframe to the list\n",
    "        dfs.append(df)\n",
    "\n",
    "# Concatenate all dataframes\n",
    "final_df = pd.concat(dfs, ignore_index=True)"
   ]
  },
  {
   "cell_type": "code",
   "execution_count": 79,
   "metadata": {},
   "outputs": [
    {
     "data": {
      "text/html": [
       "<div>\n",
       "<style scoped>\n",
       "    .dataframe tbody tr th:only-of-type {\n",
       "        vertical-align: middle;\n",
       "    }\n",
       "\n",
       "    .dataframe tbody tr th {\n",
       "        vertical-align: top;\n",
       "    }\n",
       "\n",
       "    .dataframe thead th {\n",
       "        text-align: right;\n",
       "    }\n",
       "</style>\n",
       "<table border=\"1\" class=\"dataframe\">\n",
       "  <thead>\n",
       "    <tr style=\"text-align: right;\">\n",
       "      <th></th>\n",
       "      <th>DATE</th>\n",
       "      <th>PRODUCT CODE</th>\n",
       "      <th>DESCRIPTION</th>\n",
       "      <th>QTY</th>\n",
       "    </tr>\n",
       "  </thead>\n",
       "  <tbody>\n",
       "    <tr>\n",
       "      <th>0</th>\n",
       "      <td>02/01/2022</td>\n",
       "      <td>12978</td>\n",
       "      <td>AMBEWELA SET YOGURT 80ML</td>\n",
       "      <td>6.0</td>\n",
       "    </tr>\n",
       "    <tr>\n",
       "      <th>1</th>\n",
       "      <td>01/01/2022</td>\n",
       "      <td>12978</td>\n",
       "      <td>AMBEWELA SET YOGURT 80ML</td>\n",
       "      <td>6.0</td>\n",
       "    </tr>\n",
       "    <tr>\n",
       "      <th>2</th>\n",
       "      <td>01/01/2022</td>\n",
       "      <td>12978</td>\n",
       "      <td>AMBEWELA SET YOGURT 80ML</td>\n",
       "      <td>1.0</td>\n",
       "    </tr>\n",
       "    <tr>\n",
       "      <th>3</th>\n",
       "      <td>01/01/2022</td>\n",
       "      <td>12978</td>\n",
       "      <td>AMBEWELA SET YOGURT 80ML</td>\n",
       "      <td>6.0</td>\n",
       "    </tr>\n",
       "    <tr>\n",
       "      <th>4</th>\n",
       "      <td>02/01/2022</td>\n",
       "      <td>12978</td>\n",
       "      <td>AMBEWELA SET YOGURT 80ML</td>\n",
       "      <td>10.0</td>\n",
       "    </tr>\n",
       "    <tr>\n",
       "      <th>...</th>\n",
       "      <td>...</td>\n",
       "      <td>...</td>\n",
       "      <td>...</td>\n",
       "      <td>...</td>\n",
       "    </tr>\n",
       "    <tr>\n",
       "      <th>34627</th>\n",
       "      <td>09/10/2023</td>\n",
       "      <td>10415</td>\n",
       "      <td>HIGHLAND YOGHURT 80ML</td>\n",
       "      <td>12.0</td>\n",
       "    </tr>\n",
       "    <tr>\n",
       "      <th>34628</th>\n",
       "      <td>09/10/2023</td>\n",
       "      <td>10415</td>\n",
       "      <td>HIGHLAND YOGHURT 80ML</td>\n",
       "      <td>9.0</td>\n",
       "    </tr>\n",
       "    <tr>\n",
       "      <th>34629</th>\n",
       "      <td>09/10/2023</td>\n",
       "      <td>10415</td>\n",
       "      <td>HIGHLAND YOGHURT 80ML</td>\n",
       "      <td>13.0</td>\n",
       "    </tr>\n",
       "    <tr>\n",
       "      <th>34630</th>\n",
       "      <td>09/10/2023</td>\n",
       "      <td>10415</td>\n",
       "      <td>HIGHLAND YOGHURT 80ML</td>\n",
       "      <td>7.0</td>\n",
       "    </tr>\n",
       "    <tr>\n",
       "      <th>34631</th>\n",
       "      <td>09/10/2023</td>\n",
       "      <td>10415</td>\n",
       "      <td>HIGHLAND YOGHURT 80ML</td>\n",
       "      <td>5.0</td>\n",
       "    </tr>\n",
       "  </tbody>\n",
       "</table>\n",
       "<p>34632 rows × 4 columns</p>\n",
       "</div>"
      ],
      "text/plain": [
       "             DATE  PRODUCT CODE               DESCRIPTION   QTY\n",
       "0      02/01/2022         12978  AMBEWELA SET YOGURT 80ML   6.0\n",
       "1      01/01/2022         12978  AMBEWELA SET YOGURT 80ML   6.0\n",
       "2      01/01/2022         12978  AMBEWELA SET YOGURT 80ML   1.0\n",
       "3      01/01/2022         12978  AMBEWELA SET YOGURT 80ML   6.0\n",
       "4      02/01/2022         12978  AMBEWELA SET YOGURT 80ML  10.0\n",
       "...           ...           ...                       ...   ...\n",
       "34627  09/10/2023         10415     HIGHLAND YOGHURT 80ML  12.0\n",
       "34628  09/10/2023         10415     HIGHLAND YOGHURT 80ML   9.0\n",
       "34629  09/10/2023         10415     HIGHLAND YOGHURT 80ML  13.0\n",
       "34630  09/10/2023         10415     HIGHLAND YOGHURT 80ML   7.0\n",
       "34631  09/10/2023         10415     HIGHLAND YOGHURT 80ML   5.0\n",
       "\n",
       "[34632 rows x 4 columns]"
      ]
     },
     "execution_count": 79,
     "metadata": {},
     "output_type": "execute_result"
    }
   ],
   "source": [
    "final_df"
   ]
  },
  {
   "cell_type": "markdown",
   "metadata": {},
   "source": [
    "<h1><strong>EDA on the Sales Dataset<strong><h1>"
   ]
  },
  {
   "cell_type": "markdown",
   "metadata": {},
   "source": [
    "<h2>1. Using .describe()</h2>"
   ]
  },
  {
   "cell_type": "code",
   "execution_count": 80,
   "metadata": {},
   "outputs": [
    {
     "name": "stdout",
     "output_type": "stream",
     "text": [
      "       PRODUCT CODE           QTY\n",
      "count  34632.000000  34632.000000\n",
      "mean   14353.275930     11.285710\n",
      "std     7934.239623     40.150993\n",
      "min    10198.000000  -2160.000000\n",
      "25%    10415.000000      1.000000\n",
      "50%    10444.000000      3.000000\n",
      "75%    12978.000000      8.000000\n",
      "max    57096.000000   2875.000000\n"
     ]
    }
   ],
   "source": [
    "print(final_df.describe())# get a quick summary on the dataset from the quanitity values"
   ]
  },
  {
   "cell_type": "markdown",
   "metadata": {},
   "source": [
    "A total of 34632 products were sold. <br>\n",
    "Product code 12974 has been the most frequently purchased products while 25% of the products purchased are of code 10415. Lets look into more detail"
   ]
  },
  {
   "cell_type": "markdown",
   "metadata": {},
   "source": [
    "<h2>2. Check for missing values</h2>"
   ]
  },
  {
   "cell_type": "code",
   "execution_count": 81,
   "metadata": {},
   "outputs": [
    {
     "name": "stdout",
     "output_type": "stream",
     "text": [
      "Total number of missing values: 0\n",
      "Total number of rows with zero quantity and empty description: 0\n"
     ]
    }
   ],
   "source": [
    "missingValues = final_df.isna().sum().sum()\n",
    "print(f'Total number of missing values: {missingValues}')\n",
    "\n",
    "zero_quantity = final_df['QTY'] == 0\n",
    "empty_description = final_df['DESCRIPTION'].isna()\n",
    "\n",
    "total = (zero_quantity & empty_description).sum()\n",
    "print(f'Total number of rows with zero quantity and empty description: {total}')"
   ]
  },
  {
   "cell_type": "markdown",
   "metadata": {},
   "source": [
    "There are no rows with missing values in the dataset. However, there are some negative values in the QTY column."
   ]
  },
  {
   "cell_type": "markdown",
   "metadata": {},
   "source": [
    "<h2>3. Convert the columns to correct date types</h2>"
   ]
  },
  {
   "cell_type": "code",
   "execution_count": 82,
   "metadata": {},
   "outputs": [
    {
     "data": {
      "text/html": [
       "<div>\n",
       "<style scoped>\n",
       "    .dataframe tbody tr th:only-of-type {\n",
       "        vertical-align: middle;\n",
       "    }\n",
       "\n",
       "    .dataframe tbody tr th {\n",
       "        vertical-align: top;\n",
       "    }\n",
       "\n",
       "    .dataframe thead th {\n",
       "        text-align: right;\n",
       "    }\n",
       "</style>\n",
       "<table border=\"1\" class=\"dataframe\">\n",
       "  <thead>\n",
       "    <tr style=\"text-align: right;\">\n",
       "      <th></th>\n",
       "      <th>DATE</th>\n",
       "      <th>PRODUCT CODE</th>\n",
       "      <th>DESCRIPTION</th>\n",
       "      <th>QTY</th>\n",
       "    </tr>\n",
       "  </thead>\n",
       "  <tbody>\n",
       "    <tr>\n",
       "      <th>0</th>\n",
       "      <td>26/01/2022</td>\n",
       "      <td>10415</td>\n",
       "      <td>HIGHLAND YOGHURT 80ML</td>\n",
       "      <td>148</td>\n",
       "    </tr>\n",
       "    <tr>\n",
       "      <th>1</th>\n",
       "      <td>27/01/2022</td>\n",
       "      <td>10415</td>\n",
       "      <td>HIGHLAND YOGHURT 80ML</td>\n",
       "      <td>30</td>\n",
       "    </tr>\n",
       "    <tr>\n",
       "      <th>2</th>\n",
       "      <td>27/01/2022</td>\n",
       "      <td>10415</td>\n",
       "      <td>HIGHLAND YOGHURT 80ML</td>\n",
       "      <td>6</td>\n",
       "    </tr>\n",
       "    <tr>\n",
       "      <th>3</th>\n",
       "      <td>25/01/2022</td>\n",
       "      <td>10415</td>\n",
       "      <td>HIGHLAND YOGHURT 80ML</td>\n",
       "      <td>94</td>\n",
       "    </tr>\n",
       "    <tr>\n",
       "      <th>4</th>\n",
       "      <td>25/01/2022</td>\n",
       "      <td>10415</td>\n",
       "      <td>HIGHLAND YOGHURT 80ML</td>\n",
       "      <td>137</td>\n",
       "    </tr>\n",
       "    <tr>\n",
       "      <th>...</th>\n",
       "      <td>...</td>\n",
       "      <td>...</td>\n",
       "      <td>...</td>\n",
       "      <td>...</td>\n",
       "    </tr>\n",
       "    <tr>\n",
       "      <th>5776</th>\n",
       "      <td>09/10/2023</td>\n",
       "      <td>10415</td>\n",
       "      <td>HIGHLAND YOGHURT 80ML</td>\n",
       "      <td>12</td>\n",
       "    </tr>\n",
       "    <tr>\n",
       "      <th>5777</th>\n",
       "      <td>09/10/2023</td>\n",
       "      <td>10415</td>\n",
       "      <td>HIGHLAND YOGHURT 80ML</td>\n",
       "      <td>9</td>\n",
       "    </tr>\n",
       "    <tr>\n",
       "      <th>5778</th>\n",
       "      <td>09/10/2023</td>\n",
       "      <td>10415</td>\n",
       "      <td>HIGHLAND YOGHURT 80ML</td>\n",
       "      <td>13</td>\n",
       "    </tr>\n",
       "    <tr>\n",
       "      <th>5779</th>\n",
       "      <td>09/10/2023</td>\n",
       "      <td>10415</td>\n",
       "      <td>HIGHLAND YOGHURT 80ML</td>\n",
       "      <td>7</td>\n",
       "    </tr>\n",
       "    <tr>\n",
       "      <th>5780</th>\n",
       "      <td>09/10/2023</td>\n",
       "      <td>10415</td>\n",
       "      <td>HIGHLAND YOGHURT 80ML</td>\n",
       "      <td>5</td>\n",
       "    </tr>\n",
       "  </tbody>\n",
       "</table>\n",
       "<p>5781 rows × 4 columns</p>\n",
       "</div>"
      ],
      "text/plain": [
       "            DATE  PRODUCT CODE            DESCRIPTION  QTY\n",
       "0     26/01/2022         10415  HIGHLAND YOGHURT 80ML  148\n",
       "1     27/01/2022         10415  HIGHLAND YOGHURT 80ML   30\n",
       "2     27/01/2022         10415  HIGHLAND YOGHURT 80ML    6\n",
       "3     25/01/2022         10415  HIGHLAND YOGHURT 80ML   94\n",
       "4     25/01/2022         10415  HIGHLAND YOGHURT 80ML  137\n",
       "...          ...           ...                    ...  ...\n",
       "5776  09/10/2023         10415  HIGHLAND YOGHURT 80ML   12\n",
       "5777  09/10/2023         10415  HIGHLAND YOGHURT 80ML    9\n",
       "5778  09/10/2023         10415  HIGHLAND YOGHURT 80ML   13\n",
       "5779  09/10/2023         10415  HIGHLAND YOGHURT 80ML    7\n",
       "5780  09/10/2023         10415  HIGHLAND YOGHURT 80ML    5\n",
       "\n",
       "[5781 rows x 4 columns]"
      ]
     },
     "execution_count": 82,
     "metadata": {},
     "output_type": "execute_result"
    }
   ],
   "source": [
    "import pandas as pd\n",
    "\n",
    "\n",
    "final_df['DATE'] = pd.to_datetime(final_df['DATE'], format='%d/%m/%Y')  # split the function to correct format\n",
    "\n",
    "final_df['Day'] = final_df['DATE'].dt.day\n",
    "final_df['Month'] = final_df['DATE'].dt.month\n",
    "final_df['Year'] = final_df['DATE'].dt.year\n",
    "final_df['DayOfWeek'] = final_df['DATE'].dt.day_name()\n",
    "\n",
    "df"
   ]
  },
  {
   "cell_type": "markdown",
   "metadata": {},
   "source": [
    "added new features such as splitting the date column to day/month/year and the dayoftheweek"
   ]
  },
  {
   "cell_type": "code",
   "execution_count": 83,
   "metadata": {},
   "outputs": [],
   "source": [
    "final_df=final_df.drop([\"PRODUCT CODE\"],axis=1)"
   ]
  },
  {
   "cell_type": "markdown",
   "metadata": {},
   "source": [
    "dropping product code as its not required"
   ]
  },
  {
   "cell_type": "code",
   "execution_count": 84,
   "metadata": {},
   "outputs": [
    {
     "data": {
      "text/plain": [
       "32"
      ]
     },
     "execution_count": 84,
     "metadata": {},
     "output_type": "execute_result"
    }
   ],
   "source": [
    "description = final_df[\"DESCRIPTION\"]\n",
    "description.nunique()## to get the number of different products"
   ]
  },
  {
   "cell_type": "code",
   "execution_count": 85,
   "metadata": {},
   "outputs": [
    {
     "data": {
      "image/png": "[encoded data removed]",
      "text/plain": [
       "<Figure size 720x432 with 1 Axes>"
      ]
     },
     "metadata": {
      "needs_background": "light"
     },
     "output_type": "display_data"
    }
   ],
   "source": [
    "\n",
    "top_products = final_df.groupby('DESCRIPTION')['QTY'].sum().sort_values(ascending=False)\n",
    "\n",
    "plt.figure(figsize=(10, 6))\n",
    "top_products.plot(kind='bar')\n",
    "plt.title('Products Sold')\n",
    "plt.xlabel('Product')\n",
    "plt.ylabel('Quantity Sold')\n",
    "plt.show()"
   ]
  },
  {
   "cell_type": "markdown",
   "metadata": {},
   "source": [
    "Highland youghurt has been sold frequently. there are spelling mistakes in the dataset we have to fix this"
   ]
  },
  {
   "cell_type": "markdown",
   "metadata": {},
   "source": [
    "<h2>4. Cleaning data </h2>"
   ]
  },
  {
   "cell_type": "code",
   "execution_count": 86,
   "metadata": {},
   "outputs": [
    {
     "data": {
      "text/plain": [
       "<AxesSubplot:>"
      ]
     },
     "execution_count": 86,
     "metadata": {},
     "output_type": "execute_result"
    },
    {
     "data": {
      "image/png": "[encoded data removed]",
      "text/plain": [
       "<Figure size 144x432 with 1 Axes>"
      ]
     },
     "metadata": {
      "needs_background": "light"
     },
     "output_type": "display_data"
    }
   ],
   "source": [
    "negative_values = final_df[(final_df['QTY'] <= 0)]\n",
    "final_df.boxplot(column=['QTY'], figsize=(2, 6))"
   ]
  },
  {
   "cell_type": "markdown",
   "metadata": {},
   "source": [
    "There are some outliers and incorrect data for quanitity, some of them are less than zero. and one product is less than -2000"
   ]
  },
  {
   "cell_type": "markdown",
   "metadata": {},
   "source": [
    "the wheat flour product has -2160 as the quanitiy sold on that day"
   ]
  },
  {
   "cell_type": "code",
   "execution_count": 87,
   "metadata": {},
   "outputs": [
    {
     "data": {
      "text/plain": [
       "<AxesSubplot:>"
      ]
     },
     "execution_count": 87,
     "metadata": {},
     "output_type": "execute_result"
    },
    {
     "data": {
      "image/png": "[encoded data removed]",
      "text/plain": [
       "<Figure size 144x432 with 1 Axes>"
      ]
     },
     "metadata": {
      "needs_background": "light"
     },
     "output_type": "display_data"
    }
   ],
   "source": [
    "negative_values = final_df[(final_df['QTY'] <= 0)]\n",
    "final_df.boxplot(column=['QTY'], figsize=(2, 6))"
   ]
  },
  {
   "cell_type": "markdown",
   "metadata": {},
   "source": [
    "Now the QTY column is fixed, have to fix the descriptions"
   ]
  },
  {
   "cell_type": "code",
   "execution_count": 88,
   "metadata": {},
   "outputs": [
    {
     "data": {
      "text/html": [
       "<div>\n",
       "<style scoped>\n",
       "    .dataframe tbody tr th:only-of-type {\n",
       "        vertical-align: middle;\n",
       "    }\n",
       "\n",
       "    .dataframe tbody tr th {\n",
       "        vertical-align: top;\n",
       "    }\n",
       "\n",
       "    .dataframe thead th {\n",
       "        text-align: right;\n",
       "    }\n",
       "</style>\n",
       "<table border=\"1\" class=\"dataframe\">\n",
       "  <thead>\n",
       "    <tr style=\"text-align: right;\">\n",
       "      <th></th>\n",
       "      <th>Day</th>\n",
       "      <th>Month</th>\n",
       "      <th>Year</th>\n",
       "      <th>DayOfWeek</th>\n",
       "      <th>Product Name</th>\n",
       "      <th>Product Quantity</th>\n",
       "      <th>Date</th>\n",
       "      <th>Units sold</th>\n",
       "    </tr>\n",
       "  </thead>\n",
       "  <tbody>\n",
       "    <tr>\n",
       "      <th>0</th>\n",
       "      <td>2</td>\n",
       "      <td>1</td>\n",
       "      <td>2022</td>\n",
       "      <td>Sunday</td>\n",
       "      <td>AMBEWELA SET YOGURT</td>\n",
       "      <td>80ML</td>\n",
       "      <td>2022-01-02</td>\n",
       "      <td>6.0</td>\n",
       "    </tr>\n",
       "    <tr>\n",
       "      <th>1</th>\n",
       "      <td>1</td>\n",
       "      <td>1</td>\n",
       "      <td>2022</td>\n",
       "      <td>Saturday</td>\n",
       "      <td>AMBEWELA SET YOGURT</td>\n",
       "      <td>80ML</td>\n",
       "      <td>2022-01-01</td>\n",
       "      <td>6.0</td>\n",
       "    </tr>\n",
       "    <tr>\n",
       "      <th>2</th>\n",
       "      <td>1</td>\n",
       "      <td>1</td>\n",
       "      <td>2022</td>\n",
       "      <td>Saturday</td>\n",
       "      <td>AMBEWELA SET YOGURT</td>\n",
       "      <td>80ML</td>\n",
       "      <td>2022-01-01</td>\n",
       "      <td>1.0</td>\n",
       "    </tr>\n",
       "    <tr>\n",
       "      <th>3</th>\n",
       "      <td>1</td>\n",
       "      <td>1</td>\n",
       "      <td>2022</td>\n",
       "      <td>Saturday</td>\n",
       "      <td>AMBEWELA SET YOGURT</td>\n",
       "      <td>80ML</td>\n",
       "      <td>2022-01-01</td>\n",
       "      <td>6.0</td>\n",
       "    </tr>\n",
       "    <tr>\n",
       "      <th>4</th>\n",
       "      <td>2</td>\n",
       "      <td>1</td>\n",
       "      <td>2022</td>\n",
       "      <td>Sunday</td>\n",
       "      <td>AMBEWELA SET YOGURT</td>\n",
       "      <td>80ML</td>\n",
       "      <td>2022-01-02</td>\n",
       "      <td>10.0</td>\n",
       "    </tr>\n",
       "    <tr>\n",
       "      <th>...</th>\n",
       "      <td>...</td>\n",
       "      <td>...</td>\n",
       "      <td>...</td>\n",
       "      <td>...</td>\n",
       "      <td>...</td>\n",
       "      <td>...</td>\n",
       "      <td>...</td>\n",
       "      <td>...</td>\n",
       "    </tr>\n",
       "    <tr>\n",
       "      <th>34627</th>\n",
       "      <td>9</td>\n",
       "      <td>10</td>\n",
       "      <td>2023</td>\n",
       "      <td>Monday</td>\n",
       "      <td>HIGHLAND YOGHURT</td>\n",
       "      <td>80ML</td>\n",
       "      <td>2023-10-09</td>\n",
       "      <td>12.0</td>\n",
       "    </tr>\n",
       "    <tr>\n",
       "      <th>34628</th>\n",
       "      <td>9</td>\n",
       "      <td>10</td>\n",
       "      <td>2023</td>\n",
       "      <td>Monday</td>\n",
       "      <td>HIGHLAND YOGHURT</td>\n",
       "      <td>80ML</td>\n",
       "      <td>2023-10-09</td>\n",
       "      <td>9.0</td>\n",
       "    </tr>\n",
       "    <tr>\n",
       "      <th>34629</th>\n",
       "      <td>9</td>\n",
       "      <td>10</td>\n",
       "      <td>2023</td>\n",
       "      <td>Monday</td>\n",
       "      <td>HIGHLAND YOGHURT</td>\n",
       "      <td>80ML</td>\n",
       "      <td>2023-10-09</td>\n",
       "      <td>13.0</td>\n",
       "    </tr>\n",
       "    <tr>\n",
       "      <th>34630</th>\n",
       "      <td>9</td>\n",
       "      <td>10</td>\n",
       "      <td>2023</td>\n",
       "      <td>Monday</td>\n",
       "      <td>HIGHLAND YOGHURT</td>\n",
       "      <td>80ML</td>\n",
       "      <td>2023-10-09</td>\n",
       "      <td>7.0</td>\n",
       "    </tr>\n",
       "    <tr>\n",
       "      <th>34631</th>\n",
       "      <td>9</td>\n",
       "      <td>10</td>\n",
       "      <td>2023</td>\n",
       "      <td>Monday</td>\n",
       "      <td>HIGHLAND YOGHURT</td>\n",
       "      <td>80ML</td>\n",
       "      <td>2023-10-09</td>\n",
       "      <td>5.0</td>\n",
       "    </tr>\n",
       "  </tbody>\n",
       "</table>\n",
       "<p>34632 rows × 8 columns</p>\n",
       "</div>"
      ],
      "text/plain": [
       "       Day  Month  Year DayOfWeek         Product Name Product Quantity  \\\n",
       "0        2      1  2022    Sunday  AMBEWELA SET YOGURT             80ML   \n",
       "1        1      1  2022  Saturday  AMBEWELA SET YOGURT             80ML   \n",
       "2        1      1  2022  Saturday  AMBEWELA SET YOGURT             80ML   \n",
       "3        1      1  2022  Saturday  AMBEWELA SET YOGURT             80ML   \n",
       "4        2      1  2022    Sunday  AMBEWELA SET YOGURT             80ML   \n",
       "...    ...    ...   ...       ...                  ...              ...   \n",
       "34627    9     10  2023    Monday     HIGHLAND YOGHURT             80ML   \n",
       "34628    9     10  2023    Monday     HIGHLAND YOGHURT             80ML   \n",
       "34629    9     10  2023    Monday     HIGHLAND YOGHURT             80ML   \n",
       "34630    9     10  2023    Monday     HIGHLAND YOGHURT             80ML   \n",
       "34631    9     10  2023    Monday     HIGHLAND YOGHURT             80ML   \n",
       "\n",
       "            Date  Units sold  \n",
       "0     2022-01-02         6.0  \n",
       "1     2022-01-01         6.0  \n",
       "2     2022-01-01         1.0  \n",
       "3     2022-01-01         6.0  \n",
       "4     2022-01-02        10.0  \n",
       "...          ...         ...  \n",
       "34627 2023-10-09        12.0  \n",
       "34628 2023-10-09         9.0  \n",
       "34629 2023-10-09        13.0  \n",
       "34630 2023-10-09         7.0  \n",
       "34631 2023-10-09         5.0  \n",
       "\n",
       "[34632 rows x 8 columns]"
      ]
     },
     "execution_count": 88,
     "metadata": {},
     "output_type": "execute_result"
    }
   ],
   "source": [
    "# before doing that we gotto split the description based on the product name and quantity\n",
    "final_df[['Product Name', 'Product Quantity']] = final_df['DESCRIPTION'].str.rsplit(' ', n=1, expand=True)\n",
    "final_df[\"Date\"] =final_df[\"DATE\"]\n",
    "final_df[\"Units sold\"]=final_df[\"QTY\"]\n",
    "final_df.drop([\"DATE\",\"DESCRIPTION\",\"QTY\"],axis=1,inplace=True)\n",
    "final_df"
   ]
  },
  {
   "cell_type": "markdown",
   "metadata": {},
   "source": [
    "Convert the units sold to an integer and rearrange the columns"
   ]
  },
  {
   "cell_type": "code",
   "execution_count": 94,
   "metadata": {},
   "outputs": [
    {
     "data": {
      "text/html": [
       "<div>\n",
       "<style scoped>\n",
       "    .dataframe tbody tr th:only-of-type {\n",
       "        vertical-align: middle;\n",
       "    }\n",
       "\n",
       "    .dataframe tbody tr th {\n",
       "        vertical-align: top;\n",
       "    }\n",
       "\n",
       "    .dataframe thead th {\n",
       "        text-align: right;\n",
       "    }\n",
       "</style>\n",
       "<table border=\"1\" class=\"dataframe\">\n",
       "  <thead>\n",
       "    <tr style=\"text-align: right;\">\n",
       "      <th></th>\n",
       "      <th>Date</th>\n",
       "      <th>Product Name</th>\n",
       "      <th>Product Quantity</th>\n",
       "      <th>Units sold</th>\n",
       "      <th>Day</th>\n",
       "      <th>Month</th>\n",
       "      <th>Year</th>\n",
       "      <th>DayOfWeek</th>\n",
       "    </tr>\n",
       "  </thead>\n",
       "  <tbody>\n",
       "    <tr>\n",
       "      <th>0</th>\n",
       "      <td>2022-01-02</td>\n",
       "      <td>AMBEWELA SET YOGURT</td>\n",
       "      <td>80ML</td>\n",
       "      <td>6</td>\n",
       "      <td>2</td>\n",
       "      <td>1</td>\n",
       "      <td>2022</td>\n",
       "      <td>Sunday</td>\n",
       "    </tr>\n",
       "    <tr>\n",
       "      <th>1</th>\n",
       "      <td>2022-01-01</td>\n",
       "      <td>AMBEWELA SET YOGURT</td>\n",
       "      <td>80ML</td>\n",
       "      <td>6</td>\n",
       "      <td>1</td>\n",
       "      <td>1</td>\n",
       "      <td>2022</td>\n",
       "      <td>Saturday</td>\n",
       "    </tr>\n",
       "    <tr>\n",
       "      <th>2</th>\n",
       "      <td>2022-01-01</td>\n",
       "      <td>AMBEWELA SET YOGURT</td>\n",
       "      <td>80ML</td>\n",
       "      <td>1</td>\n",
       "      <td>1</td>\n",
       "      <td>1</td>\n",
       "      <td>2022</td>\n",
       "      <td>Saturday</td>\n",
       "    </tr>\n",
       "    <tr>\n",
       "      <th>3</th>\n",
       "      <td>2022-01-01</td>\n",
       "      <td>AMBEWELA SET YOGURT</td>\n",
       "      <td>80ML</td>\n",
       "      <td>6</td>\n",
       "      <td>1</td>\n",
       "      <td>1</td>\n",
       "      <td>2022</td>\n",
       "      <td>Saturday</td>\n",
       "    </tr>\n",
       "    <tr>\n",
       "      <th>4</th>\n",
       "      <td>2022-01-02</td>\n",
       "      <td>AMBEWELA SET YOGURT</td>\n",
       "      <td>80ML</td>\n",
       "      <td>10</td>\n",
       "      <td>2</td>\n",
       "      <td>1</td>\n",
       "      <td>2022</td>\n",
       "      <td>Sunday</td>\n",
       "    </tr>\n",
       "    <tr>\n",
       "      <th>...</th>\n",
       "      <td>...</td>\n",
       "      <td>...</td>\n",
       "      <td>...</td>\n",
       "      <td>...</td>\n",
       "      <td>...</td>\n",
       "      <td>...</td>\n",
       "      <td>...</td>\n",
       "      <td>...</td>\n",
       "    </tr>\n",
       "    <tr>\n",
       "      <th>34627</th>\n",
       "      <td>2023-10-09</td>\n",
       "      <td>HIGHLAND YOGHURT</td>\n",
       "      <td>80ML</td>\n",
       "      <td>12</td>\n",
       "      <td>9</td>\n",
       "      <td>10</td>\n",
       "      <td>2023</td>\n",
       "      <td>Monday</td>\n",
       "    </tr>\n",
       "    <tr>\n",
       "      <th>34628</th>\n",
       "      <td>2023-10-09</td>\n",
       "      <td>HIGHLAND YOGHURT</td>\n",
       "      <td>80ML</td>\n",
       "      <td>9</td>\n",
       "      <td>9</td>\n",
       "      <td>10</td>\n",
       "      <td>2023</td>\n",
       "      <td>Monday</td>\n",
       "    </tr>\n",
       "    <tr>\n",
       "      <th>34629</th>\n",
       "      <td>2023-10-09</td>\n",
       "      <td>HIGHLAND YOGHURT</td>\n",
       "      <td>80ML</td>\n",
       "      <td>13</td>\n",
       "      <td>9</td>\n",
       "      <td>10</td>\n",
       "      <td>2023</td>\n",
       "      <td>Monday</td>\n",
       "    </tr>\n",
       "    <tr>\n",
       "      <th>34630</th>\n",
       "      <td>2023-10-09</td>\n",
       "      <td>HIGHLAND YOGHURT</td>\n",
       "      <td>80ML</td>\n",
       "      <td>7</td>\n",
       "      <td>9</td>\n",
       "      <td>10</td>\n",
       "      <td>2023</td>\n",
       "      <td>Monday</td>\n",
       "    </tr>\n",
       "    <tr>\n",
       "      <th>34631</th>\n",
       "      <td>2023-10-09</td>\n",
       "      <td>HIGHLAND YOGHURT</td>\n",
       "      <td>80ML</td>\n",
       "      <td>5</td>\n",
       "      <td>9</td>\n",
       "      <td>10</td>\n",
       "      <td>2023</td>\n",
       "      <td>Monday</td>\n",
       "    </tr>\n",
       "  </tbody>\n",
       "</table>\n",
       "<p>34632 rows × 8 columns</p>\n",
       "</div>"
      ],
      "text/plain": [
       "            Date         Product Name Product Quantity  Units sold  Day  \\\n",
       "0     2022-01-02  AMBEWELA SET YOGURT             80ML           6    2   \n",
       "1     2022-01-01  AMBEWELA SET YOGURT             80ML           6    1   \n",
       "2     2022-01-01  AMBEWELA SET YOGURT             80ML           1    1   \n",
       "3     2022-01-01  AMBEWELA SET YOGURT             80ML           6    1   \n",
       "4     2022-01-02  AMBEWELA SET YOGURT             80ML          10    2   \n",
       "...          ...                  ...              ...         ...  ...   \n",
       "34627 2023-10-09     HIGHLAND YOGHURT             80ML          12    9   \n",
       "34628 2023-10-09     HIGHLAND YOGHURT             80ML           9    9   \n",
       "34629 2023-10-09     HIGHLAND YOGHURT             80ML          13    9   \n",
       "34630 2023-10-09     HIGHLAND YOGHURT             80ML           7    9   \n",
       "34631 2023-10-09     HIGHLAND YOGHURT             80ML           5    9   \n",
       "\n",
       "       Month  Year DayOfWeek  \n",
       "0          1  2022    Sunday  \n",
       "1          1  2022  Saturday  \n",
       "2          1  2022  Saturday  \n",
       "3          1  2022  Saturday  \n",
       "4          1  2022    Sunday  \n",
       "...      ...   ...       ...  \n",
       "34627     10  2023    Monday  \n",
       "34628     10  2023    Monday  \n",
       "34629     10  2023    Monday  \n",
       "34630     10  2023    Monday  \n",
       "34631     10  2023    Monday  \n",
       "\n",
       "[34632 rows x 8 columns]"
      ]
     },
     "execution_count": 94,
     "metadata": {},
     "output_type": "execute_result"
    }
   ],
   "source": [
    "final_df[\"Units sold\"] = final_df[\"Units sold\"].astype(int)\n",
    "final_df = final_df[[\"Date\", \"Product Name\", \"Product Quantity\", \"Units sold\", \"Day\", \"Month\", \"Year\", \"DayOfWeek\"]]\n",
    "final_df"
   ]
  },
  {
   "cell_type": "markdown",
   "metadata": {},
   "source": [
    "Convert the product quanitity to correct metrics ex L,ML,G,KG"
   ]
  },
  {
   "cell_type": "code",
   "execution_count": null,
   "metadata": {},
   "outputs": [],
   "source": []
  }
 ],
 "metadata": {
  "kernelspec": {
   "display_name": "Python 3",
   "language": "python",
   "name": "python3"
  },
  "language_info": {
   "codemirror_mode": {
    "name": "ipython",
    "version": 3
   },
   "file_extension": ".py",
   "mimetype": "text/x-python",
   "name": "python",
   "nbconvert_exporter": "python",
   "pygments_lexer": "ipython3",
   "version": "3.9.1"
  }
 },
 "nbformat": 4,
 "nbformat_minor": 2
}
