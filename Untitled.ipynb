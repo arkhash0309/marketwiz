{
 "cells": [
  {
   "cell_type": "markdown",
   "id": "d9d13b43",
   "metadata": {},
   "source": [
    "# Imports"
   ]
  },
  {
   "cell_type": "code",
   "execution_count": 159,
   "id": "46c4fb97",
   "metadata": {},
   "outputs": [],
   "source": [
    "import numpy as np\n",
    "import pandas as pd\n",
    "from sklearn.linear_model import LinearRegression\n",
    "from pandas import DataFrame, Series\n",
    "from sklearn.model_selection import train_test_split\n",
    "from IPython.display import Image \n",
    "import io\n",
    "from sklearn import tree\n",
    "# import pydotplus\n",
    "from sklearn import preprocessing\n",
    "from sklearn.ensemble import RandomForestClassifier\n",
    "from sklearn.tree import export_graphviz\n",
    "# from sklearn.metrics import plot_confusion_matrix\n",
    "import matplotlib.pyplot as plt\n",
    "# import graphviz\n",
    "import io\n",
    "from scipy import misc\n",
    "%matplotlib inline"
   ]
  },
  {
   "cell_type": "markdown",
   "id": "a6887d29",
   "metadata": {},
   "source": [
    "# Import dataset"
   ]
  },
  {
   "cell_type": "code",
   "execution_count": 160,
   "id": "7e854f31",
   "metadata": {},
   "outputs": [
    {
     "name": "stdout",
     "output_type": "stream",
     "text": [
      "   Date  Month  Year   RF  T max   T min  Avg_tem\n",
      "0     1     10  2013  0.0    31.1   25.8    28.45\n",
      "1     2     10  2013  0.0    31.3   27.5    29.40\n",
      "2     3     10  2013  1.6    31.3   27.3    29.30 \n",
      "...\n",
      "...\n",
      "...\n",
      "       Date  Month  Year    RF  T max   T min  Avg_tem\n",
      "3650    29      9  2023  60.3    29.8   23.8    26.80\n",
      "3651    30      9  2023  29.6    30.4   23.5    26.95\n"
     ]
    }
   ],
   "source": [
    "data1 = pd.read_csv('SLdata.csv')\n",
    "data = pd.read_csv('NewSl.csv')\n",
    "print(data.head(3), '\\n...\\n...\\n...\\n',data.tail(2))"
   ]
  },
  {
   "cell_type": "code",
   "execution_count": 161,
   "id": "e2fe543e",
   "metadata": {},
   "outputs": [
    {
     "data": {
      "text/plain": [
       "Date         int64\n",
       "Month        int64\n",
       "Year         int64\n",
       "RF         float64\n",
       "T max      float64\n",
       "T min      float64\n",
       "Avg_tem    float64\n",
       "dtype: object"
      ]
     },
     "execution_count": 161,
     "metadata": {},
     "output_type": "execute_result"
    }
   ],
   "source": [
    "data.dtypes"
   ]
  },
  {
   "cell_type": "code",
   "execution_count": 162,
   "id": "d1a59f49",
   "metadata": {},
   "outputs": [
    {
     "data": {
      "text/plain": [
       "0       28.45\n",
       "1       29.40\n",
       "2       29.30\n",
       "3       28.20\n",
       "4       27.60\n",
       "        ...  \n",
       "3647    28.85\n",
       "3648    27.50\n",
       "3649    26.65\n",
       "3650    26.80\n",
       "3651    26.95\n",
       "Name: Avg_tem, Length: 3652, dtype: float64"
      ]
     },
     "execution_count": 162,
     "metadata": {},
     "output_type": "execute_result"
    }
   ],
   "source": [
    "pd.to_numeric(data['Avg_tem'])"
   ]
  },
  {
   "cell_type": "markdown",
   "id": "cc1321af",
   "metadata": {},
   "source": [
    "# Create two separate list"
   ]
  },
  {
   "cell_type": "code",
   "execution_count": 163,
   "id": "8ec6d920",
   "metadata": {},
   "outputs": [],
   "source": [
    "rain = data['RF']\n",
    "temp = data['Avg_tem']"
   ]
  },
  {
   "cell_type": "code",
   "execution_count": 164,
   "id": "6d7b34ec",
   "metadata": {},
   "outputs": [
    {
     "name": "stdout",
     "output_type": "stream",
     "text": [
      "0        0.0\n",
      "1        0.0\n",
      "2        1.6\n",
      "3        5.8\n",
      "4        0.3\n",
      "        ... \n",
      "3647    18.4\n",
      "3648    42.4\n",
      "3649    63.4\n",
      "3650    60.3\n",
      "3651    29.6\n",
      "Name: RF, Length: 3652, dtype: float64\n"
     ]
    }
   ],
   "source": [
    "print(rain)"
   ]
  },
  {
   "cell_type": "code",
   "execution_count": 165,
   "id": "aee76900",
   "metadata": {},
   "outputs": [
    {
     "name": "stdout",
     "output_type": "stream",
     "text": [
      "0       28.45\n",
      "1       29.40\n",
      "2       29.30\n",
      "3       28.20\n",
      "4       27.60\n",
      "        ...  \n",
      "3647    28.85\n",
      "3648    27.50\n",
      "3649    26.65\n",
      "3650    26.80\n",
      "3651    26.95\n",
      "Name: Avg_tem, Length: 3652, dtype: float64\n"
     ]
    }
   ],
   "source": [
    "print(temp)"
   ]
  },
  {
   "cell_type": "markdown",
   "id": "2091a903",
   "metadata": {},
   "source": [
    "# Creating categorical values"
   ]
  },
  {
   "cell_type": "code",
   "execution_count": 166,
   "id": "5d62657d",
   "metadata": {},
   "outputs": [
    {
     "name": "stdout",
     "output_type": "stream",
     "text": [
      "Size of weather: 3652\n"
     ]
    }
   ],
   "source": [
    "weather = []\n",
    "for t,r in zip(temp, rain):\n",
    "  if t >=28 and t <=29:\n",
    "    if r >=63 and r<=105:\n",
    "      weather.append('Normal Normal')\n",
    "    elif r >105 :\n",
    "      weather.append('Normal Wet')\n",
    "    elif r <63:\n",
    "      weather.append('Normal Dry')\n",
    "  elif t<28:\n",
    "    if r >=16.5 and r<=17.5:\n",
    "      weather.append('Cold Normal')\n",
    "    elif r >17.5 :\n",
    "      weather.append('Cold Wet')\n",
    "    elif r <16.5:\n",
    "      weather.append('Cold Dry')\n",
    "  elif t>29:\n",
    "    if r >=63 and r<=105:\n",
    "      weather.append('Warm Normal')\n",
    "    elif r >105 :\n",
    "      weather.append('Warm Wet')\n",
    "    elif r <63:\n",
    "      weather.append('Warm Dry')\n",
    "print('Size of weather:',len(weather))"
   ]
  },
  {
   "cell_type": "markdown",
   "id": "1cd530a1",
   "metadata": {},
   "source": [
    "# Creating 'Weather' column"
   ]
  },
  {
   "cell_type": "code",
   "execution_count": 167,
   "id": "10cc8ee0",
   "metadata": {},
   "outputs": [
    {
     "data": {
      "text/html": [
       "<div>\n",
       "<style scoped>\n",
       "    .dataframe tbody tr th:only-of-type {\n",
       "        vertical-align: middle;\n",
       "    }\n",
       "\n",
       "    .dataframe tbody tr th {\n",
       "        vertical-align: top;\n",
       "    }\n",
       "\n",
       "    .dataframe thead th {\n",
       "        text-align: right;\n",
       "    }\n",
       "</style>\n",
       "<table border=\"1\" class=\"dataframe\">\n",
       "  <thead>\n",
       "    <tr style=\"text-align: right;\">\n",
       "      <th></th>\n",
       "      <th>Date</th>\n",
       "      <th>Month</th>\n",
       "      <th>Year</th>\n",
       "      <th>RF</th>\n",
       "      <th>T max</th>\n",
       "      <th>T min</th>\n",
       "      <th>Avg_tem</th>\n",
       "      <th>weather</th>\n",
       "    </tr>\n",
       "  </thead>\n",
       "  <tbody>\n",
       "    <tr>\n",
       "      <th>0</th>\n",
       "      <td>1</td>\n",
       "      <td>10</td>\n",
       "      <td>2013</td>\n",
       "      <td>0.0</td>\n",
       "      <td>31.1</td>\n",
       "      <td>25.8</td>\n",
       "      <td>28.45</td>\n",
       "      <td>Normal Dry</td>\n",
       "    </tr>\n",
       "    <tr>\n",
       "      <th>1</th>\n",
       "      <td>2</td>\n",
       "      <td>10</td>\n",
       "      <td>2013</td>\n",
       "      <td>0.0</td>\n",
       "      <td>31.3</td>\n",
       "      <td>27.5</td>\n",
       "      <td>29.40</td>\n",
       "      <td>Warm Dry</td>\n",
       "    </tr>\n",
       "    <tr>\n",
       "      <th>2</th>\n",
       "      <td>3</td>\n",
       "      <td>10</td>\n",
       "      <td>2013</td>\n",
       "      <td>1.6</td>\n",
       "      <td>31.3</td>\n",
       "      <td>27.3</td>\n",
       "      <td>29.30</td>\n",
       "      <td>Warm Dry</td>\n",
       "    </tr>\n",
       "    <tr>\n",
       "      <th>3</th>\n",
       "      <td>4</td>\n",
       "      <td>10</td>\n",
       "      <td>2013</td>\n",
       "      <td>5.8</td>\n",
       "      <td>30.7</td>\n",
       "      <td>25.7</td>\n",
       "      <td>28.20</td>\n",
       "      <td>Normal Dry</td>\n",
       "    </tr>\n",
       "    <tr>\n",
       "      <th>4</th>\n",
       "      <td>5</td>\n",
       "      <td>10</td>\n",
       "      <td>2013</td>\n",
       "      <td>0.3</td>\n",
       "      <td>30.8</td>\n",
       "      <td>24.4</td>\n",
       "      <td>27.60</td>\n",
       "      <td>Cold Dry</td>\n",
       "    </tr>\n",
       "  </tbody>\n",
       "</table>\n",
       "</div>"
      ],
      "text/plain": [
       "   Date  Month  Year   RF  T max   T min  Avg_tem     weather\n",
       "0     1     10  2013  0.0    31.1   25.8    28.45  Normal Dry\n",
       "1     2     10  2013  0.0    31.3   27.5    29.40    Warm Dry\n",
       "2     3     10  2013  1.6    31.3   27.3    29.30    Warm Dry\n",
       "3     4     10  2013  5.8    30.7   25.7    28.20  Normal Dry\n",
       "4     5     10  2013  0.3    30.8   24.4    27.60    Cold Dry"
      ]
     },
     "execution_count": 167,
     "metadata": {},
     "output_type": "execute_result"
    }
   ],
   "source": [
    "data['weather'] = weather\n",
    "data.head()"
   ]
  },
  {
   "cell_type": "markdown",
   "id": "f916bac1",
   "metadata": {},
   "source": [
    "# Viewing number of data per category"
   ]
  },
  {
   "cell_type": "code",
   "execution_count": 168,
   "id": "1f71a14d",
   "metadata": {},
   "outputs": [
    {
     "name": "stdout",
     "output_type": "stream",
     "text": [
      "Number of Normal Normal Weather:  weather    9\n",
      "dtype: int64\n",
      "Number of Normal Wet Weather:  weather    5\n",
      "dtype: int64\n",
      "Number of Normal Dry Weahter:  weather    1332\n",
      "dtype: int64\n",
      "Number of Cold Normal Weather:  weather    11\n",
      "dtype: int64\n",
      "Number of Cold Wet Weather:  weather    263\n",
      "dtype: int64\n",
      "Number of Cold Dry Weahter:  weather    1179\n",
      "dtype: int64\n",
      "Number of Warm Normal Weather:  weather    7\n",
      "dtype: int64\n",
      "Number of Warm Wet Weather:  weather    0\n",
      "dtype: int64\n",
      "Number of Warm Dry Weahter:  weather    846\n",
      "dtype: int64\n"
     ]
    }
   ],
   "source": [
    "print('Number of Normal Normal Weather: ',data[['weather']].query(\"weather == 'Normal Normal'\").count())\n",
    "print('Number of Normal Wet Weather: ',data[['weather']].query(\"weather == 'Normal Wet'\").count())\n",
    "print('Number of Normal Dry Weahter: ',data[['weather']].query(\"weather == 'Normal Dry'\").count())\n",
    "\n",
    "print('Number of Cold Normal Weather: ',data[['weather']].query(\"weather == 'Cold Normal'\").count())\n",
    "print('Number of Cold Wet Weather: ',data[['weather']].query(\"weather == 'Cold Wet'\").count())\n",
    "print('Number of Cold Dry Weahter: ',data[['weather']].query(\"weather == 'Cold Dry'\").count())\n",
    "\n",
    "print('Number of Warm Normal Weather: ',data[['weather']].query(\"weather == 'Warm Normal'\").count())\n",
    "print('Number of Warm Wet Weather: ',data[['weather']].query(\"weather == 'Warm Wet'\").count())\n",
    "print('Number of Warm Dry Weahter: ',data[['weather']].query(\"weather == 'Warm Dry'\").count())"
   ]
  },
  {
   "cell_type": "markdown",
   "id": "67b72652",
   "metadata": {},
   "source": [
    "# Making the 'features' list"
   ]
  },
  {
   "cell_type": "code",
   "execution_count": 169,
   "id": "14d47d99",
   "metadata": {},
   "outputs": [],
   "source": [
    "features = data.columns\n",
    "features = [x for x in features if x != 'weather']\n",
    "features\n",
    "class_names = ['Normal Normal', 'Normal Wet', 'Normal Dry', 'Cold Normal', 'Cold Wet', 'Cold Dry', 'Warm Normal', 'Warm Wet', 'Warm Dry']"
   ]
  },
  {
   "cell_type": "markdown",
   "id": "589d4523",
   "metadata": {},
   "source": [
    "# Splitting data in Train and test sets"
   ]
  },
  {
   "cell_type": "code",
   "execution_count": 170,
   "id": "018be2cc",
   "metadata": {},
   "outputs": [
    {
     "name": "stdout",
     "output_type": "stream",
     "text": [
      "Total Data:  3652\n",
      "Data in Train Set:  2921\n",
      "Data in Test Set:  731\n"
     ]
    }
   ],
   "source": [
    "from sklearn.model_selection import train_test_split\n",
    "train,test = train_test_split(data,test_size=0.20, random_state=0)\n",
    "print('Total Data: ', len(data))\n",
    "print('Data in Train Set: ',len(train))\n",
    "print('Data in Test Set: ',len(test))"
   ]
  },
  {
   "cell_type": "code",
   "execution_count": 171,
   "id": "a68e7265",
   "metadata": {},
   "outputs": [
    {
     "name": "stdout",
     "output_type": "stream",
     "text": [
      "      Date  Month  Year    RF  T max   T min  Avg_tem     weather\n",
      "2982    30     11  2021   0.0    30.6   24.8    27.70    Cold Dry\n",
      "3214    20      7  2022   0.0    30.4   26.5    28.45  Normal Dry\n",
      "728     29      9  2015  26.7    28.6   23.7    26.15    Cold Wet\n",
      "2313    31      1  2020   0.0    31.5   24.3    27.90    Cold Dry\n",
      "3641    20      9  2023   0.6    30.0   24.0    27.00    Cold Dry\n",
      "...    ...    ...   ...   ...     ...    ...      ...         ...\n",
      "835     14      1  2016   0.0    31.5   23.4    27.45    Cold Dry\n",
      "3264     8      9  2022   0.0    29.1   25.2    27.15    Cold Dry\n",
      "1653    11      4  2018  13.4    31.9   24.5    28.20  Normal Dry\n",
      "2607    20     11  2020  12.2    30.4   24.2    27.30    Cold Dry\n",
      "2732    25      3  2021   0.0    31.1   25.4    28.25  Normal Dry\n",
      "\n",
      "[2921 rows x 8 columns]\n"
     ]
    }
   ],
   "source": [
    "print(train)"
   ]
  },
  {
   "cell_type": "markdown",
   "id": "2aa9df50",
   "metadata": {},
   "source": [
    "# Creating x_train, y_train, x_test, y_test datasets"
   ]
  },
  {
   "cell_type": "code",
   "execution_count": 172,
   "id": "68c3ae93",
   "metadata": {},
   "outputs": [],
   "source": [
    "x_train = train[features]\n",
    "y_train = train[\"weather\"]\n",
    "\n",
    "x_test = test[features]\n",
    "y_test = test[\"weather\"]"
   ]
  },
  {
   "cell_type": "markdown",
   "id": "61558047",
   "metadata": {},
   "source": [
    "# Applying Random Forest"
   ]
  },
  {
   "cell_type": "code",
   "execution_count": 173,
   "id": "a45bc356",
   "metadata": {},
   "outputs": [],
   "source": [
    "RF = RandomForestClassifier(n_estimators=80, max_depth= 4, random_state=0)"
   ]
  },
  {
   "cell_type": "markdown",
   "id": "817c4657",
   "metadata": {},
   "source": [
    "# Fitting the Random Forest Model"
   ]
  },
  {
   "cell_type": "code",
   "execution_count": 174,
   "id": "8d515984",
   "metadata": {},
   "outputs": [],
   "source": [
    "RF = RF.fit(x_train, y_train)"
   ]
  },
  {
   "cell_type": "markdown",
   "id": "7aabce25",
   "metadata": {},
   "source": [
    "# Prediction the value of y using Random Forest Model"
   ]
  },
  {
   "cell_type": "code",
   "execution_count": 175,
   "id": "2544c1f1",
   "metadata": {},
   "outputs": [],
   "source": [
    "y_pred = RF.predict(x_test)"
   ]
  },
  {
   "cell_type": "code",
   "execution_count": 176,
   "id": "a31af013",
   "metadata": {},
   "outputs": [
    {
     "name": "stdout",
     "output_type": "stream",
     "text": [
      "Prediction data:\n",
      " ['Normal Dry' 'Normal Dry' 'Warm Dry' 'Normal Dry' 'Normal Dry' 'Cold Dry'\n",
      " 'Warm Dry' 'Normal Dry' 'Cold Wet' 'Cold Dry' 'Normal Dry' 'Normal Dry'\n",
      " 'Warm Dry' 'Warm Dry' 'Cold Dry' 'Normal Dry' 'Normal Dry' 'Normal Dry'\n",
      " 'Cold Dry' 'Normal Dry' 'Cold Wet' 'Normal Dry' 'Cold Wet' 'Warm Dry'\n",
      " 'Cold Wet' 'Normal Dry' 'Cold Dry' 'Normal Dry' 'Normal Dry' 'Cold Dry'\n",
      " 'Normal Dry' 'Cold Dry' 'Cold Dry' 'Warm Dry' 'Cold Dry' 'Cold Dry'\n",
      " 'Normal Dry' 'Warm Dry' 'Cold Dry' 'Warm Dry' 'Warm Dry' 'Normal Dry'\n",
      " 'Cold Dry' 'Cold Wet' 'Normal Dry' 'Normal Dry' 'Normal Dry' 'Normal Dry'\n",
      " 'Normal Dry' 'Warm Dry' 'Normal Dry' 'Normal Dry' 'Warm Dry' 'Warm Dry'\n",
      " 'Warm Dry' 'Warm Dry' 'Cold Dry' 'Cold Dry' 'Cold Dry' 'Cold Wet'\n",
      " 'Cold Wet' 'Cold Dry' 'Normal Dry' 'Warm Dry' 'Normal Dry' 'Cold Dry'\n",
      " 'Warm Dry' 'Normal Dry' 'Normal Dry' 'Normal Dry' 'Cold Dry' 'Cold Dry'\n",
      " 'Cold Dry' 'Warm Dry' 'Normal Dry' 'Warm Dry' 'Warm Dry' 'Warm Dry'\n",
      " 'Normal Dry' 'Normal Dry' 'Normal Dry' 'Warm Dry' 'Normal Dry' 'Warm Dry'\n",
      " 'Warm Dry' 'Normal Dry' 'Cold Dry' 'Warm Dry' 'Normal Dry' 'Cold Dry'\n",
      " 'Cold Dry' 'Normal Dry' 'Warm Dry' 'Cold Wet' 'Warm Dry' 'Normal Dry'\n",
      " 'Normal Dry' 'Cold Dry' 'Normal Dry' 'Warm Dry' 'Warm Dry' 'Normal Dry'\n",
      " 'Cold Dry' 'Cold Wet' 'Warm Dry' 'Warm Dry' 'Warm Dry' 'Normal Dry'\n",
      " 'Normal Dry' 'Cold Dry' 'Cold Wet' 'Normal Dry' 'Warm Dry' 'Normal Dry'\n",
      " 'Warm Dry' 'Cold Dry' 'Cold Dry' 'Normal Dry' 'Normal Dry' 'Cold Dry'\n",
      " 'Cold Dry' 'Cold Dry' 'Warm Dry' 'Normal Dry' 'Cold Dry' 'Warm Dry'\n",
      " 'Normal Dry' 'Warm Dry' 'Cold Dry' 'Normal Dry' 'Cold Wet' 'Cold Dry'\n",
      " 'Normal Dry' 'Cold Dry' 'Cold Dry' 'Warm Dry' 'Normal Dry' 'Cold Dry'\n",
      " 'Normal Dry' 'Normal Dry' 'Cold Dry' 'Normal Dry' 'Cold Dry' 'Normal Dry'\n",
      " 'Cold Dry' 'Normal Dry' 'Normal Dry' 'Normal Dry' 'Normal Dry'\n",
      " 'Normal Dry' 'Cold Dry' 'Warm Dry' 'Cold Dry' 'Warm Dry' 'Cold Dry'\n",
      " 'Cold Dry' 'Normal Dry' 'Normal Dry' 'Normal Dry' 'Cold Dry' 'Normal Dry'\n",
      " 'Cold Wet' 'Warm Dry' 'Normal Dry' 'Warm Dry' 'Normal Dry' 'Normal Dry'\n",
      " 'Normal Dry' 'Cold Dry' 'Cold Dry' 'Cold Dry' 'Warm Dry' 'Normal Dry'\n",
      " 'Normal Dry' 'Normal Dry' 'Normal Dry' 'Normal Dry' 'Cold Wet' 'Warm Dry'\n",
      " 'Normal Dry' 'Warm Dry' 'Cold Dry' 'Normal Dry' 'Cold Dry' 'Cold Dry'\n",
      " 'Normal Dry' 'Normal Dry' 'Cold Dry' 'Normal Dry' 'Warm Dry' 'Warm Dry'\n",
      " 'Warm Dry' 'Cold Dry' 'Cold Dry' 'Normal Dry' 'Warm Dry' 'Cold Dry'\n",
      " 'Normal Dry' 'Normal Dry' 'Cold Wet' 'Warm Dry' 'Warm Dry' 'Normal Dry'\n",
      " 'Normal Dry' 'Cold Wet' 'Cold Wet' 'Warm Dry' 'Cold Dry' 'Normal Dry'\n",
      " 'Warm Dry' 'Cold Dry' 'Cold Dry' 'Cold Dry' 'Warm Dry' 'Normal Dry'\n",
      " 'Cold Dry' 'Warm Dry' 'Cold Dry' 'Cold Dry' 'Warm Dry' 'Warm Dry'\n",
      " 'Warm Dry' 'Normal Dry' 'Warm Dry' 'Cold Dry' 'Normal Dry' 'Warm Dry'\n",
      " 'Warm Dry' 'Cold Dry' 'Normal Dry' 'Warm Dry' 'Warm Dry' 'Warm Dry'\n",
      " 'Cold Wet' 'Warm Dry' 'Warm Dry' 'Normal Dry' 'Normal Dry' 'Normal Dry'\n",
      " 'Cold Dry' 'Normal Dry' 'Cold Dry' 'Warm Dry' 'Cold Wet' 'Cold Wet'\n",
      " 'Normal Dry' 'Warm Dry' 'Cold Dry' 'Normal Dry' 'Normal Dry' 'Warm Dry'\n",
      " 'Cold Wet' 'Cold Dry' 'Normal Dry' 'Warm Dry' 'Cold Dry' 'Normal Dry'\n",
      " 'Normal Dry' 'Warm Dry' 'Normal Dry' 'Normal Dry' 'Cold Dry' 'Normal Dry'\n",
      " 'Warm Dry' 'Warm Dry' 'Cold Wet' 'Warm Dry' 'Normal Dry' 'Cold Dry'\n",
      " 'Normal Dry' 'Normal Dry' 'Cold Dry' 'Warm Dry' 'Normal Dry' 'Normal Dry'\n",
      " 'Normal Dry' 'Cold Dry' 'Normal Dry' 'Warm Dry' 'Cold Dry' 'Warm Dry'\n",
      " 'Cold Dry' 'Cold Dry' 'Cold Dry' 'Warm Dry' 'Warm Dry' 'Warm Dry'\n",
      " 'Normal Dry' 'Warm Dry' 'Normal Dry' 'Warm Dry' 'Warm Dry' 'Normal Dry'\n",
      " 'Normal Dry' 'Cold Dry' 'Cold Dry' 'Cold Dry' 'Cold Dry' 'Cold Dry'\n",
      " 'Cold Dry' 'Normal Dry' 'Normal Dry' 'Normal Dry' 'Cold Wet' 'Warm Dry'\n",
      " 'Cold Dry' 'Normal Dry' 'Normal Dry' 'Warm Dry' 'Normal Dry' 'Normal Dry'\n",
      " 'Cold Dry' 'Cold Wet' 'Cold Dry' 'Cold Dry' 'Cold Dry' 'Cold Dry'\n",
      " 'Cold Dry' 'Normal Dry' 'Normal Dry' 'Normal Dry' 'Normal Dry' 'Cold Dry'\n",
      " 'Cold Dry' 'Cold Dry' 'Warm Dry' 'Cold Dry' 'Warm Dry' 'Normal Dry'\n",
      " 'Cold Dry' 'Cold Wet' 'Normal Dry' 'Cold Dry' 'Normal Dry' 'Normal Dry'\n",
      " 'Normal Dry' 'Normal Dry' 'Warm Dry' 'Cold Dry' 'Cold Dry' 'Warm Dry'\n",
      " 'Normal Dry' 'Warm Dry' 'Cold Dry' 'Normal Dry' 'Normal Dry' 'Warm Dry'\n",
      " 'Normal Dry' 'Warm Dry' 'Warm Dry' 'Cold Dry' 'Cold Dry' 'Cold Wet'\n",
      " 'Normal Dry' 'Warm Dry' 'Normal Dry' 'Normal Dry' 'Cold Dry' 'Normal Dry'\n",
      " 'Warm Dry' 'Cold Dry' 'Cold Dry' 'Cold Dry' 'Cold Dry' 'Normal Dry'\n",
      " 'Cold Dry' 'Warm Dry' 'Cold Dry' 'Normal Dry' 'Normal Dry' 'Cold Dry'\n",
      " 'Normal Dry' 'Cold Dry' 'Normal Dry' 'Normal Dry' 'Cold Dry' 'Warm Dry'\n",
      " 'Cold Dry' 'Normal Dry' 'Warm Dry' 'Normal Dry' 'Cold Wet' 'Warm Dry'\n",
      " 'Cold Dry' 'Cold Dry' 'Normal Dry' 'Cold Dry' 'Normal Dry' 'Warm Dry'\n",
      " 'Normal Dry' 'Cold Dry' 'Cold Dry' 'Normal Dry' 'Normal Dry' 'Cold Dry'\n",
      " 'Warm Dry' 'Cold Dry' 'Cold Wet' 'Cold Dry' 'Warm Dry' 'Cold Dry'\n",
      " 'Cold Dry' 'Warm Dry' 'Normal Dry' 'Warm Dry' 'Normal Dry' 'Warm Dry'\n",
      " 'Cold Dry' 'Warm Dry' 'Warm Dry' 'Warm Dry' 'Warm Dry' 'Warm Dry'\n",
      " 'Cold Dry' 'Cold Dry' 'Warm Dry' 'Warm Dry' 'Warm Dry' 'Normal Dry'\n",
      " 'Cold Wet' 'Cold Dry' 'Normal Dry' 'Warm Dry' 'Cold Dry' 'Cold Dry'\n",
      " 'Cold Dry' 'Cold Wet' 'Warm Dry' 'Cold Dry' 'Warm Dry' 'Warm Dry'\n",
      " 'Warm Dry' 'Cold Dry' 'Normal Dry' 'Cold Dry' 'Cold Dry' 'Cold Dry'\n",
      " 'Cold Wet' 'Cold Dry' 'Normal Dry' 'Normal Dry' 'Normal Dry' 'Warm Dry'\n",
      " 'Normal Dry' 'Normal Dry' 'Cold Dry' 'Normal Dry' 'Cold Dry' 'Warm Dry'\n",
      " 'Cold Dry' 'Warm Dry' 'Normal Dry' 'Normal Dry' 'Warm Dry' 'Normal Dry'\n",
      " 'Warm Dry' 'Cold Dry' 'Cold Dry' 'Cold Wet' 'Normal Dry' 'Normal Dry'\n",
      " 'Warm Dry' 'Cold Wet' 'Warm Dry' 'Normal Dry' 'Normal Dry' 'Normal Dry'\n",
      " 'Cold Wet' 'Cold Wet' 'Normal Dry' 'Warm Dry' 'Normal Dry' 'Normal Dry'\n",
      " 'Warm Dry' 'Normal Dry' 'Cold Wet' 'Cold Dry' 'Normal Dry' 'Normal Dry'\n",
      " 'Normal Dry' 'Normal Dry' 'Normal Dry' 'Cold Dry' 'Cold Dry' 'Normal Dry'\n",
      " 'Cold Dry' 'Normal Dry' 'Cold Dry' 'Normal Dry' 'Cold Dry' 'Normal Dry'\n",
      " 'Normal Dry' 'Cold Dry' 'Warm Dry' 'Warm Dry' 'Normal Dry' 'Normal Dry'\n",
      " 'Cold Wet' 'Cold Wet' 'Normal Dry' 'Cold Wet' 'Warm Dry' 'Warm Dry'\n",
      " 'Normal Dry' 'Normal Dry' 'Cold Dry' 'Cold Dry' 'Warm Dry' 'Cold Dry'\n",
      " 'Warm Dry' 'Normal Dry' 'Cold Wet' 'Normal Dry' 'Warm Dry' 'Normal Dry'\n",
      " 'Cold Wet' 'Cold Dry' 'Cold Dry' 'Cold Dry' 'Normal Dry' 'Normal Dry'\n",
      " 'Normal Dry' 'Normal Dry' 'Warm Dry' 'Normal Dry' 'Cold Dry' 'Cold Dry'\n",
      " 'Normal Dry' 'Normal Dry' 'Cold Dry' 'Normal Dry' 'Warm Dry' 'Normal Dry'\n",
      " 'Cold Dry' 'Cold Dry' 'Warm Dry' 'Warm Dry' 'Cold Dry' 'Cold Wet'\n",
      " 'Normal Dry' 'Normal Dry' 'Cold Dry' 'Normal Dry' 'Normal Dry'\n",
      " 'Normal Dry' 'Cold Dry' 'Normal Dry' 'Warm Dry' 'Cold Dry' 'Warm Dry'\n",
      " 'Warm Dry' 'Warm Dry' 'Normal Dry' 'Warm Dry' 'Warm Dry' 'Warm Dry'\n",
      " 'Warm Dry' 'Normal Dry' 'Warm Dry' 'Cold Dry' 'Cold Dry' 'Cold Dry'\n",
      " 'Normal Dry' 'Warm Dry' 'Warm Dry' 'Normal Dry' 'Normal Dry' 'Normal Dry'\n",
      " 'Normal Dry' 'Normal Dry' 'Normal Dry' 'Normal Dry' 'Normal Dry'\n",
      " 'Cold Dry' 'Warm Dry' 'Normal Dry' 'Normal Dry' 'Cold Dry' 'Warm Dry'\n",
      " 'Cold Dry' 'Normal Dry' 'Cold Dry' 'Normal Dry' 'Normal Dry' 'Cold Dry'\n",
      " 'Warm Dry' 'Normal Dry' 'Warm Dry' 'Normal Dry' 'Cold Dry' 'Cold Dry'\n",
      " 'Normal Dry' 'Cold Wet' 'Cold Wet' 'Cold Dry' 'Cold Dry' 'Cold Dry'\n",
      " 'Cold Wet' 'Warm Dry' 'Cold Dry' 'Cold Dry' 'Normal Dry' 'Normal Dry'\n",
      " 'Normal Dry' 'Warm Dry' 'Normal Dry' 'Cold Dry' 'Normal Dry' 'Normal Dry'\n",
      " 'Warm Dry' 'Normal Dry' 'Cold Dry' 'Warm Dry' 'Cold Dry' 'Cold Wet'\n",
      " 'Cold Dry' 'Cold Wet' 'Warm Dry' 'Normal Dry' 'Normal Dry' 'Normal Dry'\n",
      " 'Normal Dry' 'Cold Wet' 'Cold Dry' 'Cold Dry' 'Cold Dry' 'Warm Dry'\n",
      " 'Warm Dry' 'Normal Dry' 'Cold Dry' 'Cold Dry' 'Normal Dry' 'Warm Dry'\n",
      " 'Normal Dry' 'Cold Wet' 'Cold Wet' 'Normal Dry' 'Normal Dry' 'Cold Dry'\n",
      " 'Cold Wet' 'Cold Dry' 'Warm Dry' 'Cold Dry' 'Normal Dry' 'Normal Dry'\n",
      " 'Normal Dry' 'Normal Dry' 'Warm Dry' 'Normal Dry' 'Warm Dry' 'Normal Dry'\n",
      " 'Warm Dry' 'Cold Dry' 'Normal Dry' 'Normal Dry' 'Warm Dry' 'Normal Dry'\n",
      " 'Warm Dry' 'Cold Wet' 'Normal Dry' 'Warm Dry' 'Normal Dry' 'Warm Dry'\n",
      " 'Normal Dry' 'Normal Dry' 'Cold Dry' 'Cold Dry' 'Normal Dry' 'Cold Wet'\n",
      " 'Warm Dry' 'Cold Dry' 'Warm Dry' 'Warm Dry' 'Warm Dry' 'Cold Dry'\n",
      " 'Warm Dry' 'Warm Dry' 'Cold Dry' 'Cold Dry' 'Cold Dry' 'Normal Dry'\n",
      " 'Normal Dry' 'Warm Dry' 'Cold Dry' 'Normal Dry' 'Cold Dry' 'Warm Dry'\n",
      " 'Warm Dry' 'Warm Dry' 'Normal Dry' 'Normal Dry' 'Normal Dry' 'Warm Dry'\n",
      " 'Warm Dry' 'Cold Dry' 'Warm Dry' 'Warm Dry' 'Cold Dry' 'Cold Dry'\n",
      " 'Warm Dry' 'Warm Dry' 'Normal Dry' 'Cold Dry' 'Cold Dry' 'Normal Dry'\n",
      " 'Normal Dry' 'Normal Dry' 'Warm Dry' 'Cold Dry' 'Normal Dry' 'Normal Dry'\n",
      " 'Normal Dry' 'Warm Dry' 'Warm Dry' 'Normal Dry' 'Normal Dry' 'Normal Dry'\n",
      " 'Normal Dry' 'Warm Dry' 'Cold Dry' 'Normal Dry' 'Normal Dry' 'Cold Wet'\n",
      " 'Cold Dry' 'Warm Dry' 'Cold Dry' 'Cold Dry' 'Warm Dry' 'Normal Dry'\n",
      " 'Normal Dry' 'Cold Dry']\n"
     ]
    }
   ],
   "source": [
    "print('Prediction data:\\n', y_pred)"
   ]
  },
  {
   "cell_type": "markdown",
   "id": "a378cedb",
   "metadata": {},
   "source": [
    "# Calcultaing Accuracy of the model"
   ]
  },
  {
   "cell_type": "code",
   "execution_count": 177,
   "id": "5d6063cc",
   "metadata": {},
   "outputs": [
    {
     "name": "stdout",
     "output_type": "stream",
     "text": [
      "Accuracy using Random Forest Classifier:  99.6 %\n"
     ]
    }
   ],
   "source": [
    "from sklearn.metrics import accuracy_score\n",
    "score = accuracy_score(y_test, y_pred) * 100\n",
    "print(\"Accuracy using Random Forest Classifier: \", round(score, 1), \"%\" )"
   ]
  },
  {
   "cell_type": "markdown",
   "id": "792302d0",
   "metadata": {},
   "source": [
    "# Confusing Matrix"
   ]
  },
  {
   "cell_type": "code",
   "execution_count": 178,
   "id": "66a008bf",
   "metadata": {},
   "outputs": [
    {
     "name": "stdout",
     "output_type": "stream",
     "text": [
      "[[0.         0.         0.00359712 0.         0.         0.\n",
      "  0.         0.         0.        ]\n",
      " [0.         0.         0.00359712 0.         0.         0.\n",
      "  0.         0.         0.        ]\n",
      " [0.         0.         0.99280576 0.         0.         0.\n",
      "  0.         0.         0.        ]\n",
      " [0.         0.         0.         0.         0.         0.0047619\n",
      "  0.         0.         0.        ]\n",
      " [0.         0.         0.         0.         1.         0.\n",
      "  0.         0.         0.        ]\n",
      " [0.         0.         0.         0.         0.         0.9952381\n",
      "  0.         0.         0.        ]\n",
      " [0.         0.         0.         0.         0.         0.\n",
      "  0.         0.         0.        ]\n",
      " [0.         0.         0.         0.         0.         0.\n",
      "  0.         0.         0.        ]\n",
      " [0.         0.         0.         0.         0.         0.\n",
      "  0.         0.         1.        ]]\n"
     ]
    }
   ],
   "source": [
    "from sklearn.metrics import confusion_matrix\n",
    "\n",
    "conf_mat = confusion_matrix(y_test,y_pred, \n",
    "                            labels = ['Normal Normal', 'Normal Wet', 'Normal Dry', 'Cold Normal', 'Cold Wet', 'Cold Dry', 'Warm Normal', 'Warm Wet', 'Warm Dry'],\n",
    "                            normalize='pred')\n",
    "print(conf_mat)"
   ]
  },
  {
   "cell_type": "markdown",
   "id": "2de443b1",
   "metadata": {},
   "source": [
    "# Confusion Matrix Heatmap"
   ]
  },
  {
   "cell_type": "code",
   "execution_count": 179,
   "id": "0c51af94",
   "metadata": {},
   "outputs": [
    {
     "name": "stderr",
     "output_type": "stream",
     "text": [
      "C:\\Users\\Sevindu\\AppData\\Local\\Temp\\ipykernel_3508\\4285008612.py:6: UserWarning: FixedFormatter should only be used together with FixedLocator\n",
      "  ax.set_xticklabels([''] + ['Normal Normal', 'Normal Wet', 'Normal Dry', 'Cold Normal', 'Cold Wet', 'Cold Dry', 'Warm Normal', 'Warm Wet', 'Warm Dry'])\n",
      "C:\\Users\\Sevindu\\AppData\\Local\\Temp\\ipykernel_3508\\4285008612.py:7: UserWarning: FixedFormatter should only be used together with FixedLocator\n",
      "  ax.set_yticklabels([''] + ['Normal Normal', 'Normal Wet', 'Normal Dry', 'Cold Normal', 'Cold Wet', 'Cold Dry', 'Warm Normal', 'Warm Wet', 'Warm Dry'])\n"
     ]
    },
    {
     "data": {
      "image/png": "[encoded data removed]",
      "text/plain": [
       "<Figure size 800x800 with 2 Axes>"
      ]
     },
     "metadata": {},
     "output_type": "display_data"
    }
   ],
   "source": [
    "fig = plt.figure(figsize=(10,10), dpi =80)\n",
    "ax = fig.add_subplot(111)\n",
    "cax = ax.matshow(conf_mat)\n",
    "plt.title('Confusion matrix of the classifier')\n",
    "fig.colorbar(cax)\n",
    "ax.set_xticklabels([''] + ['Normal Normal', 'Normal Wet', 'Normal Dry', 'Cold Normal', 'Cold Wet', 'Cold Dry', 'Warm Normal', 'Warm Wet', 'Warm Dry'])\n",
    "ax.set_yticklabels([''] + ['Normal Normal', 'Normal Wet', 'Normal Dry', 'Cold Normal', 'Cold Wet', 'Cold Dry', 'Warm Normal', 'Warm Wet', 'Warm Dry'])\n",
    "plt.xlabel('Predicted')\n",
    "plt.ylabel('True')\n",
    "plt.show()"
   ]
  },
  {
   "cell_type": "markdown",
   "id": "cc51d856",
   "metadata": {},
   "source": [
    "# A Decision tree in Random Forest"
   ]
  },
  {
   "cell_type": "code",
   "execution_count": 180,
   "id": "fd11616d",
   "metadata": {},
   "outputs": [
    {
     "data": {
      "image/png": "[encoded data removed]",
      "text/plain": [
       "<Figure size 1000x1000 with 1 Axes>"
      ]
     },
     "metadata": {},
     "output_type": "display_data"
    }
   ],
   "source": [
    "plt.figure(figsize= (4,4), dpi = 250)\n",
    "_ = tree.plot_tree(RF.estimators_[5],\n",
    "               feature_names = features, \n",
    "               class_names= class_names,\n",
    "               filled = True);"
   ]
  },
  {
   "cell_type": "code",
   "execution_count": null,
   "id": "59284806",
   "metadata": {},
   "outputs": [],
   "source": []
  }
 ],
 "metadata": {
  "kernelspec": {
   "display_name": "Python 3 (ipykernel)",
   "language": "python",
   "name": "python3"
  },
  "language_info": {
   "codemirror_mode": {
    "name": "ipython",
    "version": 3
   },
   "file_extension": ".py",
   "mimetype": "text/x-python",
   "name": "python",
   "nbconvert_exporter": "python",
   "pygments_lexer": "ipython3",
   "version": "3.11.5"
  }
 },
 "nbformat": 4,
 "nbformat_minor": 5
}
