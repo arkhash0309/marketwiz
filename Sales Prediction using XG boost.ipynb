{
 "cells": [
  {
   "cell_type": "markdown",
   "metadata": {},
   "source": [
    "<H1>Introduction</h1>"
   ]
  },
  {
   "cell_type": "markdown",
   "metadata": {},
   "source": [
    "<H3>Importing all the required tools and Reading the dataset</H3>"
   ]
  },
  {
   "cell_type": "code",
   "execution_count": 17,
   "metadata": {},
   "outputs": [],
   "source": [
    "import pandas as pd\n",
    "import matplotlib.pyplot as plt\n",
    "import numpy as np\n",
    "import seaborn as sns\n",
    "sales_df   =    pd.read_csv('Sales_Data.csv')"
   ]
  },
  {
   "cell_type": "markdown",
   "metadata": {},
   "source": [
    "<H3>This is How the Dataset Looks like</H3>"
   ]
  },
  {
   "cell_type": "code",
   "execution_count": 2,
   "metadata": {},
   "outputs": [
    {
     "data": {
      "text/html": [
       "<div>\n",
       "<style scoped>\n",
       "    .dataframe tbody tr th:only-of-type {\n",
       "        vertical-align: middle;\n",
       "    }\n",
       "\n",
       "    .dataframe tbody tr th {\n",
       "        vertical-align: top;\n",
       "    }\n",
       "\n",
       "    .dataframe thead th {\n",
       "        text-align: right;\n",
       "    }\n",
       "</style>\n",
       "<table border=\"1\" class=\"dataframe\">\n",
       "  <thead>\n",
       "    <tr style=\"text-align: right;\">\n",
       "      <th></th>\n",
       "      <th>Date</th>\n",
       "      <th>Product Name</th>\n",
       "      <th>Product Quantity</th>\n",
       "      <th>Units sold</th>\n",
       "      <th>Day</th>\n",
       "      <th>Month</th>\n",
       "      <th>Year</th>\n",
       "      <th>DayOfWeek</th>\n",
       "      <th>Category</th>\n",
       "      <th>DayType</th>\n",
       "      <th>Week_of_Year</th>\n",
       "      <th>Rainfall</th>\n",
       "    </tr>\n",
       "  </thead>\n",
       "  <tbody>\n",
       "    <tr>\n",
       "      <th>0</th>\n",
       "      <td>2022-01-02</td>\n",
       "      <td>AMBEWELA SET YOGHURT</td>\n",
       "      <td>80ML</td>\n",
       "      <td>6</td>\n",
       "      <td>2</td>\n",
       "      <td>1</td>\n",
       "      <td>2022</td>\n",
       "      <td>Sunday</td>\n",
       "      <td>YOGHURT</td>\n",
       "      <td>Weekend</td>\n",
       "      <td>52</td>\n",
       "      <td>7.6</td>\n",
       "    </tr>\n",
       "    <tr>\n",
       "      <th>1</th>\n",
       "      <td>2022-01-01</td>\n",
       "      <td>AMBEWELA SET YOGHURT</td>\n",
       "      <td>80ML</td>\n",
       "      <td>6</td>\n",
       "      <td>1</td>\n",
       "      <td>1</td>\n",
       "      <td>2022</td>\n",
       "      <td>Saturday</td>\n",
       "      <td>YOGHURT</td>\n",
       "      <td>Weekend</td>\n",
       "      <td>52</td>\n",
       "      <td>0.1</td>\n",
       "    </tr>\n",
       "    <tr>\n",
       "      <th>2</th>\n",
       "      <td>2022-01-01</td>\n",
       "      <td>AMBEWELA SET YOGHURT</td>\n",
       "      <td>80ML</td>\n",
       "      <td>1</td>\n",
       "      <td>1</td>\n",
       "      <td>1</td>\n",
       "      <td>2022</td>\n",
       "      <td>Saturday</td>\n",
       "      <td>YOGHURT</td>\n",
       "      <td>Weekend</td>\n",
       "      <td>52</td>\n",
       "      <td>0.1</td>\n",
       "    </tr>\n",
       "    <tr>\n",
       "      <th>3</th>\n",
       "      <td>2022-01-01</td>\n",
       "      <td>AMBEWELA SET YOGHURT</td>\n",
       "      <td>80ML</td>\n",
       "      <td>6</td>\n",
       "      <td>1</td>\n",
       "      <td>1</td>\n",
       "      <td>2022</td>\n",
       "      <td>Saturday</td>\n",
       "      <td>YOGHURT</td>\n",
       "      <td>Weekend</td>\n",
       "      <td>52</td>\n",
       "      <td>0.1</td>\n",
       "    </tr>\n",
       "    <tr>\n",
       "      <th>4</th>\n",
       "      <td>2022-01-02</td>\n",
       "      <td>AMBEWELA SET YOGHURT</td>\n",
       "      <td>80ML</td>\n",
       "      <td>10</td>\n",
       "      <td>2</td>\n",
       "      <td>1</td>\n",
       "      <td>2022</td>\n",
       "      <td>Sunday</td>\n",
       "      <td>YOGHURT</td>\n",
       "      <td>Weekend</td>\n",
       "      <td>52</td>\n",
       "      <td>7.6</td>\n",
       "    </tr>\n",
       "    <tr>\n",
       "      <th>...</th>\n",
       "      <td>...</td>\n",
       "      <td>...</td>\n",
       "      <td>...</td>\n",
       "      <td>...</td>\n",
       "      <td>...</td>\n",
       "      <td>...</td>\n",
       "      <td>...</td>\n",
       "      <td>...</td>\n",
       "      <td>...</td>\n",
       "      <td>...</td>\n",
       "      <td>...</td>\n",
       "      <td>...</td>\n",
       "    </tr>\n",
       "    <tr>\n",
       "      <th>34154</th>\n",
       "      <td>2023-10-09</td>\n",
       "      <td>HIGHLAND YOGHURT</td>\n",
       "      <td>80ML</td>\n",
       "      <td>12</td>\n",
       "      <td>9</td>\n",
       "      <td>10</td>\n",
       "      <td>2023</td>\n",
       "      <td>Monday</td>\n",
       "      <td>YOGHURT</td>\n",
       "      <td>Weekday</td>\n",
       "      <td>41</td>\n",
       "      <td>0.0</td>\n",
       "    </tr>\n",
       "    <tr>\n",
       "      <th>34155</th>\n",
       "      <td>2023-10-09</td>\n",
       "      <td>HIGHLAND YOGHURT</td>\n",
       "      <td>80ML</td>\n",
       "      <td>9</td>\n",
       "      <td>9</td>\n",
       "      <td>10</td>\n",
       "      <td>2023</td>\n",
       "      <td>Monday</td>\n",
       "      <td>YOGHURT</td>\n",
       "      <td>Weekday</td>\n",
       "      <td>41</td>\n",
       "      <td>0.0</td>\n",
       "    </tr>\n",
       "    <tr>\n",
       "      <th>34156</th>\n",
       "      <td>2023-10-09</td>\n",
       "      <td>HIGHLAND YOGHURT</td>\n",
       "      <td>80ML</td>\n",
       "      <td>13</td>\n",
       "      <td>9</td>\n",
       "      <td>10</td>\n",
       "      <td>2023</td>\n",
       "      <td>Monday</td>\n",
       "      <td>YOGHURT</td>\n",
       "      <td>Weekday</td>\n",
       "      <td>41</td>\n",
       "      <td>0.0</td>\n",
       "    </tr>\n",
       "    <tr>\n",
       "      <th>34157</th>\n",
       "      <td>2023-10-09</td>\n",
       "      <td>HIGHLAND YOGHURT</td>\n",
       "      <td>80ML</td>\n",
       "      <td>7</td>\n",
       "      <td>9</td>\n",
       "      <td>10</td>\n",
       "      <td>2023</td>\n",
       "      <td>Monday</td>\n",
       "      <td>YOGHURT</td>\n",
       "      <td>Weekday</td>\n",
       "      <td>41</td>\n",
       "      <td>0.0</td>\n",
       "    </tr>\n",
       "    <tr>\n",
       "      <th>34158</th>\n",
       "      <td>2023-10-09</td>\n",
       "      <td>HIGHLAND YOGHURT</td>\n",
       "      <td>80ML</td>\n",
       "      <td>5</td>\n",
       "      <td>9</td>\n",
       "      <td>10</td>\n",
       "      <td>2023</td>\n",
       "      <td>Monday</td>\n",
       "      <td>YOGHURT</td>\n",
       "      <td>Weekday</td>\n",
       "      <td>41</td>\n",
       "      <td>0.0</td>\n",
       "    </tr>\n",
       "  </tbody>\n",
       "</table>\n",
       "<p>34159 rows × 12 columns</p>\n",
       "</div>"
      ],
      "text/plain": [
       "             Date          Product Name Product Quantity  Units sold  Day  \\\n",
       "0      2022-01-02  AMBEWELA SET YOGHURT             80ML           6    2   \n",
       "1      2022-01-01  AMBEWELA SET YOGHURT             80ML           6    1   \n",
       "2      2022-01-01  AMBEWELA SET YOGHURT             80ML           1    1   \n",
       "3      2022-01-01  AMBEWELA SET YOGHURT             80ML           6    1   \n",
       "4      2022-01-02  AMBEWELA SET YOGHURT             80ML          10    2   \n",
       "...           ...                   ...              ...         ...  ...   \n",
       "34154  2023-10-09      HIGHLAND YOGHURT             80ML          12    9   \n",
       "34155  2023-10-09      HIGHLAND YOGHURT             80ML           9    9   \n",
       "34156  2023-10-09      HIGHLAND YOGHURT             80ML          13    9   \n",
       "34157  2023-10-09      HIGHLAND YOGHURT             80ML           7    9   \n",
       "34158  2023-10-09      HIGHLAND YOGHURT             80ML           5    9   \n",
       "\n",
       "       Month  Year DayOfWeek Category  DayType  Week_of_Year  Rainfall  \n",
       "0          1  2022    Sunday  YOGHURT  Weekend            52       7.6  \n",
       "1          1  2022  Saturday  YOGHURT  Weekend            52       0.1  \n",
       "2          1  2022  Saturday  YOGHURT  Weekend            52       0.1  \n",
       "3          1  2022  Saturday  YOGHURT  Weekend            52       0.1  \n",
       "4          1  2022    Sunday  YOGHURT  Weekend            52       7.6  \n",
       "...      ...   ...       ...      ...      ...           ...       ...  \n",
       "34154     10  2023    Monday  YOGHURT  Weekday            41       0.0  \n",
       "34155     10  2023    Monday  YOGHURT  Weekday            41       0.0  \n",
       "34156     10  2023    Monday  YOGHURT  Weekday            41       0.0  \n",
       "34157     10  2023    Monday  YOGHURT  Weekday            41       0.0  \n",
       "34158     10  2023    Monday  YOGHURT  Weekday            41       0.0  \n",
       "\n",
       "[34159 rows x 12 columns]"
      ]
     },
     "execution_count": 2,
     "metadata": {},
     "output_type": "execute_result"
    }
   ],
   "source": [
    "sales_df"
   ]
  },
  {
   "cell_type": "markdown",
   "metadata": {},
   "source": [
    "<H3>Quick overview</H3>"
   ]
  },
  {
   "cell_type": "code",
   "execution_count": 31,
   "metadata": {},
   "outputs": [
    {
     "data": {
      "text/plain": [
       "Date                0\n",
       "Product Name        0\n",
       "Product Quantity    0\n",
       "Units sold          0\n",
       "Day                 0\n",
       "Month               0\n",
       "Year                0\n",
       "DayOfWeek           0\n",
       "Category            0\n",
       "DayType             0\n",
       "Week_of_Year        0\n",
       "Rainfall            0\n",
       "dtype: int64"
      ]
     },
     "execution_count": 31,
     "metadata": {},
     "output_type": "execute_result"
    }
   ],
   "source": [
    "sales_df.isnull().sum()"
   ]
  },
  {
   "cell_type": "markdown",
   "metadata": {},
   "source": [
    "<h3>Renaming the Dataframe and double checking that there are no null values</h3>"
   ]
  },
  {
   "cell_type": "code",
   "execution_count": 33,
   "metadata": {},
   "outputs": [],
   "source": [
    "df= sales_df\n",
    "df.dropna(inplace=True)"
   ]
  },
  {
   "cell_type": "markdown",
   "metadata": {},
   "source": [
    "<h3>QUICK EDA</h3>"
   ]
  },
  {
   "cell_type": "code",
   "execution_count": 35,
   "metadata": {},
   "outputs": [
    {
     "data": {
      "image/png": "[encoded data removed]",
      "text/plain": [
       "<Figure size 1152x432 with 1 Axes>"
      ]
     },
     "metadata": {
      "needs_background": "light"
     },
     "output_type": "display_data"
    }
   ],
   "source": [
    "plt.figure(figsize=(16,6))\n",
    "sns.countplot(x='Category', data=df)\n",
    "plt.show()"
   ]
  },
  {
   "cell_type": "markdown",
   "metadata": {},
   "source": [
    "Plot shows the comparison between the categry of products available"
   ]
  },
  {
   "cell_type": "code",
   "execution_count": 36,
   "metadata": {},
   "outputs": [
    {
     "name": "stderr",
     "output_type": "stream",
     "text": [
      "C:\\Users\\Hammaad\\AppData\\Local\\Temp/ipykernel_18664/3094159044.py:2: UserWarning: \n",
      "\n",
      "`distplot` is a deprecated function and will be removed in seaborn v0.14.0.\n",
      "\n",
      "Please adapt your code to use either `displot` (a figure-level function with\n",
      "similar flexibility) or `histplot` (an axes-level function for histograms).\n",
      "\n",
      "For a guide to updating your code to use the new functions, please see\n",
      "https://gist.github.com/mwaskom/de44147ed2974457ad6372750bbe5751\n",
      "\n",
      "  sns.distplot(df['Rainfall'].values.flatten(), kde=False)  # Use flatten to convert any potential multi-dimensional array\n"
     ]
    },
    {
     "data": {
      "image/png": "[encoded data removed]",
      "text/plain": [
       "<Figure size 432x432 with 1 Axes>"
      ]
     },
     "metadata": {
      "needs_background": "light"
     },
     "output_type": "display_data"
    }
   ],
   "source": [
    "plt.figure(figsize=(6, 6))\n",
    "sns.distplot(df['Rainfall'].values.flatten(), kde=False)  # Use flatten to convert any potential multi-dimensional array\n",
    "plt.show()\n"
   ]
  },
  {
   "cell_type": "markdown",
   "metadata": {},
   "source": [
    "Distribution of the rainfall along the dataset, many days had rainfall less than 12mm while there were server rainfalls till 100mm less frequently"
   ]
  },
  {
   "cell_type": "markdown",
   "metadata": {},
   "source": [
    "<h1>Algorithm - Random Forrest Classifier Accuracy (37.5%)</h1> "
   ]
  },
  {
   "cell_type": "code",
   "execution_count": 9,
   "metadata": {},
   "outputs": [
    {
     "name": "stdout",
     "output_type": "stream",
     "text": [
      "Accuracy: 0.3706088992974239\n"
     ]
    },
    {
     "name": "stderr",
     "output_type": "stream",
     "text": [
      "c:\\Users\\Hammaad\\AppData\\Local\\Programs\\Python\\Python39\\lib\\site-packages\\sklearn\\metrics\\_classification.py:1469: UndefinedMetricWarning: Precision and F-score are ill-defined and being set to 0.0 in labels with no predicted samples. Use `zero_division` parameter to control this behavior.\n",
      "  _warn_prf(average, modifier, msg_start, len(result))\n"
     ]
    },
    {
     "name": "stdout",
     "output_type": "stream",
     "text": [
      "               precision    recall  f1-score   support\n",
      "\n",
      "       BUTTER       0.00      0.00      0.00       225\n",
      "       CHEESE       0.04      0.00      0.00      1332\n",
      "       COFFEE       0.18      0.01      0.02      1667\n",
      "COLD BEVERAGE       0.12      0.00      0.01       959\n",
      "        FLOUR       0.00      0.00      0.00       653\n",
      "    ICE CREAM       0.20      0.02      0.04      1550\n",
      "      YOGHURT       0.38      0.97      0.54      3862\n",
      "\n",
      "     accuracy                           0.37     10248\n",
      "    macro avg       0.13      0.14      0.09     10248\n",
      " weighted avg       0.22      0.37      0.21     10248\n",
      "\n"
     ]
    },
    {
     "name": "stderr",
     "output_type": "stream",
     "text": [
      "c:\\Users\\Hammaad\\AppData\\Local\\Programs\\Python\\Python39\\lib\\site-packages\\sklearn\\metrics\\_classification.py:1469: UndefinedMetricWarning: Precision and F-score are ill-defined and being set to 0.0 in labels with no predicted samples. Use `zero_division` parameter to control this behavior.\n",
      "  _warn_prf(average, modifier, msg_start, len(result))\n",
      "c:\\Users\\Hammaad\\AppData\\Local\\Programs\\Python\\Python39\\lib\\site-packages\\sklearn\\metrics\\_classification.py:1469: UndefinedMetricWarning: Precision and F-score are ill-defined and being set to 0.0 in labels with no predicted samples. Use `zero_division` parameter to control this behavior.\n",
      "  _warn_prf(average, modifier, msg_start, len(result))\n"
     ]
    }
   ],
   "source": [
    "import pandas as pd\n",
    "from sklearn.model_selection import train_test_split\n",
    "from sklearn.preprocessing import LabelEncoder\n",
    "from sklearn.ensemble import RandomForestClassifier\n",
    "from sklearn.metrics import accuracy_score, classification_report\n",
    "\n",
    "# Encode categorical features\n",
    "df = sales_df\n",
    "label_encoder = LabelEncoder()\n",
    "df['DayOfWeek'] = label_encoder.fit_transform(df['DayOfWeek'])\n",
    "df['DayType'] = label_encoder.fit_transform(df['DayType'])\n",
    "\n",
    "# Define features (X) and target variable (y)\n",
    "features = ['Day', 'Month', 'Year', 'DayOfWeek', 'DayType', 'Rainfall', 'Week_of_Year']\n",
    "target = 'Category'\n",
    "\n",
    "X = df[features]\n",
    "y = df[target]\n",
    "\n",
    "# Split the data into training and testing sets\n",
    "X_train, X_test, y_train, y_test = train_test_split(X, y, test_size=0.3, random_state=42)\n",
    "\n",
    "# Create a RandomForestClassifier \n",
    "clf = RandomForestClassifier(n_estimators=100, random_state=42)\n",
    "\n",
    "# Train the model\n",
    "clf.fit(X_train, y_train)\n",
    "\n",
    "# Make predictions\n",
    "y_pred = clf.predict(X_test)\n",
    "\n",
    "# Evaluate the model\n",
    "accuracy = accuracy_score(y_test, y_pred)\n",
    "print(f\"Accuracy: {accuracy}\")\n",
    "\n",
    "# Display additional classification metrics\n",
    "print(classification_report(y_test, y_pred))\n"
   ]
  },
  {
   "cell_type": "markdown",
   "metadata": {},
   "source": [
    "Accuracy is 37% using Random forrest classifier with 60 - 30 Train test split"
   ]
  },
  {
   "cell_type": "markdown",
   "metadata": {},
   "source": [
    "<h2>Tuning Hyper Parameters</h2>"
   ]
  },
  {
   "cell_type": "code",
   "execution_count": 10,
   "metadata": {},
   "outputs": [
    {
     "name": "stdout",
     "output_type": "stream",
     "text": [
      "Accuracy: 0.3751463700234192\n"
     ]
    },
    {
     "name": "stderr",
     "output_type": "stream",
     "text": [
      "c:\\Users\\Hammaad\\AppData\\Local\\Programs\\Python\\Python39\\lib\\site-packages\\sklearn\\metrics\\_classification.py:1469: UndefinedMetricWarning: Precision and F-score are ill-defined and being set to 0.0 in labels with no predicted samples. Use `zero_division` parameter to control this behavior.\n",
      "  _warn_prf(average, modifier, msg_start, len(result))\n",
      "c:\\Users\\Hammaad\\AppData\\Local\\Programs\\Python\\Python39\\lib\\site-packages\\sklearn\\metrics\\_classification.py:1469: UndefinedMetricWarning: Precision and F-score are ill-defined and being set to 0.0 in labels with no predicted samples. Use `zero_division` parameter to control this behavior.\n",
      "  _warn_prf(average, modifier, msg_start, len(result))\n"
     ]
    },
    {
     "name": "stdout",
     "output_type": "stream",
     "text": [
      "               precision    recall  f1-score   support\n",
      "\n",
      "       BUTTER       0.00      0.00      0.00       147\n",
      "       CHEESE       0.00      0.00      0.00       876\n",
      "       COFFEE       0.21      0.02      0.03      1095\n",
      "COLD BEVERAGE       0.12      0.00      0.01       631\n",
      "        FLOUR       0.00      0.00      0.00       416\n",
      "    ICE CREAM       0.20      0.02      0.03      1056\n",
      "      YOGHURT       0.38      0.97      0.55      2611\n",
      "\n",
      "     accuracy                           0.38      6832\n",
      "    macro avg       0.13      0.14      0.09      6832\n",
      " weighted avg       0.22      0.38      0.22      6832\n",
      "\n"
     ]
    },
    {
     "name": "stderr",
     "output_type": "stream",
     "text": [
      "c:\\Users\\Hammaad\\AppData\\Local\\Programs\\Python\\Python39\\lib\\site-packages\\sklearn\\metrics\\_classification.py:1469: UndefinedMetricWarning: Precision and F-score are ill-defined and being set to 0.0 in labels with no predicted samples. Use `zero_division` parameter to control this behavior.\n",
      "  _warn_prf(average, modifier, msg_start, len(result))\n"
     ]
    }
   ],
   "source": [
    "# Split the data into training and testing sets\n",
    "X_train, X_test, y_train, y_test = train_test_split(X, y, test_size=0.2, random_state=42)\n",
    "\n",
    "# Create a RandomForestClassifier\n",
    "clf = RandomForestClassifier(n_estimators=100, random_state=42)\n",
    "\n",
    "# Train the model\n",
    "clf.fit(X_train, y_train)\n",
    "\n",
    "# Make predictions\n",
    "y_pred = clf.predict(X_test)\n",
    "\n",
    "# Evaluate the model\n",
    "accuracy = accuracy_score(y_test, y_pred)\n",
    "print(f\"Accuracy: {accuracy}\")\n",
    "\n",
    "# Display additional classification metrics\n",
    "print(classification_report(y_test, y_pred))"
   ]
  },
  {
   "cell_type": "markdown",
   "metadata": {},
   "source": [
    "Accuracy is 37% using Random forrest classifier with 80 - 20 Train test split"
   ]
  },
  {
   "cell_type": "code",
   "execution_count": 11,
   "metadata": {},
   "outputs": [
    {
     "name": "stdout",
     "output_type": "stream",
     "text": [
      "Accuracy: 0.3754391100702576\n"
     ]
    },
    {
     "name": "stderr",
     "output_type": "stream",
     "text": [
      "c:\\Users\\Hammaad\\AppData\\Local\\Programs\\Python\\Python39\\lib\\site-packages\\sklearn\\metrics\\_classification.py:1469: UndefinedMetricWarning: Precision and F-score are ill-defined and being set to 0.0 in labels with no predicted samples. Use `zero_division` parameter to control this behavior.\n",
      "  _warn_prf(average, modifier, msg_start, len(result))\n",
      "c:\\Users\\Hammaad\\AppData\\Local\\Programs\\Python\\Python39\\lib\\site-packages\\sklearn\\metrics\\_classification.py:1469: UndefinedMetricWarning: Precision and F-score are ill-defined and being set to 0.0 in labels with no predicted samples. Use `zero_division` parameter to control this behavior.\n",
      "  _warn_prf(average, modifier, msg_start, len(result))\n"
     ]
    },
    {
     "name": "stdout",
     "output_type": "stream",
     "text": [
      "               precision    recall  f1-score   support\n",
      "\n",
      "       BUTTER       0.00      0.00      0.00       147\n",
      "       CHEESE       0.00      0.00      0.00       876\n",
      "       COFFEE       0.21      0.02      0.03      1095\n",
      "COLD BEVERAGE       0.00      0.00      0.00       631\n",
      "        FLOUR       0.00      0.00      0.00       416\n",
      "    ICE CREAM       0.20      0.02      0.03      1056\n",
      "      YOGHURT       0.38      0.97      0.55      2611\n",
      "\n",
      "     accuracy                           0.38      6832\n",
      "    macro avg       0.11      0.14      0.09      6832\n",
      " weighted avg       0.21      0.38      0.22      6832\n",
      "\n"
     ]
    },
    {
     "name": "stderr",
     "output_type": "stream",
     "text": [
      "c:\\Users\\Hammaad\\AppData\\Local\\Programs\\Python\\Python39\\lib\\site-packages\\sklearn\\metrics\\_classification.py:1469: UndefinedMetricWarning: Precision and F-score are ill-defined and being set to 0.0 in labels with no predicted samples. Use `zero_division` parameter to control this behavior.\n",
      "  _warn_prf(average, modifier, msg_start, len(result))\n"
     ]
    }
   ],
   "source": [
    "# Split the data into training and testing sets\n",
    "X_train, X_test, y_train, y_test = train_test_split(X, y, test_size=0.2, random_state=42)\n",
    "\n",
    "# Create a RandomForestClassifier\n",
    "clf = RandomForestClassifier(n_estimators=200, random_state=42)\n",
    "\n",
    "# Train the model\n",
    "clf.fit(X_train, y_train)\n",
    "\n",
    "# Make predictions\n",
    "y_pred = clf.predict(X_test)\n",
    "\n",
    "# Evaluate the model\n",
    "accuracy = accuracy_score(y_test, y_pred)\n",
    "print(f\"Accuracy: {accuracy}\")\n",
    "\n",
    "# Display additional classification metrics\n",
    "print(classification_report(y_test, y_pred))"
   ]
  },
  {
   "cell_type": "markdown",
   "metadata": {},
   "source": [
    "Accuracy is improving at a negligible rate after doubling the no of descion trees"
   ]
  },
  {
   "cell_type": "code",
   "execution_count": 12,
   "metadata": {},
   "outputs": [
    {
     "name": "stdout",
     "output_type": "stream",
     "text": [
      "Accuracy: 0.3744145199063232\n"
     ]
    },
    {
     "name": "stderr",
     "output_type": "stream",
     "text": [
      "c:\\Users\\Hammaad\\AppData\\Local\\Programs\\Python\\Python39\\lib\\site-packages\\sklearn\\metrics\\_classification.py:1469: UndefinedMetricWarning: Precision and F-score are ill-defined and being set to 0.0 in labels with no predicted samples. Use `zero_division` parameter to control this behavior.\n",
      "  _warn_prf(average, modifier, msg_start, len(result))\n",
      "c:\\Users\\Hammaad\\AppData\\Local\\Programs\\Python\\Python39\\lib\\site-packages\\sklearn\\metrics\\_classification.py:1469: UndefinedMetricWarning: Precision and F-score are ill-defined and being set to 0.0 in labels with no predicted samples. Use `zero_division` parameter to control this behavior.\n",
      "  _warn_prf(average, modifier, msg_start, len(result))\n"
     ]
    },
    {
     "name": "stdout",
     "output_type": "stream",
     "text": [
      "               precision    recall  f1-score   support\n",
      "\n",
      "       BUTTER       0.00      0.00      0.00       147\n",
      "       CHEESE       0.00      0.00      0.00       876\n",
      "       COFFEE       0.19      0.02      0.03      1095\n",
      "COLD BEVERAGE       0.12      0.00      0.01       631\n",
      "        FLOUR       0.00      0.00      0.00       416\n",
      "    ICE CREAM       0.19      0.02      0.03      1056\n",
      "      YOGHURT       0.38      0.96      0.55      2611\n",
      "\n",
      "     accuracy                           0.37      6832\n",
      "    macro avg       0.13      0.14      0.09      6832\n",
      " weighted avg       0.22      0.37      0.22      6832\n",
      "\n"
     ]
    },
    {
     "name": "stderr",
     "output_type": "stream",
     "text": [
      "c:\\Users\\Hammaad\\AppData\\Local\\Programs\\Python\\Python39\\lib\\site-packages\\sklearn\\metrics\\_classification.py:1469: UndefinedMetricWarning: Precision and F-score are ill-defined and being set to 0.0 in labels with no predicted samples. Use `zero_division` parameter to control this behavior.\n",
      "  _warn_prf(average, modifier, msg_start, len(result))\n"
     ]
    }
   ],
   "source": [
    "# Split the data into training and testing sets\n",
    "X_train, X_test, y_train, y_test = train_test_split(X, y, test_size=0.2, random_state=42)\n",
    "\n",
    "# Create a RandomForestClassifier\n",
    "clf = RandomForestClassifier(n_estimators=50, random_state=42)\n",
    "\n",
    "# Train the model\n",
    "clf.fit(X_train, y_train)\n",
    "\n",
    "# Make predictions\n",
    "y_pred = clf.predict(X_test)\n",
    "\n",
    "# Evaluate the model\n",
    "accuracy = accuracy_score(y_test, y_pred)\n",
    "print(f\"Accuracy: {accuracy}\")\n",
    "\n",
    "# Display additional classification metrics\n",
    "print(classification_report(y_test, y_pred))"
   ]
  },
  {
   "cell_type": "markdown",
   "metadata": {},
   "source": [
    "Accuracy isnt affected significantly after tuning the no of decision trees used in the algorithm therefore all the possible hyper parameters are tuned therefore We should try another alogorithm"
   ]
  },
  {
   "cell_type": "markdown",
   "metadata": {},
   "source": [
    "<h1>Algorithm - xGBoost Classifier Accuracy (38.19%)</h1>"
   ]
  },
  {
   "cell_type": "code",
   "execution_count": 51,
   "metadata": {},
   "outputs": [
    {
     "name": "stdout",
     "output_type": "stream",
     "text": [
      "Accuracy: 0.37719555035128804\n",
      "              precision    recall  f1-score   support\n",
      "\n",
      "           0       0.00      0.00      0.00       147\n",
      "           1       0.00      0.00      0.00       876\n",
      "           2       0.24      0.01      0.02      1095\n",
      "           3       0.00      0.00      0.00       631\n",
      "           4       0.00      0.00      0.00       416\n",
      "           5       0.19      0.02      0.03      1056\n",
      "           6       0.38      0.98      0.55      2611\n",
      "\n",
      "    accuracy                           0.38      6832\n",
      "   macro avg       0.12      0.14      0.09      6832\n",
      "weighted avg       0.21      0.38      0.22      6832\n",
      "\n"
     ]
    },
    {
     "name": "stderr",
     "output_type": "stream",
     "text": [
      "c:\\Users\\Hammaad\\AppData\\Local\\Programs\\Python\\Python39\\lib\\site-packages\\sklearn\\metrics\\_classification.py:1469: UndefinedMetricWarning: Precision and F-score are ill-defined and being set to 0.0 in labels with no predicted samples. Use `zero_division` parameter to control this behavior.\n",
      "  _warn_prf(average, modifier, msg_start, len(result))\n",
      "c:\\Users\\Hammaad\\AppData\\Local\\Programs\\Python\\Python39\\lib\\site-packages\\sklearn\\metrics\\_classification.py:1469: UndefinedMetricWarning: Precision and F-score are ill-defined and being set to 0.0 in labels with no predicted samples. Use `zero_division` parameter to control this behavior.\n",
      "  _warn_prf(average, modifier, msg_start, len(result))\n",
      "c:\\Users\\Hammaad\\AppData\\Local\\Programs\\Python\\Python39\\lib\\site-packages\\sklearn\\metrics\\_classification.py:1469: UndefinedMetricWarning: Precision and F-score are ill-defined and being set to 0.0 in labels with no predicted samples. Use `zero_division` parameter to control this behavior.\n",
      "  _warn_prf(average, modifier, msg_start, len(result))\n"
     ]
    }
   ],
   "source": [
    "import pandas as pd\n",
    "from sklearn.model_selection import train_test_split\n",
    "from sklearn.preprocessing import LabelEncoder\n",
    "from xgboost import XGBClassifier\n",
    "from sklearn.metrics import accuracy_score, classification_report\n",
    "\n",
    "# Load your dataset\n",
    "# Assuming 'df' is your DataFrame\n",
    "# Make sure 'Category' column has the categorical labels\n",
    "\n",
    "# Encode categorical features\n",
    "label_encoder = LabelEncoder()\n",
    "df['DayOfWeek'] = label_encoder.fit_transform(df['DayOfWeek'])\n",
    "df['DayType'] = label_encoder.fit_transform(df['DayType'])\n",
    "\n",
    "# Encode the categorical target variable\n",
    "df['Category'] = label_encoder.fit_transform(df['Category'])\n",
    "\n",
    "# Define features (X) and target variable (y)\n",
    "features = ['Day', 'Month', 'Year', 'DayOfWeek', 'DayType', 'Rainfall', 'Week_of_Year']\n",
    "target = 'Category'\n",
    "\n",
    "X = df[features]\n",
    "y = df[target]\n",
    "\n",
    "# Split the data into training and testing sets\n",
    "X_train, X_test, y_train, y_test = train_test_split(X, y, test_size=0.2, random_state=42)\n",
    "\n",
    "# Create an XGBClassifier\n",
    "clf = XGBClassifier(objective='multi:softmax', random_state=42)\n",
    "\n",
    "# Train the model\n",
    "clf.fit(X_train, y_train)\n",
    "\n",
    "# Make predictions\n",
    "y_pred = clf.predict(X_test)\n",
    "\n",
    "# Decode the predictions back to original labels if needed\n",
    "y_pred_labels = label_encoder.inverse_transform(y_pred)\n",
    "\n",
    "# Evaluate the model\n",
    "accuracy = accuracy_score(y_test, y_pred)\n",
    "print(f\"Accuracy: {accuracy}\")\n",
    "\n",
    "# Display additional classification metrics\n",
    "print(classification_report(y_test, y_pred))\n"
   ]
  },
  {
   "cell_type": "markdown",
   "metadata": {},
   "source": [
    "Accuracy is 37% without tuning hyper parameters"
   ]
  },
  {
   "cell_type": "markdown",
   "metadata": {},
   "source": [
    "<h2>Tuning Hyper Parameters</h2>"
   ]
  },
  {
   "cell_type": "code",
   "execution_count": 54,
   "metadata": {},
   "outputs": [
    {
     "name": "stdout",
     "output_type": "stream",
     "text": [
      "Accuracy: 0.37983021077283374\n",
      "              precision    recall  f1-score   support\n",
      "\n",
      "           0       0.00      0.00      0.00       147\n",
      "           1       0.00      0.00      0.00       876\n",
      "           2       0.43      0.00      0.01      1095\n",
      "           3       0.00      0.00      0.00       631\n",
      "           4       0.00      0.00      0.00       416\n",
      "           5       0.11      0.00      0.01      1056\n",
      "           6       0.38      0.99      0.55      2611\n",
      "\n",
      "    accuracy                           0.38      6832\n",
      "   macro avg       0.13      0.14      0.08      6832\n",
      "weighted avg       0.23      0.38      0.21      6832\n",
      "\n"
     ]
    },
    {
     "name": "stderr",
     "output_type": "stream",
     "text": [
      "c:\\Users\\Hammaad\\AppData\\Local\\Programs\\Python\\Python39\\lib\\site-packages\\sklearn\\metrics\\_classification.py:1469: UndefinedMetricWarning: Precision and F-score are ill-defined and being set to 0.0 in labels with no predicted samples. Use `zero_division` parameter to control this behavior.\n",
      "  _warn_prf(average, modifier, msg_start, len(result))\n",
      "c:\\Users\\Hammaad\\AppData\\Local\\Programs\\Python\\Python39\\lib\\site-packages\\sklearn\\metrics\\_classification.py:1469: UndefinedMetricWarning: Precision and F-score are ill-defined and being set to 0.0 in labels with no predicted samples. Use `zero_division` parameter to control this behavior.\n",
      "  _warn_prf(average, modifier, msg_start, len(result))\n",
      "c:\\Users\\Hammaad\\AppData\\Local\\Programs\\Python\\Python39\\lib\\site-packages\\sklearn\\metrics\\_classification.py:1469: UndefinedMetricWarning: Precision and F-score are ill-defined and being set to 0.0 in labels with no predicted samples. Use `zero_division` parameter to control this behavior.\n",
      "  _warn_prf(average, modifier, msg_start, len(result))\n"
     ]
    }
   ],
   "source": [
    "X_train, X_test, y_train, y_test = train_test_split(X, y, test_size=0.2, random_state=42)\n",
    "\n",
    "# Create an XGBClassifier\n",
    "clf = XGBClassifier(objective='multi:softmax', random_state=42, learning_rate=0.1)\n",
    "\n",
    "# Train the model\n",
    "clf.fit(X_train, y_train)\n",
    "\n",
    "# Make predictions\n",
    "y_pred = clf.predict(X_test)\n",
    "\n",
    "# Decode the predictions back to original labels if needed\n",
    "y_pred_labels = label_encoder.inverse_transform(y_pred)\n",
    "\n",
    "# Evaluate the model\n",
    "accuracy = accuracy_score(y_test, y_pred)\n",
    "print(f\"Accuracy: {accuracy}\")\n",
    "\n",
    "# Display additional classification metrics\n",
    "print(classification_report(y_test, y_pred))\n"
   ]
  },
  {
   "cell_type": "markdown",
   "metadata": {},
   "source": [
    "Using the golden triple values for the leaning rate. 37.9% after 0.1 learning rate"
   ]
  },
  {
   "cell_type": "code",
   "execution_count": 60,
   "metadata": {},
   "outputs": [
    {
     "name": "stdout",
     "output_type": "stream",
     "text": [
      "Accuracy: 0.38129391100702575\n",
      "              precision    recall  f1-score   support\n",
      "\n",
      "           0       0.00      0.00      0.00       147\n",
      "           1       0.00      0.00      0.00       876\n",
      "           2       0.00      0.00      0.00      1095\n",
      "           3       0.00      0.00      0.00       631\n",
      "           4       0.00      0.00      0.00       416\n",
      "           5       0.15      0.00      0.00      1056\n",
      "           6       0.38      1.00      0.55      2611\n",
      "\n",
      "    accuracy                           0.38      6832\n",
      "   macro avg       0.08      0.14      0.08      6832\n",
      "weighted avg       0.17      0.38      0.21      6832\n",
      "\n"
     ]
    },
    {
     "name": "stderr",
     "output_type": "stream",
     "text": [
      "c:\\Users\\Hammaad\\AppData\\Local\\Programs\\Python\\Python39\\lib\\site-packages\\sklearn\\metrics\\_classification.py:1469: UndefinedMetricWarning: Precision and F-score are ill-defined and being set to 0.0 in labels with no predicted samples. Use `zero_division` parameter to control this behavior.\n",
      "  _warn_prf(average, modifier, msg_start, len(result))\n",
      "c:\\Users\\Hammaad\\AppData\\Local\\Programs\\Python\\Python39\\lib\\site-packages\\sklearn\\metrics\\_classification.py:1469: UndefinedMetricWarning: Precision and F-score are ill-defined and being set to 0.0 in labels with no predicted samples. Use `zero_division` parameter to control this behavior.\n",
      "  _warn_prf(average, modifier, msg_start, len(result))\n",
      "c:\\Users\\Hammaad\\AppData\\Local\\Programs\\Python\\Python39\\lib\\site-packages\\sklearn\\metrics\\_classification.py:1469: UndefinedMetricWarning: Precision and F-score are ill-defined and being set to 0.0 in labels with no predicted samples. Use `zero_division` parameter to control this behavior.\n",
      "  _warn_prf(average, modifier, msg_start, len(result))\n"
     ]
    }
   ],
   "source": [
    "X_train, X_test, y_train, y_test = train_test_split(X, y, test_size=0.2, random_state=42)\n",
    "\n",
    "# Create an XGBClassifier\n",
    "clf = XGBClassifier(objective='multi:softmax', random_state=42, learning_rate=0.03)\n",
    "\n",
    "# Train the model\n",
    "clf.fit(X_train, y_train)\n",
    "\n",
    "# Make predictions\n",
    "y_pred = clf.predict(X_test)\n",
    "\n",
    "# Decode the predictions back to original labels if needed\n",
    "y_pred_labels = label_encoder.inverse_transform(y_pred)\n",
    "\n",
    "# Evaluate the model\n",
    "accuracy = accuracy_score(y_test, y_pred)\n",
    "print(f\"Accuracy: {accuracy}\")\n",
    "\n",
    "# Display additional classification metrics\n",
    "print(classification_report(y_test, y_pred))\n"
   ]
  },
  {
   "cell_type": "markdown",
   "metadata": {},
   "source": [
    "Accuracy increased to 38% after lowering the learning rate"
   ]
  },
  {
   "cell_type": "code",
   "execution_count": 5,
   "metadata": {},
   "outputs": [
    {
     "name": "stdout",
     "output_type": "stream",
     "text": [
      "Accuracy: 0.382172131147541\n",
      "              precision    recall  f1-score   support\n",
      "\n",
      "           0       0.00      0.00      0.00       147\n",
      "           1       0.00      0.00      0.00       876\n",
      "           2       0.00      0.00      0.00      1095\n",
      "           3       0.00      0.00      0.00       631\n",
      "           4       0.00      0.00      0.00       416\n",
      "           5       0.00      0.00      0.00      1056\n",
      "           6       0.38      1.00      0.55      2611\n",
      "\n",
      "    accuracy                           0.38      6832\n",
      "   macro avg       0.05      0.14      0.08      6832\n",
      "weighted avg       0.15      0.38      0.21      6832\n",
      "\n"
     ]
    },
    {
     "name": "stderr",
     "output_type": "stream",
     "text": [
      "c:\\Users\\Hammaad\\AppData\\Local\\Programs\\Python\\Python39\\lib\\site-packages\\sklearn\\metrics\\_classification.py:1469: UndefinedMetricWarning: Precision and F-score are ill-defined and being set to 0.0 in labels with no predicted samples. Use `zero_division` parameter to control this behavior.\n",
      "  _warn_prf(average, modifier, msg_start, len(result))\n",
      "c:\\Users\\Hammaad\\AppData\\Local\\Programs\\Python\\Python39\\lib\\site-packages\\sklearn\\metrics\\_classification.py:1469: UndefinedMetricWarning: Precision and F-score are ill-defined and being set to 0.0 in labels with no predicted samples. Use `zero_division` parameter to control this behavior.\n",
      "  _warn_prf(average, modifier, msg_start, len(result))\n",
      "c:\\Users\\Hammaad\\AppData\\Local\\Programs\\Python\\Python39\\lib\\site-packages\\sklearn\\metrics\\_classification.py:1469: UndefinedMetricWarning: Precision and F-score are ill-defined and being set to 0.0 in labels with no predicted samples. Use `zero_division` parameter to control this behavior.\n",
      "  _warn_prf(average, modifier, msg_start, len(result))\n"
     ]
    }
   ],
   "source": [
    "X_train, X_test, y_train, y_test = train_test_split(X, y, test_size=0.2, random_state=42)\n",
    "\n",
    "# Create an XGBClassifier\n",
    "clf = XGBClassifier(objective='multi:softmax', random_state=42, learning_rate=0.001, n_estimators=1000, max_depth=5)\n",
    "\n",
    "# Train the model\n",
    "clf.fit(X_train, y_train)\n",
    "\n",
    "# Make predictions\n",
    "y_pred = clf.predict(X_test)\n",
    "\n",
    "# Decode the predictions back to original labels if needed\n",
    "y_pred_labels = label_encoder.inverse_transform(y_pred)\n",
    "\n",
    "# Evaluate the model\n",
    "accuracy = accuracy_score(y_test, y_pred)\n",
    "print(f\"Accuracy: {accuracy}\")\n",
    "\n",
    "# Display additional classification metrics\n",
    "print(classification_report(y_test, y_pred))\n"
   ]
  },
  {
   "cell_type": "markdown",
   "metadata": {},
   "source": [
    "Accuracy increased to 38.2% after lowering the learning rate and adding more decision trees"
   ]
  },
  {
   "cell_type": "markdown",
   "metadata": {},
   "source": [
    "No luck need to get a better score.... Possible options to do:\n",
    "- Plot the feautre importance\n",
    "- Feature engineer new values around that feature\n",
    "- Repeat!"
   ]
  },
  {
   "cell_type": "markdown",
   "metadata": {},
   "source": [
    "<h2>Feature Importance</h2>"
   ]
  },
  {
   "cell_type": "code",
   "execution_count": 6,
   "metadata": {},
   "outputs": [
    {
     "data": {
      "text/plain": [
       "<AxesSubplot:title={'center':'Feature importance'}, xlabel='F score', ylabel='Features'>"
      ]
     },
     "execution_count": 6,
     "metadata": {},
     "output_type": "execute_result"
    },
    {
     "data": {
      "image/png": "[encoded data removed]",
      "text/plain": [
       "<Figure size 432x288 with 1 Axes>"
      ]
     },
     "metadata": {
      "needs_background": "light"
     },
     "output_type": "display_data"
    }
   ],
   "source": [
    "plot_importance(clf)"
   ]
  },
  {
   "cell_type": "markdown",
   "metadata": {},
   "source": [
    "Day and WeekOfYear has a higher feature importance compared to the rest"
   ]
  },
  {
   "cell_type": "markdown",
   "metadata": {},
   "source": [
    "<h2>Feature Engineering</h2>"
   ]
  },
  {
   "cell_type": "markdown",
   "metadata": {},
   "source": [
    "Add a column for Average temperature for that day"
   ]
  },
  {
   "cell_type": "markdown",
   "metadata": {},
   "source": [
    "<h2>Regression</h2>"
   ]
  },
  {
   "cell_type": "markdown",
   "metadata": {},
   "source": [
    "generate ID to make records unique"
   ]
  },
  {
   "cell_type": "code",
   "execution_count": 47,
   "metadata": {},
   "outputs": [],
   "source": [
    "sales_df[\"Id\"]=range(1, len(sales_df) + 1)\n",
    "sales_df=sales_df[['Id','Product Name', 'Product Quantity', 'Units sold', 'Day',\n",
    "    'Month', 'Year', 'DayOfWeek', 'Category', 'DayType', 'Week_of_Year',\n",
    "    'Rainfall']]"
   ]
  },
  {
   "cell_type": "markdown",
   "metadata": {},
   "source": [
    "Explore the new dataset and split the categories into columns. then predict using Random forrest regressor and XGboost"
   ]
  },
  {
   "cell_type": "code",
   "execution_count": 49,
   "metadata": {},
   "outputs": [],
   "source": [
    "sales_df = sales_df[['Product Name', 'Product Quantity', 'Category', 'Day', 'Month', 'Year', 'DayOfWeek', 'DayType', 'Week_of_Year', 'Rainfall','Units sold']]\n"
   ]
  },
  {
   "cell_type": "code",
   "execution_count": 50,
   "metadata": {},
   "outputs": [
    {
     "data": {
      "text/html": [
       "<div>\n",
       "<style scoped>\n",
       "    .dataframe tbody tr th:only-of-type {\n",
       "        vertical-align: middle;\n",
       "    }\n",
       "\n",
       "    .dataframe tbody tr th {\n",
       "        vertical-align: top;\n",
       "    }\n",
       "\n",
       "    .dataframe thead th {\n",
       "        text-align: right;\n",
       "    }\n",
       "</style>\n",
       "<table border=\"1\" class=\"dataframe\">\n",
       "  <thead>\n",
       "    <tr style=\"text-align: right;\">\n",
       "      <th></th>\n",
       "      <th>Product Name</th>\n",
       "      <th>Product Quantity</th>\n",
       "      <th>Category</th>\n",
       "      <th>Day</th>\n",
       "      <th>Month</th>\n",
       "      <th>Year</th>\n",
       "      <th>DayOfWeek</th>\n",
       "      <th>DayType</th>\n",
       "      <th>Week_of_Year</th>\n",
       "      <th>Rainfall</th>\n",
       "      <th>Units sold</th>\n",
       "    </tr>\n",
       "  </thead>\n",
       "  <tbody>\n",
       "    <tr>\n",
       "      <th>0</th>\n",
       "      <td>0</td>\n",
       "      <td>80ML</td>\n",
       "      <td>YOGHURT</td>\n",
       "      <td>2</td>\n",
       "      <td>1</td>\n",
       "      <td>2022</td>\n",
       "      <td>Sunday</td>\n",
       "      <td>Weekend</td>\n",
       "      <td>52</td>\n",
       "      <td>7.6</td>\n",
       "      <td>6</td>\n",
       "    </tr>\n",
       "    <tr>\n",
       "      <th>1</th>\n",
       "      <td>0</td>\n",
       "      <td>80ML</td>\n",
       "      <td>YOGHURT</td>\n",
       "      <td>1</td>\n",
       "      <td>1</td>\n",
       "      <td>2022</td>\n",
       "      <td>Saturday</td>\n",
       "      <td>Weekend</td>\n",
       "      <td>52</td>\n",
       "      <td>0.1</td>\n",
       "      <td>6</td>\n",
       "    </tr>\n",
       "    <tr>\n",
       "      <th>2</th>\n",
       "      <td>0</td>\n",
       "      <td>80ML</td>\n",
       "      <td>YOGHURT</td>\n",
       "      <td>1</td>\n",
       "      <td>1</td>\n",
       "      <td>2022</td>\n",
       "      <td>Saturday</td>\n",
       "      <td>Weekend</td>\n",
       "      <td>52</td>\n",
       "      <td>0.1</td>\n",
       "      <td>1</td>\n",
       "    </tr>\n",
       "    <tr>\n",
       "      <th>3</th>\n",
       "      <td>0</td>\n",
       "      <td>80ML</td>\n",
       "      <td>YOGHURT</td>\n",
       "      <td>1</td>\n",
       "      <td>1</td>\n",
       "      <td>2022</td>\n",
       "      <td>Saturday</td>\n",
       "      <td>Weekend</td>\n",
       "      <td>52</td>\n",
       "      <td>0.1</td>\n",
       "      <td>6</td>\n",
       "    </tr>\n",
       "    <tr>\n",
       "      <th>4</th>\n",
       "      <td>0</td>\n",
       "      <td>80ML</td>\n",
       "      <td>YOGHURT</td>\n",
       "      <td>2</td>\n",
       "      <td>1</td>\n",
       "      <td>2022</td>\n",
       "      <td>Sunday</td>\n",
       "      <td>Weekend</td>\n",
       "      <td>52</td>\n",
       "      <td>7.6</td>\n",
       "      <td>10</td>\n",
       "    </tr>\n",
       "    <tr>\n",
       "      <th>...</th>\n",
       "      <td>...</td>\n",
       "      <td>...</td>\n",
       "      <td>...</td>\n",
       "      <td>...</td>\n",
       "      <td>...</td>\n",
       "      <td>...</td>\n",
       "      <td>...</td>\n",
       "      <td>...</td>\n",
       "      <td>...</td>\n",
       "      <td>...</td>\n",
       "      <td>...</td>\n",
       "    </tr>\n",
       "    <tr>\n",
       "      <th>34154</th>\n",
       "      <td>18</td>\n",
       "      <td>80ML</td>\n",
       "      <td>YOGHURT</td>\n",
       "      <td>9</td>\n",
       "      <td>10</td>\n",
       "      <td>2023</td>\n",
       "      <td>Monday</td>\n",
       "      <td>Weekday</td>\n",
       "      <td>41</td>\n",
       "      <td>0.0</td>\n",
       "      <td>12</td>\n",
       "    </tr>\n",
       "    <tr>\n",
       "      <th>34155</th>\n",
       "      <td>18</td>\n",
       "      <td>80ML</td>\n",
       "      <td>YOGHURT</td>\n",
       "      <td>9</td>\n",
       "      <td>10</td>\n",
       "      <td>2023</td>\n",
       "      <td>Monday</td>\n",
       "      <td>Weekday</td>\n",
       "      <td>41</td>\n",
       "      <td>0.0</td>\n",
       "      <td>9</td>\n",
       "    </tr>\n",
       "    <tr>\n",
       "      <th>34156</th>\n",
       "      <td>18</td>\n",
       "      <td>80ML</td>\n",
       "      <td>YOGHURT</td>\n",
       "      <td>9</td>\n",
       "      <td>10</td>\n",
       "      <td>2023</td>\n",
       "      <td>Monday</td>\n",
       "      <td>Weekday</td>\n",
       "      <td>41</td>\n",
       "      <td>0.0</td>\n",
       "      <td>13</td>\n",
       "    </tr>\n",
       "    <tr>\n",
       "      <th>34157</th>\n",
       "      <td>18</td>\n",
       "      <td>80ML</td>\n",
       "      <td>YOGHURT</td>\n",
       "      <td>9</td>\n",
       "      <td>10</td>\n",
       "      <td>2023</td>\n",
       "      <td>Monday</td>\n",
       "      <td>Weekday</td>\n",
       "      <td>41</td>\n",
       "      <td>0.0</td>\n",
       "      <td>7</td>\n",
       "    </tr>\n",
       "    <tr>\n",
       "      <th>34158</th>\n",
       "      <td>18</td>\n",
       "      <td>80ML</td>\n",
       "      <td>YOGHURT</td>\n",
       "      <td>9</td>\n",
       "      <td>10</td>\n",
       "      <td>2023</td>\n",
       "      <td>Monday</td>\n",
       "      <td>Weekday</td>\n",
       "      <td>41</td>\n",
       "      <td>0.0</td>\n",
       "      <td>5</td>\n",
       "    </tr>\n",
       "  </tbody>\n",
       "</table>\n",
       "<p>34159 rows × 11 columns</p>\n",
       "</div>"
      ],
      "text/plain": [
       "       Product Name Product Quantity Category  Day  Month  Year DayOfWeek  \\\n",
       "0                 0             80ML  YOGHURT    2      1  2022    Sunday   \n",
       "1                 0             80ML  YOGHURT    1      1  2022  Saturday   \n",
       "2                 0             80ML  YOGHURT    1      1  2022  Saturday   \n",
       "3                 0             80ML  YOGHURT    1      1  2022  Saturday   \n",
       "4                 0             80ML  YOGHURT    2      1  2022    Sunday   \n",
       "...             ...              ...      ...  ...    ...   ...       ...   \n",
       "34154            18             80ML  YOGHURT    9     10  2023    Monday   \n",
       "34155            18             80ML  YOGHURT    9     10  2023    Monday   \n",
       "34156            18             80ML  YOGHURT    9     10  2023    Monday   \n",
       "34157            18             80ML  YOGHURT    9     10  2023    Monday   \n",
       "34158            18             80ML  YOGHURT    9     10  2023    Monday   \n",
       "\n",
       "       DayType  Week_of_Year  Rainfall  Units sold  \n",
       "0      Weekend            52       7.6           6  \n",
       "1      Weekend            52       0.1           6  \n",
       "2      Weekend            52       0.1           1  \n",
       "3      Weekend            52       0.1           6  \n",
       "4      Weekend            52       7.6          10  \n",
       "...        ...           ...       ...         ...  \n",
       "34154  Weekday            41       0.0          12  \n",
       "34155  Weekday            41       0.0           9  \n",
       "34156  Weekday            41       0.0          13  \n",
       "34157  Weekday            41       0.0           7  \n",
       "34158  Weekday            41       0.0           5  \n",
       "\n",
       "[34159 rows x 11 columns]"
      ]
     },
     "execution_count": 50,
     "metadata": {},
     "output_type": "execute_result"
    }
   ],
   "source": [
    "sales_df"
   ]
  },
  {
   "cell_type": "code",
   "execution_count": 51,
   "metadata": {},
   "outputs": [],
   "source": [
    "input_cols = ['Product Name', 'Product Quantity', 'Category', 'Day', 'Month', 'Year', 'DayOfWeek', 'DayType', 'Week_of_Year', 'Rainfall']\n",
    "target_col = 'Units sold'\n",
    "inputs = sales_df[input_cols].copy()\n",
    "targets = sales_df[target_col].copy()"
   ]
  },
  {
   "cell_type": "markdown",
   "metadata": {},
   "source": [
    "split between nuemeric and categorical columns"
   ]
  },
  {
   "cell_type": "code",
   "execution_count": 52,
   "metadata": {},
   "outputs": [],
   "source": [
    "numeric_cols = ['Product Name', 'Day', 'Month', 'Year', 'Week_of_Year', 'Rainfall']  # list of numeric columns\n",
    "categorical_cols = ['Product Quantity', 'Category', 'DayOfWeek', 'DayType']  # list of categorical columns"
   ]
  },
  {
   "cell_type": "markdown",
   "metadata": {},
   "source": [
    "<h1>Algorithm - XGBoost regressor (34.81)</h1>"
   ]
  },
  {
   "cell_type": "code",
   "execution_count": 14,
   "metadata": {},
   "outputs": [
    {
     "ename": "NameError",
     "evalue": "name 'sales_df_encoded' is not defined",
     "output_type": "error",
     "traceback": [
      "\u001b[0;31m---------------------------------------------------------------------------\u001b[0m",
      "\u001b[0;31mNameError\u001b[0m                                 Traceback (most recent call last)",
      "Cell \u001b[0;32mIn[14], line 4\u001b[0m\n\u001b[1;32m      1\u001b[0m \u001b[38;5;28;01mfrom\u001b[39;00m \u001b[38;5;21;01msklearn\u001b[39;00m\u001b[38;5;21;01m.\u001b[39;00m\u001b[38;5;21;01mmodel_selection\u001b[39;00m \u001b[38;5;28;01mimport\u001b[39;00m train_test_split\n\u001b[1;32m      3\u001b[0m \u001b[38;5;66;03m# Split the data into training and testing sets\u001b[39;00m\n\u001b[0;32m----> 4\u001b[0m X_train, X_test, y_train, y_test \u001b[38;5;241m=\u001b[39m train_test_split(\u001b[43msales_df_encoded\u001b[49m\u001b[38;5;241m.\u001b[39mdrop(\u001b[38;5;124m'\u001b[39m\u001b[38;5;124mUnits sold\u001b[39m\u001b[38;5;124m'\u001b[39m, axis\u001b[38;5;241m=\u001b[39m\u001b[38;5;241m1\u001b[39m), sales_df_encoded[\u001b[38;5;124m'\u001b[39m\u001b[38;5;124mUnits sold\u001b[39m\u001b[38;5;124m'\u001b[39m], test_size\u001b[38;5;241m=\u001b[39m\u001b[38;5;241m0.2\u001b[39m, random_state\u001b[38;5;241m=\u001b[39m\u001b[38;5;241m42\u001b[39m)\n\u001b[1;32m      5\u001b[0m \u001b[38;5;28;01mfrom\u001b[39;00m \u001b[38;5;21;01mxgboost\u001b[39;00m \u001b[38;5;28;01mimport\u001b[39;00m XGBRegressor\n\u001b[1;32m      7\u001b[0m \u001b[38;5;66;03m# Instantiate the XGBRegressor\u001b[39;00m\n",
      "\u001b[0;31mNameError\u001b[0m: name 'sales_df_encoded' is not defined"
     ]
    }
   ],
   "source": [
    "from sklearn.model_selection import train_test_split\n",
    "\n",
    "# Split the data into training and testing sets\n",
    "X_train, X_test, y_train, y_test = train_test_split(sales.drop('Units sold', axis=1), sales_df_encoded['Units sold'], test_size=0.2, random_state=42)\n",
    "from xgboost import XGBRegressor\n",
    "\n",
    "# Instantiate the XGBRegressor\n",
    "model = XGBRegressor(n_jobs=-1, random_state=50, n_estimators=1000, \n",
    "                     learning_rate=0.2, max_depth=10, subsample=0.9, \n",
    "                     colsample_bytree=0.7)\n",
    "# Fit the model to the training data\n",
    "model.fit(X_train, y_train)\n",
    "\n",
    "# Use the model to predict the test data\n",
    "model = xgb.predict(X_test)\n"
   ]
  },
  {
   "cell_type": "code",
   "execution_count": 15,
   "metadata": {},
   "outputs": [
    {
     "ename": "NameError",
     "evalue": "name 'y_test' is not defined",
     "output_type": "error",
     "traceback": [
      "\u001b[0;31m---------------------------------------------------------------------------\u001b[0m",
      "\u001b[0;31mNameError\u001b[0m                                 Traceback (most recent call last)",
      "Cell \u001b[0;32mIn[15], line 5\u001b[0m\n\u001b[1;32m      2\u001b[0m \u001b[38;5;28;01mimport\u001b[39;00m \u001b[38;5;21;01mnumpy\u001b[39;00m \u001b[38;5;28;01mas\u001b[39;00m \u001b[38;5;21;01mnp\u001b[39;00m\n\u001b[1;32m      4\u001b[0m \u001b[38;5;66;03m# Calculate MAE, MSE, RMSE\u001b[39;00m\n\u001b[0;32m----> 5\u001b[0m mae \u001b[38;5;241m=\u001b[39m mean_absolute_error(\u001b[43my_test\u001b[49m, y_pred)\n\u001b[1;32m      6\u001b[0m mse \u001b[38;5;241m=\u001b[39m mean_squared_error(y_test, y_pred)\n\u001b[1;32m      7\u001b[0m rmse \u001b[38;5;241m=\u001b[39m np\u001b[38;5;241m.\u001b[39msqrt(mse)\n",
      "\u001b[0;31mNameError\u001b[0m: name 'y_test' is not defined"
     ]
    }
   ],
   "source": [
    "from sklearn.metrics import mean_absolute_error, mean_squared_error\n",
    "import numpy as np\n",
    "\n",
    "# Calculate MAE, MSE, RMSE\n",
    "mae = mean_absolute_error(y_test, y_pred)\n",
    "mse = mean_squared_error(y_test, y_pred)\n",
    "rmse = np.sqrt(mse)\n",
    "\n",
    "print(f\"Mean Absolute Error: {mae}\")\n",
    "print(f\"Mean Squared Error: {mse}\")\n",
    "print(f\"Root Mean Squared Error: {rmse}\")"
   ]
  },
  {
   "cell_type": "markdown",
   "metadata": {},
   "source": [
    "Use Feature Scaling for Numeric Values"
   ]
  },
  {
   "cell_type": "markdown",
   "metadata": {},
   "source": [
    "Scale numeric values to the 0 to 1 range."
   ]
  },
  {
   "cell_type": "code",
   "execution_count": 53,
   "metadata": {},
   "outputs": [
    {
     "data": {
      "text/html": [
       "<div>\n",
       "<style scoped>\n",
       "    .dataframe tbody tr th:only-of-type {\n",
       "        vertical-align: middle;\n",
       "    }\n",
       "\n",
       "    .dataframe tbody tr th {\n",
       "        vertical-align: top;\n",
       "    }\n",
       "\n",
       "    .dataframe thead th {\n",
       "        text-align: right;\n",
       "    }\n",
       "</style>\n",
       "<table border=\"1\" class=\"dataframe\">\n",
       "  <thead>\n",
       "    <tr style=\"text-align: right;\">\n",
       "      <th></th>\n",
       "      <th>Product Name</th>\n",
       "      <th>Product Quantity</th>\n",
       "      <th>Category</th>\n",
       "      <th>Day</th>\n",
       "      <th>Month</th>\n",
       "      <th>Year</th>\n",
       "      <th>DayOfWeek</th>\n",
       "      <th>DayType</th>\n",
       "      <th>Week_of_Year</th>\n",
       "      <th>Rainfall</th>\n",
       "      <th>Units sold</th>\n",
       "    </tr>\n",
       "  </thead>\n",
       "  <tbody>\n",
       "    <tr>\n",
       "      <th>0</th>\n",
       "      <td>0</td>\n",
       "      <td>80ML</td>\n",
       "      <td>YOGHURT</td>\n",
       "      <td>2</td>\n",
       "      <td>1</td>\n",
       "      <td>2022</td>\n",
       "      <td>Sunday</td>\n",
       "      <td>Weekend</td>\n",
       "      <td>52</td>\n",
       "      <td>7.6</td>\n",
       "      <td>6</td>\n",
       "    </tr>\n",
       "    <tr>\n",
       "      <th>1</th>\n",
       "      <td>0</td>\n",
       "      <td>80ML</td>\n",
       "      <td>YOGHURT</td>\n",
       "      <td>1</td>\n",
       "      <td>1</td>\n",
       "      <td>2022</td>\n",
       "      <td>Saturday</td>\n",
       "      <td>Weekend</td>\n",
       "      <td>52</td>\n",
       "      <td>0.1</td>\n",
       "      <td>6</td>\n",
       "    </tr>\n",
       "    <tr>\n",
       "      <th>2</th>\n",
       "      <td>0</td>\n",
       "      <td>80ML</td>\n",
       "      <td>YOGHURT</td>\n",
       "      <td>1</td>\n",
       "      <td>1</td>\n",
       "      <td>2022</td>\n",
       "      <td>Saturday</td>\n",
       "      <td>Weekend</td>\n",
       "      <td>52</td>\n",
       "      <td>0.1</td>\n",
       "      <td>1</td>\n",
       "    </tr>\n",
       "    <tr>\n",
       "      <th>3</th>\n",
       "      <td>0</td>\n",
       "      <td>80ML</td>\n",
       "      <td>YOGHURT</td>\n",
       "      <td>1</td>\n",
       "      <td>1</td>\n",
       "      <td>2022</td>\n",
       "      <td>Saturday</td>\n",
       "      <td>Weekend</td>\n",
       "      <td>52</td>\n",
       "      <td>0.1</td>\n",
       "      <td>6</td>\n",
       "    </tr>\n",
       "    <tr>\n",
       "      <th>4</th>\n",
       "      <td>0</td>\n",
       "      <td>80ML</td>\n",
       "      <td>YOGHURT</td>\n",
       "      <td>2</td>\n",
       "      <td>1</td>\n",
       "      <td>2022</td>\n",
       "      <td>Sunday</td>\n",
       "      <td>Weekend</td>\n",
       "      <td>52</td>\n",
       "      <td>7.6</td>\n",
       "      <td>10</td>\n",
       "    </tr>\n",
       "    <tr>\n",
       "      <th>...</th>\n",
       "      <td>...</td>\n",
       "      <td>...</td>\n",
       "      <td>...</td>\n",
       "      <td>...</td>\n",
       "      <td>...</td>\n",
       "      <td>...</td>\n",
       "      <td>...</td>\n",
       "      <td>...</td>\n",
       "      <td>...</td>\n",
       "      <td>...</td>\n",
       "      <td>...</td>\n",
       "    </tr>\n",
       "    <tr>\n",
       "      <th>34154</th>\n",
       "      <td>18</td>\n",
       "      <td>80ML</td>\n",
       "      <td>YOGHURT</td>\n",
       "      <td>9</td>\n",
       "      <td>10</td>\n",
       "      <td>2023</td>\n",
       "      <td>Monday</td>\n",
       "      <td>Weekday</td>\n",
       "      <td>41</td>\n",
       "      <td>0.0</td>\n",
       "      <td>12</td>\n",
       "    </tr>\n",
       "    <tr>\n",
       "      <th>34155</th>\n",
       "      <td>18</td>\n",
       "      <td>80ML</td>\n",
       "      <td>YOGHURT</td>\n",
       "      <td>9</td>\n",
       "      <td>10</td>\n",
       "      <td>2023</td>\n",
       "      <td>Monday</td>\n",
       "      <td>Weekday</td>\n",
       "      <td>41</td>\n",
       "      <td>0.0</td>\n",
       "      <td>9</td>\n",
       "    </tr>\n",
       "    <tr>\n",
       "      <th>34156</th>\n",
       "      <td>18</td>\n",
       "      <td>80ML</td>\n",
       "      <td>YOGHURT</td>\n",
       "      <td>9</td>\n",
       "      <td>10</td>\n",
       "      <td>2023</td>\n",
       "      <td>Monday</td>\n",
       "      <td>Weekday</td>\n",
       "      <td>41</td>\n",
       "      <td>0.0</td>\n",
       "      <td>13</td>\n",
       "    </tr>\n",
       "    <tr>\n",
       "      <th>34157</th>\n",
       "      <td>18</td>\n",
       "      <td>80ML</td>\n",
       "      <td>YOGHURT</td>\n",
       "      <td>9</td>\n",
       "      <td>10</td>\n",
       "      <td>2023</td>\n",
       "      <td>Monday</td>\n",
       "      <td>Weekday</td>\n",
       "      <td>41</td>\n",
       "      <td>0.0</td>\n",
       "      <td>7</td>\n",
       "    </tr>\n",
       "    <tr>\n",
       "      <th>34158</th>\n",
       "      <td>18</td>\n",
       "      <td>80ML</td>\n",
       "      <td>YOGHURT</td>\n",
       "      <td>9</td>\n",
       "      <td>10</td>\n",
       "      <td>2023</td>\n",
       "      <td>Monday</td>\n",
       "      <td>Weekday</td>\n",
       "      <td>41</td>\n",
       "      <td>0.0</td>\n",
       "      <td>5</td>\n",
       "    </tr>\n",
       "  </tbody>\n",
       "</table>\n",
       "<p>34159 rows × 11 columns</p>\n",
       "</div>"
      ],
      "text/plain": [
       "       Product Name Product Quantity Category  Day  Month  Year DayOfWeek  \\\n",
       "0                 0             80ML  YOGHURT    2      1  2022    Sunday   \n",
       "1                 0             80ML  YOGHURT    1      1  2022  Saturday   \n",
       "2                 0             80ML  YOGHURT    1      1  2022  Saturday   \n",
       "3                 0             80ML  YOGHURT    1      1  2022  Saturday   \n",
       "4                 0             80ML  YOGHURT    2      1  2022    Sunday   \n",
       "...             ...              ...      ...  ...    ...   ...       ...   \n",
       "34154            18             80ML  YOGHURT    9     10  2023    Monday   \n",
       "34155            18             80ML  YOGHURT    9     10  2023    Monday   \n",
       "34156            18             80ML  YOGHURT    9     10  2023    Monday   \n",
       "34157            18             80ML  YOGHURT    9     10  2023    Monday   \n",
       "34158            18             80ML  YOGHURT    9     10  2023    Monday   \n",
       "\n",
       "       DayType  Week_of_Year  Rainfall  Units sold  \n",
       "0      Weekend            52       7.6           6  \n",
       "1      Weekend            52       0.1           6  \n",
       "2      Weekend            52       0.1           1  \n",
       "3      Weekend            52       0.1           6  \n",
       "4      Weekend            52       7.6          10  \n",
       "...        ...           ...       ...         ...  \n",
       "34154  Weekday            41       0.0          12  \n",
       "34155  Weekday            41       0.0           9  \n",
       "34156  Weekday            41       0.0          13  \n",
       "34157  Weekday            41       0.0           7  \n",
       "34158  Weekday            41       0.0           5  \n",
       "\n",
       "[34159 rows x 11 columns]"
      ]
     },
     "execution_count": 53,
     "metadata": {},
     "output_type": "execute_result"
    }
   ],
   "source": [
    "sales_df"
   ]
  },
  {
   "cell_type": "code",
   "execution_count": 54,
   "metadata": {},
   "outputs": [
    {
     "name": "stderr",
     "output_type": "stream",
     "text": [
      "/Library/Frameworks/Python.framework/Versions/3.11/lib/python3.11/site-packages/sklearn/preprocessing/_encoders.py:975: FutureWarning: `sparse` was renamed to `sparse_output` in version 1.2 and will be removed in 1.4. `sparse_output` is ignored unless you leave `sparse` to its default value.\n",
      "  warnings.warn(\n"
     ]
    }
   ],
   "source": [
    "from sklearn.preprocessing import MinMaxScaler\n",
    "\n",
    "scaler = MinMaxScaler().fit(inputs[numeric_cols])\n",
    "inputs[numeric_cols] = scaler.transform(inputs[numeric_cols])\n",
    "\n",
    "from sklearn.preprocessing import OneHotEncoder\n",
    "encoder = OneHotEncoder(sparse=False, handle_unknown='ignore').fit(inputs[categorical_cols])\n",
    "encoded_cols = list(encoder.get_feature_names_out(categorical_cols))\n",
    "\n",
    "inputs[encoded_cols] = encoder.transform(inputs[categorical_cols])\n",
    "\n",
    "X = inputs[numeric_cols + encoded_cols]\n"
   ]
  },
  {
   "cell_type": "code",
   "execution_count": 55,
   "metadata": {},
   "outputs": [
    {
     "data": {
      "text/html": [
       "<style>#sk-container-id-2 {color: black;}#sk-container-id-2 pre{padding: 0;}#sk-container-id-2 div.sk-toggleable {background-color: white;}#sk-container-id-2 label.sk-toggleable__label {cursor: pointer;display: block;width: 100%;margin-bottom: 0;padding: 0.3em;box-sizing: border-box;text-align: center;}#sk-container-id-2 label.sk-toggleable__label-arrow:before {content: \"▸\";float: left;margin-right: 0.25em;color: #696969;}#sk-container-id-2 label.sk-toggleable__label-arrow:hover:before {color: black;}#sk-container-id-2 div.sk-estimator:hover label.sk-toggleable__label-arrow:before {color: black;}#sk-container-id-2 div.sk-toggleable__content {max-height: 0;max-width: 0;overflow: hidden;text-align: left;background-color: #f0f8ff;}#sk-container-id-2 div.sk-toggleable__content pre {margin: 0.2em;color: black;border-radius: 0.25em;background-color: #f0f8ff;}#sk-container-id-2 input.sk-toggleable__control:checked~div.sk-toggleable__content {max-height: 200px;max-width: 100%;overflow: auto;}#sk-container-id-2 input.sk-toggleable__control:checked~label.sk-toggleable__label-arrow:before {content: \"▾\";}#sk-container-id-2 div.sk-estimator input.sk-toggleable__control:checked~label.sk-toggleable__label {background-color: #d4ebff;}#sk-container-id-2 div.sk-label input.sk-toggleable__control:checked~label.sk-toggleable__label {background-color: #d4ebff;}#sk-container-id-2 input.sk-hidden--visually {border: 0;clip: rect(1px 1px 1px 1px);clip: rect(1px, 1px, 1px, 1px);height: 1px;margin: -1px;overflow: hidden;padding: 0;position: absolute;width: 1px;}#sk-container-id-2 div.sk-estimator {font-family: monospace;background-color: #f0f8ff;border: 1px dotted black;border-radius: 0.25em;box-sizing: border-box;margin-bottom: 0.5em;}#sk-container-id-2 div.sk-estimator:hover {background-color: #d4ebff;}#sk-container-id-2 div.sk-parallel-item::after {content: \"\";width: 100%;border-bottom: 1px solid gray;flex-grow: 1;}#sk-container-id-2 div.sk-label:hover label.sk-toggleable__label {background-color: #d4ebff;}#sk-container-id-2 div.sk-serial::before {content: \"\";position: absolute;border-left: 1px solid gray;box-sizing: border-box;top: 0;bottom: 0;left: 50%;z-index: 0;}#sk-container-id-2 div.sk-serial {display: flex;flex-direction: column;align-items: center;background-color: white;padding-right: 0.2em;padding-left: 0.2em;position: relative;}#sk-container-id-2 div.sk-item {position: relative;z-index: 1;}#sk-container-id-2 div.sk-parallel {display: flex;align-items: stretch;justify-content: center;background-color: white;position: relative;}#sk-container-id-2 div.sk-item::before, #sk-container-id-2 div.sk-parallel-item::before {content: \"\";position: absolute;border-left: 1px solid gray;box-sizing: border-box;top: 0;bottom: 0;left: 50%;z-index: -1;}#sk-container-id-2 div.sk-parallel-item {display: flex;flex-direction: column;z-index: 1;position: relative;background-color: white;}#sk-container-id-2 div.sk-parallel-item:first-child::after {align-self: flex-end;width: 50%;}#sk-container-id-2 div.sk-parallel-item:last-child::after {align-self: flex-start;width: 50%;}#sk-container-id-2 div.sk-parallel-item:only-child::after {width: 0;}#sk-container-id-2 div.sk-dashed-wrapped {border: 1px dashed gray;margin: 0 0.4em 0.5em 0.4em;box-sizing: border-box;padding-bottom: 0.4em;background-color: white;}#sk-container-id-2 div.sk-label label {font-family: monospace;font-weight: bold;display: inline-block;line-height: 1.2em;}#sk-container-id-2 div.sk-label-container {text-align: center;}#sk-container-id-2 div.sk-container {/* jupyter's `normalize.less` sets `[hidden] { display: none; }` but bootstrap.min.css set `[hidden] { display: none !important; }` so we also need the `!important` here to be able to override the default hidden behavior on the sphinx rendered scikit-learn.org. See: https://github.com/scikit-learn/scikit-learn/issues/21755 */display: inline-block !important;position: relative;}#sk-container-id-2 div.sk-text-repr-fallback {display: none;}</style><div id=\"sk-container-id-2\" class=\"sk-top-container\"><div class=\"sk-text-repr-fallback\"><pre>XGBRegressor(base_score=None, booster=None, callbacks=None,\n",
       "             colsample_bylevel=None, colsample_bynode=None,\n",
       "             colsample_bytree=None, device=None, early_stopping_rounds=None,\n",
       "             enable_categorical=False, eval_metric=None, feature_types=None,\n",
       "             gamma=None, grow_policy=None, importance_type=None,\n",
       "             interaction_constraints=None, learning_rate=None, max_bin=None,\n",
       "             max_cat_threshold=None, max_cat_to_onehot=None,\n",
       "             max_delta_step=None, max_depth=4, max_leaves=None,\n",
       "             min_child_weight=None, missing=nan, monotone_constraints=None,\n",
       "             multi_strategy=None, n_estimators=20, n_jobs=-1,\n",
       "             num_parallel_tree=None, random_state=42, ...)</pre><b>In a Jupyter environment, please rerun this cell to show the HTML representation or trust the notebook. <br />On GitHub, the HTML representation is unable to render, please try loading this page with nbviewer.org.</b></div><div class=\"sk-container\" hidden><div class=\"sk-item\"><div class=\"sk-estimator sk-toggleable\"><input class=\"sk-toggleable__control sk-hidden--visually\" id=\"sk-estimator-id-2\" type=\"checkbox\" checked><label for=\"sk-estimator-id-2\" class=\"sk-toggleable__label sk-toggleable__label-arrow\">XGBRegressor</label><div class=\"sk-toggleable__content\"><pre>XGBRegressor(base_score=None, booster=None, callbacks=None,\n",
       "             colsample_bylevel=None, colsample_bynode=None,\n",
       "             colsample_bytree=None, device=None, early_stopping_rounds=None,\n",
       "             enable_categorical=False, eval_metric=None, feature_types=None,\n",
       "             gamma=None, grow_policy=None, importance_type=None,\n",
       "             interaction_constraints=None, learning_rate=None, max_bin=None,\n",
       "             max_cat_threshold=None, max_cat_to_onehot=None,\n",
       "             max_delta_step=None, max_depth=4, max_leaves=None,\n",
       "             min_child_weight=None, missing=nan, monotone_constraints=None,\n",
       "             multi_strategy=None, n_estimators=20, n_jobs=-1,\n",
       "             num_parallel_tree=None, random_state=42, ...)</pre></div></div></div></div></div>"
      ],
      "text/plain": [
       "XGBRegressor(base_score=None, booster=None, callbacks=None,\n",
       "             colsample_bylevel=None, colsample_bynode=None,\n",
       "             colsample_bytree=None, device=None, early_stopping_rounds=None,\n",
       "             enable_categorical=False, eval_metric=None, feature_types=None,\n",
       "             gamma=None, grow_policy=None, importance_type=None,\n",
       "             interaction_constraints=None, learning_rate=None, max_bin=None,\n",
       "             max_cat_threshold=None, max_cat_to_onehot=None,\n",
       "             max_delta_step=None, max_depth=4, max_leaves=None,\n",
       "             min_child_weight=None, missing=nan, monotone_constraints=None,\n",
       "             multi_strategy=None, n_estimators=20, n_jobs=-1,\n",
       "             num_parallel_tree=None, random_state=42, ...)"
      ]
     },
     "execution_count": 55,
     "metadata": {},
     "output_type": "execute_result"
    }
   ],
   "source": [
    "from xgboost import XGBRegressor\n",
    "model = XGBRegressor(random_state=42, n_jobs=-1, n_estimators=20, max_depth=4)\n",
    "model.fit(X, targets)"
   ]
  },
  {
   "cell_type": "code",
   "execution_count": 56,
   "metadata": {},
   "outputs": [
    {
     "data": {
      "text/plain": [
       "34.82397292296374"
      ]
     },
     "execution_count": 56,
     "metadata": {},
     "output_type": "execute_result"
    }
   ],
   "source": [
    "preds = model.predict(X)\n",
    "from sklearn.metrics import mean_squared_error\n",
    "\n",
    "def rmse(a, b):\n",
    "    return mean_squared_error(a, b, squared=False)\n",
    "rmse(preds, targets)"
   ]
  },
  {
   "cell_type": "markdown",
   "metadata": {},
   "source": [
    "RMSE is 34.82"
   ]
  },
  {
   "cell_type": "markdown",
   "metadata": {},
   "source": [
    "Feature importance"
   ]
  },
  {
   "cell_type": "code",
   "execution_count": 57,
   "metadata": {},
   "outputs": [
    {
     "data": {
      "image/png": "[encoded data removed]",
      "text/plain": [
       "<Figure size 1000x600 with 1 Axes>"
      ]
     },
     "metadata": {},
     "output_type": "display_data"
    }
   ],
   "source": [
    "\n",
    "importance_df = pd.DataFrame({\n",
    "    'feature': X.columns,\n",
    "    'importance': model.feature_importances_\n",
    "}).sort_values('importance', ascending=False)\n",
    "importance_df.head(10)\n",
    "import seaborn as sns\n",
    "plt.figure(figsize=(10,6))\n",
    "plt.title('Feature Importance')\n",
    "sns.barplot(data=importance_df.head(10), x='importance', y='feature');"
   ]
  },
  {
   "cell_type": "markdown",
   "metadata": {},
   "source": [
    "<h2>Model is overfitting need to tune the hyper paramters</h2>"
   ]
  },
  {
   "cell_type": "code",
   "execution_count": 58,
   "metadata": {},
   "outputs": [
    {
     "name": "stdout",
     "output_type": "stream",
     "text": [
      "Train RMSE: 32.863229805568736, Validation RMSE: 42.156077681909046\n"
     ]
    }
   ],
   "source": [
    "model = XGBRegressor(n_jobs=-1, random_state=50, n_estimators=1000, \n",
    "                     learning_rate=0.03, max_depth=10, subsample=0.9,  enable_categorical=True)\n",
    "\n",
    "model.fit(X, targets)\n",
    "train_rmse = rmse(model.predict(X_train), train_targets)\n",
    "val_rmse = rmse(model.predict(X_val), val_targets)\n",
    "\n",
    "print('Train RMSE: {}, Validation RMSE: {}'.format(train_rmse, val_rmse))\n"
   ]
  },
  {
   "cell_type": "markdown",
   "metadata": {},
   "source": [
    "Lowering the Learning rate"
   ]
  },
  {
   "cell_type": "code",
   "execution_count": 59,
   "metadata": {},
   "outputs": [
    {
     "name": "stdout",
     "output_type": "stream",
     "text": [
      "Train RMSE: 32.85794350587986, Validation RMSE: 43.10012563148275\n"
     ]
    }
   ],
   "source": [
    "model = XGBRegressor(n_jobs=-1, random_state=50, n_estimators=1000, \n",
    "                     learning_rate=0.001, max_depth=5, subsample=0.9,  enable_categorical=True)\n",
    "\n",
    "model.fit(X, targets)\n",
    "train_rmse = rmse(model.predict(X_train), train_targets)\n",
    "val_rmse = rmse(model.predict(X_val), val_targets)\n",
    "\n",
    "print('Train RMSE: {}, Validation RMSE: {}'.format(train_rmse, val_rmse))\n"
   ]
  },
  {
   "cell_type": "markdown",
   "metadata": {},
   "source": [
    "Changing the TT split "
   ]
  },
  {
   "cell_type": "code",
   "execution_count": 60,
   "metadata": {},
   "outputs": [
    {
     "name": "stdout",
     "output_type": "stream",
     "text": [
      "Train RMSE: 33.40130194129025, Validation RMSE: 34.34385954965628\n"
     ]
    }
   ],
   "source": [
    "X_train, X_val, train_targets, val_targets = train_test_split(X, targets, test_size=0.3)\n",
    "\n",
    "model = XGBRegressor(n_jobs=-1, random_state=50, n_estimators=1000, \n",
    "                    learning_rate=0.03, max_depth=10, subsample=0.9,  enable_categorical=True)\n",
    "model.fit(X_train, train_targets)\n",
    "train_rmse = rmse(model.predict(X_train), train_targets)\n",
    "val_rmse = rmse(model.predict(X_val), val_targets)\n",
    "print('Train RMSE: {}, Validation RMSE: {}'.format(train_rmse, val_rmse))"
   ]
  },
  {
   "cell_type": "code",
   "execution_count": 61,
   "metadata": {},
   "outputs": [
    {
     "name": "stdout",
     "output_type": "stream",
     "text": [
      "Train RMSE: 25.148890672870504, Validation RMSE: 42.90787003633984\n"
     ]
    }
   ],
   "source": [
    "X_train, X_val, train_targets, val_targets = train_test_split(X, targets, test_size=0.4)\n",
    "\n",
    "model = XGBRegressor(n_jobs=-1, random_state=50, n_estimators=1000, \n",
    "                    learning_rate=0.01, max_depth=10, subsample=0.9,  enable_categorical=True)\n",
    "model.fit(X_train, train_targets)\n",
    "train_rmse = rmse(model.predict(X_train), train_targets)\n",
    "val_rmse = rmse(model.predict(X_val), val_targets)\n",
    "print('Train RMSE: {}, Validation RMSE: {}'.format(train_rmse, val_rmse))"
   ]
  },
  {
   "cell_type": "markdown",
   "metadata": {},
   "source": [
    "The model isnt overfitting it has a lower rmse compared to the validation set"
   ]
  },
  {
   "cell_type": "markdown",
   "metadata": {},
   "source": [
    "Save the model and test with the data set"
   ]
  },
  {
   "cell_type": "code",
   "execution_count": 36,
   "metadata": {},
   "outputs": [],
   "source": [
    "# Save the model\n",
    "model.save_model('xgb_model.json')"
   ]
  },
  {
   "cell_type": "markdown",
   "metadata": {},
   "source": [
    "<H1>Test the model</h1>"
   ]
  },
  {
   "cell_type": "code",
   "execution_count": 66,
   "metadata": {},
   "outputs": [
    {
     "data": {
      "text/plain": [
       "array(['AMBEWELA SET YOGHURT', 'HIGHLAND BUTTER SALTED',\n",
       "       'CARGILLS CHOCOLATE ICE CREAM', 'CARGILLS VANILLA ICE CREAM',\n",
       "       'ELEPHANT HOUSE CHOCOALTE ICE CREAM', 'COCACOLA', 'FANTA',\n",
       "       'HAPPY COW CHEESE', 'HARISCHANDRA COFFEE', 'KOTMALE CHEESE WEDGES',\n",
       "       'LION SODA', 'NEWDALE SET YOGHURT', 'PORTELLO',\n",
       "       'PRIMA WHEAT FLOUR', 'SPRITE',\n",
       "       'ELEPHANT HOUSE STRAWBERRY ICE CREAM', 'UDAYAGIRI WHEAT FLOUR',\n",
       "       'ELEPHANT HOUSE VANILA ICE CREAM', 'HIGHLAND YOGHURT'],\n",
       "      dtype=object)"
      ]
     },
     "execution_count": 66,
     "metadata": {},
     "output_type": "execute_result"
    }
   ],
   "source": [
    "df = pd.read_csv('Sales_Data.csv')\n",
    "df[\"Product Name\"].unique()"
   ]
  },
  {
   "cell_type": "code",
   "execution_count": 67,
   "metadata": {},
   "outputs": [],
   "source": [
    "col1 = ['AMBEWELA SET YOGHURT', 'HIGHLAND BUTTER SALTED',\n",
    "       'CARGILLS CHOCOLATE ICE CREAM', 'CARGILLS VANILLA ICE CREAM',\n",
    "       'ELEPHANT HOUSE CHOCOALTE ICE CREAM', 'COCACOLA', 'FANTA',\n",
    "       'HAPPY COW CHEESE', 'HARISCHANDRA COFFEE', 'KOTMALE CHEESE WEDGES',\n",
    "       'LION SODA', 'NEWDALE SET YOGHURT', 'PORTELLO',\n",
    "       'PRIMA WHEAT FLOUR', 'SPRITE',\n",
    "       'ELEPHANT HOUSE STRAWBERRY ICE CREAM', 'UDAYAGIRI WHEAT FLOUR',\n",
    "       'ELEPHANT HOUSE VANILA ICE CREAM', 'HIGHLAND YOGHURT']\n",
    "col2 = list(range(len(col1)))  # Creates a list of numbers from 0 to the length of col1\n",
    "df = pd.DataFrame({\n",
    "    'Product Name': col1,\n",
    "    'Product Id': col2\n",
    "})\n"
   ]
  },
  {
   "cell_type": "code",
   "execution_count": 68,
   "metadata": {},
   "outputs": [],
   "source": [
    "# Save DataFrame to a CSV file\n",
    "df.to_csv('ProductCodes.csv', index=False)"
   ]
  },
  {
   "cell_type": "code",
   "execution_count": 71,
   "metadata": {},
   "outputs": [],
   "source": [
    "# Create a mapping from product names to product ids\n",
    "product_mapping = df.set_index('Product Name')['Product Id'].to_dict()\n",
    "\n",
    "# Replace product names with product ids in the sales DataFrame\n",
    "sales_df['Product Name'] = sales_df['Product Name'].map(product_mapping)"
   ]
  },
  {
   "cell_type": "code",
   "execution_count": 70,
   "metadata": {},
   "outputs": [],
   "source": [
    "sales_df= pd.read_csv('Sales_Data.csv')"
   ]
  },
  {
   "cell_type": "code",
   "execution_count": 73,
   "metadata": {},
   "outputs": [],
   "source": [
    "# Rename the column\n",
    "sales_df = sales_df.rename(columns={'Product Name': 'Product ID'})"
   ]
  },
  {
   "cell_type": "code",
   "execution_count": 75,
   "metadata": {},
   "outputs": [],
   "source": [
    "sales_df.to_csv('Sales_Data.csv', index=False)"
   ]
  },
  {
   "cell_type": "code",
   "execution_count": null,
   "metadata": {},
   "outputs": [],
   "source": []
  }
 ],
 "metadata": {
  "kernelspec": {
   "display_name": "Python 3",
   "language": "python",
   "name": "python3"
  },
  "language_info": {
   "codemirror_mode": {
    "name": "ipython",
    "version": 3
   },
   "file_extension": ".py",
   "mimetype": "text/x-python",
   "name": "python",
   "nbconvert_exporter": "python",
   "pygments_lexer": "ipython3",
   "version": "3.11.4"
  }
 },
 "nbformat": 4,
 "nbformat_minor": 2
}
