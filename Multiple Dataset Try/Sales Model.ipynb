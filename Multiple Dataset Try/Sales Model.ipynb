{
 "cells": [
  {
   "cell_type": "code",
   "execution_count": 17,
   "metadata": {},
   "outputs": [],
   "source": [
    "import pandas as pd\n",
    "import matplotlib.pyplot as plt\n",
    "import numpy as np\n",
    "import seaborn as sns"
   ]
  },
  {
   "cell_type": "code",
   "execution_count": 18,
   "metadata": {},
   "outputs": [
    {
     "data": {
      "text/html": [
       "<div>\n",
       "<style scoped>\n",
       "    .dataframe tbody tr th:only-of-type {\n",
       "        vertical-align: middle;\n",
       "    }\n",
       "\n",
       "    .dataframe tbody tr th {\n",
       "        vertical-align: top;\n",
       "    }\n",
       "\n",
       "    .dataframe thead th {\n",
       "        text-align: right;\n",
       "    }\n",
       "</style>\n",
       "<table border=\"1\" class=\"dataframe\">\n",
       "  <thead>\n",
       "    <tr style=\"text-align: right;\">\n",
       "      <th></th>\n",
       "      <th>Date</th>\n",
       "      <th>Product Name</th>\n",
       "      <th>Product Quantity</th>\n",
       "      <th>Units sold</th>\n",
       "      <th>Day</th>\n",
       "      <th>Month</th>\n",
       "      <th>Year</th>\n",
       "      <th>DayOfWeek</th>\n",
       "      <th>Category</th>\n",
       "      <th>DayType</th>\n",
       "      <th>Rainfall</th>\n",
       "      <th>Week_of_Year</th>\n",
       "    </tr>\n",
       "  </thead>\n",
       "  <tbody>\n",
       "    <tr>\n",
       "      <th>0</th>\n",
       "      <td>2022-01-02</td>\n",
       "      <td>AMBEWELA SET YOGHURT</td>\n",
       "      <td>80ML</td>\n",
       "      <td>6</td>\n",
       "      <td>2</td>\n",
       "      <td>1</td>\n",
       "      <td>2022</td>\n",
       "      <td>Sunday</td>\n",
       "      <td>YOGHURT</td>\n",
       "      <td>Weekend</td>\n",
       "      <td>0.060849</td>\n",
       "      <td>52</td>\n",
       "    </tr>\n",
       "    <tr>\n",
       "      <th>1</th>\n",
       "      <td>2022-01-01</td>\n",
       "      <td>AMBEWELA SET YOGHURT</td>\n",
       "      <td>80ML</td>\n",
       "      <td>6</td>\n",
       "      <td>1</td>\n",
       "      <td>1</td>\n",
       "      <td>2022</td>\n",
       "      <td>Saturday</td>\n",
       "      <td>YOGHURT</td>\n",
       "      <td>Weekend</td>\n",
       "      <td>0.000801</td>\n",
       "      <td>52</td>\n",
       "    </tr>\n",
       "    <tr>\n",
       "      <th>2</th>\n",
       "      <td>2022-01-01</td>\n",
       "      <td>AMBEWELA SET YOGHURT</td>\n",
       "      <td>80ML</td>\n",
       "      <td>1</td>\n",
       "      <td>1</td>\n",
       "      <td>1</td>\n",
       "      <td>2022</td>\n",
       "      <td>Saturday</td>\n",
       "      <td>YOGHURT</td>\n",
       "      <td>Weekend</td>\n",
       "      <td>0.000801</td>\n",
       "      <td>52</td>\n",
       "    </tr>\n",
       "    <tr>\n",
       "      <th>3</th>\n",
       "      <td>2022-01-01</td>\n",
       "      <td>AMBEWELA SET YOGHURT</td>\n",
       "      <td>80ML</td>\n",
       "      <td>6</td>\n",
       "      <td>1</td>\n",
       "      <td>1</td>\n",
       "      <td>2022</td>\n",
       "      <td>Saturday</td>\n",
       "      <td>YOGHURT</td>\n",
       "      <td>Weekend</td>\n",
       "      <td>0.000801</td>\n",
       "      <td>52</td>\n",
       "    </tr>\n",
       "    <tr>\n",
       "      <th>4</th>\n",
       "      <td>2022-01-02</td>\n",
       "      <td>AMBEWELA SET YOGHURT</td>\n",
       "      <td>80ML</td>\n",
       "      <td>10</td>\n",
       "      <td>2</td>\n",
       "      <td>1</td>\n",
       "      <td>2022</td>\n",
       "      <td>Sunday</td>\n",
       "      <td>YOGHURT</td>\n",
       "      <td>Weekend</td>\n",
       "      <td>0.060849</td>\n",
       "      <td>52</td>\n",
       "    </tr>\n",
       "    <tr>\n",
       "      <th>...</th>\n",
       "      <td>...</td>\n",
       "      <td>...</td>\n",
       "      <td>...</td>\n",
       "      <td>...</td>\n",
       "      <td>...</td>\n",
       "      <td>...</td>\n",
       "      <td>...</td>\n",
       "      <td>...</td>\n",
       "      <td>...</td>\n",
       "      <td>...</td>\n",
       "      <td>...</td>\n",
       "      <td>...</td>\n",
       "    </tr>\n",
       "    <tr>\n",
       "      <th>34519</th>\n",
       "      <td>2023-10-09</td>\n",
       "      <td>HIGHLAND YOGHURT</td>\n",
       "      <td>80ML</td>\n",
       "      <td>12</td>\n",
       "      <td>9</td>\n",
       "      <td>10</td>\n",
       "      <td>2023</td>\n",
       "      <td>Monday</td>\n",
       "      <td>YOGHURT</td>\n",
       "      <td>Weekday</td>\n",
       "      <td>NaN</td>\n",
       "      <td>41</td>\n",
       "    </tr>\n",
       "    <tr>\n",
       "      <th>34520</th>\n",
       "      <td>2023-10-09</td>\n",
       "      <td>HIGHLAND YOGHURT</td>\n",
       "      <td>80ML</td>\n",
       "      <td>9</td>\n",
       "      <td>9</td>\n",
       "      <td>10</td>\n",
       "      <td>2023</td>\n",
       "      <td>Monday</td>\n",
       "      <td>YOGHURT</td>\n",
       "      <td>Weekday</td>\n",
       "      <td>NaN</td>\n",
       "      <td>41</td>\n",
       "    </tr>\n",
       "    <tr>\n",
       "      <th>34521</th>\n",
       "      <td>2023-10-09</td>\n",
       "      <td>HIGHLAND YOGHURT</td>\n",
       "      <td>80ML</td>\n",
       "      <td>13</td>\n",
       "      <td>9</td>\n",
       "      <td>10</td>\n",
       "      <td>2023</td>\n",
       "      <td>Monday</td>\n",
       "      <td>YOGHURT</td>\n",
       "      <td>Weekday</td>\n",
       "      <td>NaN</td>\n",
       "      <td>41</td>\n",
       "    </tr>\n",
       "    <tr>\n",
       "      <th>34522</th>\n",
       "      <td>2023-10-09</td>\n",
       "      <td>HIGHLAND YOGHURT</td>\n",
       "      <td>80ML</td>\n",
       "      <td>7</td>\n",
       "      <td>9</td>\n",
       "      <td>10</td>\n",
       "      <td>2023</td>\n",
       "      <td>Monday</td>\n",
       "      <td>YOGHURT</td>\n",
       "      <td>Weekday</td>\n",
       "      <td>NaN</td>\n",
       "      <td>41</td>\n",
       "    </tr>\n",
       "    <tr>\n",
       "      <th>34523</th>\n",
       "      <td>2023-10-09</td>\n",
       "      <td>HIGHLAND YOGHURT</td>\n",
       "      <td>80ML</td>\n",
       "      <td>5</td>\n",
       "      <td>9</td>\n",
       "      <td>10</td>\n",
       "      <td>2023</td>\n",
       "      <td>Monday</td>\n",
       "      <td>YOGHURT</td>\n",
       "      <td>Weekday</td>\n",
       "      <td>NaN</td>\n",
       "      <td>41</td>\n",
       "    </tr>\n",
       "  </tbody>\n",
       "</table>\n",
       "<p>34524 rows × 12 columns</p>\n",
       "</div>"
      ],
      "text/plain": [
       "             Date          Product Name Product Quantity  Units sold  Day  \\\n",
       "0      2022-01-02  AMBEWELA SET YOGHURT             80ML           6    2   \n",
       "1      2022-01-01  AMBEWELA SET YOGHURT             80ML           6    1   \n",
       "2      2022-01-01  AMBEWELA SET YOGHURT             80ML           1    1   \n",
       "3      2022-01-01  AMBEWELA SET YOGHURT             80ML           6    1   \n",
       "4      2022-01-02  AMBEWELA SET YOGHURT             80ML          10    2   \n",
       "...           ...                   ...              ...         ...  ...   \n",
       "34519  2023-10-09      HIGHLAND YOGHURT             80ML          12    9   \n",
       "34520  2023-10-09      HIGHLAND YOGHURT             80ML           9    9   \n",
       "34521  2023-10-09      HIGHLAND YOGHURT             80ML          13    9   \n",
       "34522  2023-10-09      HIGHLAND YOGHURT             80ML           7    9   \n",
       "34523  2023-10-09      HIGHLAND YOGHURT             80ML           5    9   \n",
       "\n",
       "       Month  Year DayOfWeek Category  DayType  Rainfall  Week_of_Year  \n",
       "0          1  2022    Sunday  YOGHURT  Weekend  0.060849            52  \n",
       "1          1  2022  Saturday  YOGHURT  Weekend  0.000801            52  \n",
       "2          1  2022  Saturday  YOGHURT  Weekend  0.000801            52  \n",
       "3          1  2022  Saturday  YOGHURT  Weekend  0.000801            52  \n",
       "4          1  2022    Sunday  YOGHURT  Weekend  0.060849            52  \n",
       "...      ...   ...       ...      ...      ...       ...           ...  \n",
       "34519     10  2023    Monday  YOGHURT  Weekday       NaN            41  \n",
       "34520     10  2023    Monday  YOGHURT  Weekday       NaN            41  \n",
       "34521     10  2023    Monday  YOGHURT  Weekday       NaN            41  \n",
       "34522     10  2023    Monday  YOGHURT  Weekday       NaN            41  \n",
       "34523     10  2023    Monday  YOGHURT  Weekday       NaN            41  \n",
       "\n",
       "[34524 rows x 12 columns]"
      ]
     },
     "execution_count": 18,
     "metadata": {},
     "output_type": "execute_result"
    }
   ],
   "source": [
    "sales_df = pd.read_csv(\"Sales_Data.csv\")\n",
    "sales_df"
   ]
  },
  {
   "cell_type": "code",
   "execution_count": 19,
   "metadata": {},
   "outputs": [
    {
     "data": {
      "text/plain": [
       "Date                   0\n",
       "Product Name           0\n",
       "Product Quantity       0\n",
       "Units sold             0\n",
       "Day                    0\n",
       "Month                  0\n",
       "Year                   0\n",
       "DayOfWeek              0\n",
       "Category               0\n",
       "DayType                0\n",
       "Rainfall            2103\n",
       "Week_of_Year           0\n",
       "dtype: int64"
      ]
     },
     "execution_count": 19,
     "metadata": {},
     "output_type": "execute_result"
    }
   ],
   "source": [
    "sales_df.isnull().sum()"
   ]
  },
  {
   "cell_type": "code",
   "execution_count": 20,
   "metadata": {},
   "outputs": [],
   "source": [
    "df = sales_df\n",
    "df.dropna(inplace=True)"
   ]
  },
  {
   "cell_type": "code",
   "execution_count": 21,
   "metadata": {},
   "outputs": [
    {
     "data": {
      "image/png": "[encoded data removed]",
      "text/plain": [
       "<Figure size 800x400 with 1 Axes>"
      ]
     },
     "metadata": {},
     "output_type": "display_data"
    }
   ],
   "source": [
    "plt.figure(figsize=(8,4))\n",
    "sns.countplot(x='Category', data=df)\n",
    "plt.show()"
   ]
  },
  {
   "cell_type": "code",
   "execution_count": 22,
   "metadata": {},
   "outputs": [
    {
     "name": "stderr",
     "output_type": "stream",
     "text": [
      "C:\\Users\\arkha\\AppData\\Local\\Temp\\ipykernel_13520\\1516450634.py:2: UserWarning: \n",
      "\n",
      "`distplot` is a deprecated function and will be removed in seaborn v0.14.0.\n",
      "\n",
      "Please adapt your code to use either `displot` (a figure-level function with\n",
      "similar flexibility) or `histplot` (an axes-level function for histograms).\n",
      "\n",
      "For a guide to updating your code to use the new functions, please see\n",
      "https://gist.github.com/mwaskom/de44147ed2974457ad6372750bbe5751\n",
      "\n",
      "  sns.distplot(df['Rainfall'].values.flatten(), kde=False)  # Use flatten to convert any potential multi-dimensional array\n"
     ]
    },
    {
     "data": {
      "image/png": "[encoded data removed]",
      "text/plain": [
       "<Figure size 500x500 with 1 Axes>"
      ]
     },
     "metadata": {},
     "output_type": "display_data"
    }
   ],
   "source": [
    "plt.figure(figsize=(5, 5))\n",
    "sns.distplot(df['Rainfall'].values.flatten(), kde=False)  # Use flatten to convert any potential multi-dimensional array\n",
    "plt.show()"
   ]
  },
  {
   "cell_type": "markdown",
   "metadata": {},
   "source": [
    "# Random Forest Classifier Model- Accuracy 36.8%"
   ]
  },
  {
   "cell_type": "code",
   "execution_count": 23,
   "metadata": {},
   "outputs": [],
   "source": [
    "import pandas as pd\n",
    "from sklearn.model_selection import train_test_split\n",
    "from sklearn.preprocessing import LabelEncoder\n",
    "from sklearn.ensemble import RandomForestClassifier\n",
    "from sklearn.metrics import accuracy_score, classification_report"
   ]
  },
  {
   "cell_type": "code",
   "execution_count": 24,
   "metadata": {},
   "outputs": [],
   "source": [
    "df = sales_df\n",
    "label_encoder =  LabelEncoder()\n",
    "df['DayOfWeek'] = label_encoder.fit_transform(df['DayOfWeek'])\n",
    "df['DayType'] = label_encoder.fit_transform(df['DayType'])\n",
    "\n",
    "# the input features (x) and the output variable (y) is defined\n",
    "input = ['Day', 'Month', 'Year', 'DayOfWeek', 'DayType', 'Rainfall', 'Week_of_Year']\n",
    "target_variable = 'Category'\n",
    "\n",
    "x = df[input]\n",
    "y = df[target_variable]"
   ]
  },
  {
   "cell_type": "code",
   "execution_count": 25,
   "metadata": {},
   "outputs": [
    {
     "name": "stdout",
     "output_type": "stream",
     "text": [
      "Accuracy: 0.3688511950655359\n",
      "               precision    recall  f1-score   support\n",
      "\n",
      "       BUTTER       0.00      0.00      0.00       132\n",
      "       CHEESE       0.00      0.00      0.00       874\n",
      "       COFFEE       0.16      0.01      0.02      1042\n",
      "COLD BEVERAGE       0.00      0.00      0.00       626\n",
      "        FLOUR       0.00      0.00      0.00       382\n",
      "    ICE CREAM       0.20      0.02      0.04       998\n",
      "      YOGHURT       0.38      0.97      0.54      2431\n",
      "\n",
      "     accuracy                           0.37      6485\n",
      "    macro avg       0.10      0.14      0.09      6485\n",
      " weighted avg       0.20      0.37      0.21      6485\n",
      "\n"
     ]
    },
    {
     "name": "stderr",
     "output_type": "stream",
     "text": [
      "c:\\Users\\arkha\\anaconda3\\Lib\\site-packages\\sklearn\\metrics\\_classification.py:1469: UndefinedMetricWarning: Precision and F-score are ill-defined and being set to 0.0 in labels with no predicted samples. Use `zero_division` parameter to control this behavior.\n",
      "  _warn_prf(average, modifier, msg_start, len(result))\n",
      "c:\\Users\\arkha\\anaconda3\\Lib\\site-packages\\sklearn\\metrics\\_classification.py:1469: UndefinedMetricWarning: Precision and F-score are ill-defined and being set to 0.0 in labels with no predicted samples. Use `zero_division` parameter to control this behavior.\n",
      "  _warn_prf(average, modifier, msg_start, len(result))\n",
      "c:\\Users\\arkha\\anaconda3\\Lib\\site-packages\\sklearn\\metrics\\_classification.py:1469: UndefinedMetricWarning: Precision and F-score are ill-defined and being set to 0.0 in labels with no predicted samples. Use `zero_division` parameter to control this behavior.\n",
      "  _warn_prf(average, modifier, msg_start, len(result))\n"
     ]
    }
   ],
   "source": [
    "# Split the data into training and testing components\n",
    "x_train, x_test, y_train, y_test = train_test_split(x, y, test_size=0.2, random_state=42)\n",
    "\n",
    "# Create a RandomForestClassifier \n",
    "classifier = RandomForestClassifier(n_estimators=100, random_state=42)\n",
    "\n",
    "# the model is trained\n",
    "classifier.fit(x_train, y_train)\n",
    "\n",
    "# the model makes predictions\n",
    "y_prediction = classifier.predict(x_test)\n",
    "\n",
    "# the model is evaluated using the accuracy score and the classification report\n",
    "accuracy = accuracy_score(y_test, y_prediction)\n",
    "print(f\"Accuracy: {accuracy}\")\n",
    "\n",
    "# Display additional classification metrics\n",
    "print(classification_report(y_test, y_prediction))\n"
   ]
  },
  {
   "cell_type": "markdown",
   "metadata": {},
   "source": [
    "An accuracy of 36.89% is obtained using 80- 20 split "
   ]
  },
  {
   "cell_type": "markdown",
   "metadata": {},
   "source": [
    "##### Tuning the hyperparameters of the model"
   ]
  },
  {
   "cell_type": "code",
   "execution_count": 26,
   "metadata": {},
   "outputs": [
    {
     "name": "stdout",
     "output_type": "stream",
     "text": [
      "Accuracy: 0.3696926082039683\n",
      "               precision    recall  f1-score   support\n",
      "\n",
      "       BUTTER       0.00      0.00      0.00       199\n",
      "       CHEESE       0.00      0.00      0.00      1274\n",
      "       COFFEE       0.14      0.01      0.02      1584\n",
      "COLD BEVERAGE       0.05      0.00      0.00       946\n",
      "        FLOUR       0.00      0.00      0.00       578\n",
      "    ICE CREAM       0.17      0.03      0.05      1444\n",
      "      YOGHURT       0.38      0.95      0.54      3702\n",
      "\n",
      "     accuracy                           0.37      9727\n",
      "    macro avg       0.11      0.14      0.09      9727\n",
      " weighted avg       0.20      0.37      0.22      9727\n",
      "\n"
     ]
    },
    {
     "name": "stderr",
     "output_type": "stream",
     "text": [
      "c:\\Users\\arkha\\anaconda3\\Lib\\site-packages\\sklearn\\metrics\\_classification.py:1469: UndefinedMetricWarning: Precision and F-score are ill-defined and being set to 0.0 in labels with no predicted samples. Use `zero_division` parameter to control this behavior.\n",
      "  _warn_prf(average, modifier, msg_start, len(result))\n",
      "c:\\Users\\arkha\\anaconda3\\Lib\\site-packages\\sklearn\\metrics\\_classification.py:1469: UndefinedMetricWarning: Precision and F-score are ill-defined and being set to 0.0 in labels with no predicted samples. Use `zero_division` parameter to control this behavior.\n",
      "  _warn_prf(average, modifier, msg_start, len(result))\n",
      "c:\\Users\\arkha\\anaconda3\\Lib\\site-packages\\sklearn\\metrics\\_classification.py:1469: UndefinedMetricWarning: Precision and F-score are ill-defined and being set to 0.0 in labels with no predicted samples. Use `zero_division` parameter to control this behavior.\n",
      "  _warn_prf(average, modifier, msg_start, len(result))\n"
     ]
    }
   ],
   "source": [
    "# Split the data into training and testing components\n",
    "x_train, x_test, y_train, y_test = train_test_split(x, y, test_size=0.3, random_state=42)\n",
    "\n",
    "# Create a RandomForestClassifier \n",
    "classifier = RandomForestClassifier(n_estimators=100, random_state=42)\n",
    "\n",
    "# the model is trained\n",
    "classifier.fit(x_train, y_train)\n",
    "\n",
    "# the model makes predictions\n",
    "y_prediction = classifier.predict(x_test)\n",
    "\n",
    "# the model is evaluated using the accuracy score and the classification report\n",
    "accuracy = accuracy_score(y_test, y_prediction)\n",
    "print(f\"Accuracy: {accuracy}\")\n",
    "\n",
    "# Display additional classification metrics\n",
    "print(classification_report(y_test, y_prediction))\n",
    "\n"
   ]
  },
  {
   "cell_type": "markdown",
   "metadata": {},
   "source": [
    "The accuracy increases slightly to 36.97% when a 70- 30 split is used."
   ]
  },
  {
   "cell_type": "code",
   "execution_count": 27,
   "metadata": {},
   "outputs": [
    {
     "name": "stdout",
     "output_type": "stream",
     "text": [
      "Accuracy: 0.36977640709329224\n",
      "               precision    recall  f1-score   support\n",
      "\n",
      "       BUTTER       0.00      0.00      0.00       132\n",
      "       CHEESE       0.00      0.00      0.00       874\n",
      "       COFFEE       0.15      0.01      0.02      1042\n",
      "COLD BEVERAGE       0.00      0.00      0.00       626\n",
      "        FLOUR       0.00      0.00      0.00       382\n",
      "    ICE CREAM       0.20      0.02      0.03       998\n",
      "      YOGHURT       0.37      0.98      0.54      2431\n",
      "\n",
      "     accuracy                           0.37      6485\n",
      "    macro avg       0.10      0.14      0.08      6485\n",
      " weighted avg       0.20      0.37      0.21      6485\n",
      "\n"
     ]
    },
    {
     "name": "stderr",
     "output_type": "stream",
     "text": [
      "c:\\Users\\arkha\\anaconda3\\Lib\\site-packages\\sklearn\\metrics\\_classification.py:1469: UndefinedMetricWarning: Precision and F-score are ill-defined and being set to 0.0 in labels with no predicted samples. Use `zero_division` parameter to control this behavior.\n",
      "  _warn_prf(average, modifier, msg_start, len(result))\n",
      "c:\\Users\\arkha\\anaconda3\\Lib\\site-packages\\sklearn\\metrics\\_classification.py:1469: UndefinedMetricWarning: Precision and F-score are ill-defined and being set to 0.0 in labels with no predicted samples. Use `zero_division` parameter to control this behavior.\n",
      "  _warn_prf(average, modifier, msg_start, len(result))\n",
      "c:\\Users\\arkha\\anaconda3\\Lib\\site-packages\\sklearn\\metrics\\_classification.py:1469: UndefinedMetricWarning: Precision and F-score are ill-defined and being set to 0.0 in labels with no predicted samples. Use `zero_division` parameter to control this behavior.\n",
      "  _warn_prf(average, modifier, msg_start, len(result))\n"
     ]
    }
   ],
   "source": [
    "# Split the data into training and testing components\n",
    "x_train, x_test, y_train, y_test = train_test_split(x, y, test_size=0.2, random_state=42)\n",
    "\n",
    "# Create a RandomForestClassifier \n",
    "classifier = RandomForestClassifier(n_estimators=200, random_state=42)\n",
    "\n",
    "# the model is trained\n",
    "classifier.fit(x_train, y_train)\n",
    "\n",
    "# the model makes predictions\n",
    "y_prediction = classifier.predict(x_test)\n",
    "\n",
    "# the model is evaluated using the accuracy score and the classification report\n",
    "accuracy = accuracy_score(y_test, y_prediction)\n",
    "print(f\"Accuracy: {accuracy}\")\n",
    "\n",
    "# Display additional classification metrics\n",
    "print(classification_report(y_test, y_prediction))\n"
   ]
  },
  {
   "cell_type": "markdown",
   "metadata": {},
   "source": [
    "An accuracy of 36.98% is obtained when the number of decision trees is doubled. This is a very negligible improvement."
   ]
  },
  {
   "cell_type": "code",
   "execution_count": 28,
   "metadata": {},
   "outputs": [
    {
     "name": "stdout",
     "output_type": "stream",
     "text": [
      "Accuracy: 0.36777178103315344\n",
      "               precision    recall  f1-score   support\n",
      "\n",
      "       BUTTER       0.00      0.00      0.00       132\n",
      "       CHEESE       0.00      0.00      0.00       874\n",
      "       COFFEE       0.13      0.01      0.02      1042\n",
      "COLD BEVERAGE       0.00      0.00      0.00       626\n",
      "        FLOUR       0.00      0.00      0.00       382\n",
      "    ICE CREAM       0.18      0.02      0.03       998\n",
      "      YOGHURT       0.37      0.97      0.54      2431\n",
      "\n",
      "     accuracy                           0.37      6485\n",
      "    macro avg       0.10      0.14      0.08      6485\n",
      " weighted avg       0.19      0.37      0.21      6485\n",
      "\n"
     ]
    },
    {
     "name": "stderr",
     "output_type": "stream",
     "text": [
      "c:\\Users\\arkha\\anaconda3\\Lib\\site-packages\\sklearn\\metrics\\_classification.py:1469: UndefinedMetricWarning: Precision and F-score are ill-defined and being set to 0.0 in labels with no predicted samples. Use `zero_division` parameter to control this behavior.\n",
      "  _warn_prf(average, modifier, msg_start, len(result))\n",
      "c:\\Users\\arkha\\anaconda3\\Lib\\site-packages\\sklearn\\metrics\\_classification.py:1469: UndefinedMetricWarning: Precision and F-score are ill-defined and being set to 0.0 in labels with no predicted samples. Use `zero_division` parameter to control this behavior.\n",
      "  _warn_prf(average, modifier, msg_start, len(result))\n",
      "c:\\Users\\arkha\\anaconda3\\Lib\\site-packages\\sklearn\\metrics\\_classification.py:1469: UndefinedMetricWarning: Precision and F-score are ill-defined and being set to 0.0 in labels with no predicted samples. Use `zero_division` parameter to control this behavior.\n",
      "  _warn_prf(average, modifier, msg_start, len(result))\n"
     ]
    }
   ],
   "source": [
    "# Split the data into training and testing components\n",
    "x_train, x_test, y_train, y_test = train_test_split(x, y, test_size=0.2, random_state=42)\n",
    "\n",
    "# Create a RandomForestClassifier \n",
    "classifier = RandomForestClassifier(n_estimators=50, random_state=42)\n",
    "\n",
    "# the model is trained\n",
    "classifier.fit(x_train, y_train)\n",
    "\n",
    "# the model makes predictions\n",
    "y_prediction = classifier.predict(x_test)\n",
    "\n",
    "# the model is evaluated using the accuracy score and the classification report\n",
    "accuracy = accuracy_score(y_test, y_prediction)\n",
    "print(f\"Accuracy: {accuracy}\")\n",
    "\n",
    "# Display additional classification metrics\n",
    "print(classification_report(y_test, y_prediction))\n"
   ]
  },
  {
   "cell_type": "markdown",
   "metadata": {},
   "source": [
    "When the number of decision is halved, the accuracy score decreases by a negligible value. Thus it proves that tuning the hyperparameters prove to be futile. "
   ]
  },
  {
   "cell_type": "markdown",
   "metadata": {},
   "source": [
    "### Regression"
   ]
  },
  {
   "cell_type": "markdown",
   "metadata": {},
   "source": [
    "The new dataset is analysed and is split into columns based on the categories. Then the Random Forest Regressor is used for prediction."
   ]
  },
  {
   "cell_type": "code",
   "execution_count": 29,
   "metadata": {},
   "outputs": [],
   "source": [
    "# list of numeric columns\n",
    "numeric_cols = ['Product ID', 'Day', 'Month', 'Year', 'Week_of_Year', 'Rainfall'] \n",
    "# list of categorical columns \n",
    "categorical_cols = ['Category', 'DayOfWeek', 'DayType']  "
   ]
  },
  {
   "cell_type": "markdown",
   "metadata": {},
   "source": [
    "# Random Forest Regressor"
   ]
  },
  {
   "cell_type": "markdown",
   "metadata": {},
   "source": [
    "### Testing the model with custom made data"
   ]
  },
  {
   "cell_type": "markdown",
   "metadata": {},
   "source": [
    "Defined methods to fill the data"
   ]
  },
  {
   "cell_type": "code",
   "execution_count": 30,
   "metadata": {},
   "outputs": [],
   "source": [
    "def weekOfYearCalculator(date):\n",
    "    from datetime import datetime\n",
    "    date_obj = datetime.strptime(date, \"%Y-%m-%d\")\n",
    "\n",
    "    # Get the week of the year\n",
    "    week_of_year = date_obj.isocalendar()[1]\n",
    "\n",
    "    return week_of_year\n",
    "\n",
    "def dayOfWeekCalculator(date):\n",
    "    from datetime import datetime\n",
    "    date_obj = datetime.strptime(date, \"%Y-%m-%d\")\n",
    "\n",
    "    # Get the day of the week\n",
    "    day_of_week = date_obj.isocalendar()[2]\n",
    "\n",
    "    if day_of_week==7:\n",
    "        day_of_week=\"Sunday\"\n",
    "    elif day_of_week==1:\n",
    "        day_of_week=\"Monday\"\n",
    "    elif day_of_week==2:\n",
    "        day_of_week=\"Tuesday\"\n",
    "    elif day_of_week==3:\n",
    "        day_of_week=\"Wednesday\"\n",
    "    elif day_of_week==4:\n",
    "        day_of_week=\"Thursday\"\n",
    "    elif day_of_week==5:\n",
    "        day_of_week=\"Friday\"\n",
    "    elif day_of_week==6:\n",
    "        day_of_week=\"Saturday\"\n",
    "    return day_of_week\n",
    "\n",
    "def dayTypeCalculator(dayOfWeek):\n",
    "    if dayOfWeek==6 or dayOfWeek==7:\n",
    "        dayType=\"Weekend\"\n",
    "    else:\n",
    "        dayType=\"Weekday\"\n",
    "    return dayType\n",
    "\n",
    "def monthCalculator(date):\n",
    "    from datetime import datetime\n",
    "    date_obj = datetime.strptime(date, \"%Y-%m-%d\")\n",
    "\n",
    "    # Get the month\n",
    "    month = date_obj.month\n",
    "\n",
    "    return month\n",
    "\n",
    "def yearCalculator(date):\n",
    "    from datetime import datetime\n",
    "    date_obj = datetime.strptime(date, \"%Y-%m-%d\")\n",
    "\n",
    "    # Get the year\n",
    "    year = date_obj.year\n",
    "\n",
    "    return year\n",
    "\n",
    "def dayCalculator(date):\n",
    "    from datetime import datetime\n",
    "    date_obj = datetime.strptime(date, \"%Y-%m-%d\")\n",
    "\n",
    "    # Get the day\n",
    "    day = date_obj.day\n",
    "\n",
    "    return day\n",
    "def initialiseValuesToDataset(date,rainfall,dataset):\n",
    "    weekOfYear=weekOfYearCalculator(date)\n",
    "    dayOfWeek=dayOfWeekCalculator(date)\n",
    "    dayType=dayTypeCalculator(dayOfWeek)\n",
    "    day=dayCalculator(date)\n",
    "    month=monthCalculator(date)\n",
    "    year=yearCalculator(date)    \n",
    "    dataset[\"Week_of_Year\"].fillna(int(weekOfYear), inplace=True)\n",
    "    dataset[\"Week_of_Year\"] = dataset[\"Week_of_Year\"].astype(int)\n",
    "\n",
    "    dataset[\"DayOfWeek\"].fillna(dayOfWeek, inplace=True)\n",
    "\n",
    "    dataset[\"Day\"].fillna(int(day), inplace=True)\n",
    "    dataset[\"Day\"] = dataset[\"Day\"].astype(int)\n",
    "\n",
    "    dataset[\"Month\"].fillna(int(month), inplace=True)\n",
    "    dataset[\"Month\"] = dataset[\"Month\"].astype(int)\n",
    "\n",
    "    dataset[\"Year\"].fillna(int(year), inplace=True)\n",
    "    dataset[\"Year\"] = dataset[\"Year\"].astype(int)\n",
    "\n",
    "    dataset[\"Rainfall\"].fillna(rainfall, inplace=True)\n",
    "    dataset[\"DayType\"].fillna(dayType, inplace=True)\n",
    "    return dataset"
   ]
  },
  {
   "cell_type": "markdown",
   "metadata": {},
   "source": [
    "Entering the inputs from the user"
   ]
  },
  {
   "cell_type": "code",
   "execution_count": null,
   "metadata": {},
   "outputs": [],
   "source": [
    "date=\"2024-01-19\"\n",
    "rainfall=1.3\n",
    "predictions_df = pd.read_csv('Predictions.csv')\n",
    "predictions_df=initialiseValuesToDataset(date,rainfall,predictions_df)"
   ]
  },
  {
   "cell_type": "markdown",
   "metadata": {},
   "source": [
    "### Testing the model"
   ]
  },
  {
   "cell_type": "code",
   "execution_count": null,
   "metadata": {},
   "outputs": [],
   "source": [
    "sales_df = sales_df[['Product ID', 'Category', 'Day', 'Month', 'Year', 'DayOfWeek', 'DayType', 'Week_of_Year', 'Rainfall','Units sold']]\n",
    "\n",
    "sales_df\n",
    "input_cols = ['Product ID', 'Category', 'Day', 'Month', 'Year', 'DayOfWeek', 'DayType', 'Week_of_Year', 'Rainfall']\n",
    "target_col = 'Units sold'\n",
    "inputs = sales_df[input_cols].copy()\n",
    "targets = sales_df[target_col].copy()\n",
    "sales_df = sales_df[['Product ID', 'Category', 'Day', 'Month', 'Year', 'DayOfWeek', 'DayType', 'Week_of_Year', 'Rainfall','Units sold']]\n",
    "\n",
    "sales_df\n",
    "input_cols = ['Product ID', 'Category', 'Day', 'Month', 'Year', 'DayOfWeek', 'DayType', 'Week_of_Year', 'Rainfall']\n",
    "target_col = 'Units sold'\n",
    "inputs = sales_df[input_cols].copy()\n",
    "targets = sales_df[target_col].copy()\n",
    "\n",
    "numeric_cols = ['Product ID', 'Day', 'Month', 'Year', 'Week_of_Year', 'Rainfall']  # list of numeric columns\n",
    "categorical_cols = ['Category', 'DayOfWeek', 'DayType']  # list of categorical columns"
   ]
  },
  {
   "cell_type": "code",
   "execution_count": null,
   "metadata": {},
   "outputs": [],
   "source": [
    "from sklearn.preprocessing import MinMaxScaler\n",
    "\n",
    "scaler = MinMaxScaler().fit(inputs[numeric_cols])\n",
    "inputs[numeric_cols] = scaler.transform(inputs[numeric_cols])\n",
    "\n",
    "from sklearn.preprocessing import OneHotEncoder\n",
    "encoder = OneHotEncoder(sparse=False, handle_unknown='ignore').fit(inputs[categorical_cols])\n",
    "encoded_cols = list(encoder.get_feature_names_out(categorical_cols))\n",
    "\n",
    "inputs[encoded_cols] = encoder.transform(inputs[categorical_cols])\n",
    "\n",
    "X = inputs[numeric_cols + encoded_cols]\n",
    "\n",
    "from sklearn.ensemble import RandomForestRegressor\n",
    "model = RandomForestRegressor(n_estimators=200, max_depth=5, min_samples_leaf= 20, random_state=42)\n",
    "\n",
    "model.fit(X, targets)\n",
    "preds = model.predict(X)\n",
    "from sklearn.metrics import mean_squared_error\n",
    "\n",
    "def rmse(a, b):\n",
    "    return mean_squared_error(a, b, squared=False)\n",
    "rmse(preds, targets)\n",
    "\n",
    "importance_df = pd.DataFrame({\n",
    "    'feature': X.columns,\n",
    "    'importance': model.feature_importances_\n",
    "}).sort_values('importance', ascending=False)\n",
    "importance_df.head(10)\n",
    "import seaborn as sns\n",
    "plt.figure(figsize=(10,6))\n",
    "plt.title('Feature Importance')\n",
    "\n",
    "X_train, X_val, train_targets, val_targets = train_test_split(X, targets, test_size=0.3)\n",
    "\n",
    "model = RandomForestRegressor(n_estimators=200, max_depth=5, min_samples_leaf= 20, random_state=42)\n",
    "model.fit(X_train, train_targets)\n",
    "train_rmse = rmse(model.predict(X_train), train_targets)\n",
    "val_rmse = rmse(model.predict(X_val), val_targets)\n",
    "print('Train RMSE: {}, Validation RMSE: {}'.format(train_rmse, val_rmse))"
   ]
  },
  {
   "cell_type": "code",
   "execution_count": null,
   "metadata": {},
   "outputs": [],
   "source": [
    "# Save the model\n",
    "model.save_model('new_random_forest_classifier.json')"
   ]
  },
  {
   "cell_type": "code",
   "execution_count": null,
   "metadata": {},
   "outputs": [],
   "source": [
    "model.predict(X_val)\n",
    "X_val\n",
    "sales_df.loc[28216]\n",
    "results_df=pd.DataFrame({'Actual':val_targets, 'Predicted':model.predict(X_val)})\n",
    "\n",
    "# Add 'Product ID' column to results_df from sales_df\n",
    "results_df = results_df.join(sales_df['Product ID'])\n",
    "results_df"
   ]
  },
  {
   "cell_type": "code",
   "execution_count": null,
   "metadata": {},
   "outputs": [],
   "source": [
    "predictions_inputs = predictions_df[input_cols].copy()\n",
    "predictions_inputs[numeric_cols] = scaler.transform(predictions_inputs[numeric_cols])\n",
    "\n",
    "encoder = OneHotEncoder(sparse=False, handle_unknown='ignore').fit(predictions_inputs[categorical_cols])\n",
    "encoded_cols = list(encoder.get_feature_names_out(categorical_cols))\n",
    "\n",
    "predictions_inputs[encoded_cols]=encoder.transform(predictions_inputs[categorical_cols])\n",
    "predictions_transformed = predictions_inputs[numeric_cols + encoded_cols]\n",
    "\n",
    "predictions_transformed"
   ]
  },
  {
   "cell_type": "code",
   "execution_count": null,
   "metadata": {},
   "outputs": [],
   "source": [
    "model = RandomForestRegressor()\n",
    "model.load_model('new_random_forest_classifier.json')\n",
    "predictions = model.predict(predictions_transformed)\n",
    "predictions_df['Units Sold']=predictions\n",
    "predictions_df"
   ]
  },
  {
   "cell_type": "code",
   "execution_count": null,
   "metadata": {},
   "outputs": [],
   "source": [
    "predictions=pd.read_csv('Predictions.csv')"
   ]
  },
  {
   "cell_type": "markdown",
   "metadata": {},
   "source": [
    "### Considerable updates to be made to the system"
   ]
  },
  {
   "cell_type": "markdown",
   "metadata": {},
   "source": [
    "* convert the dayOfWeek column to whether it is a holiday or not, to produce a binary value.\n",
    "* consider dropping features if the model is overfitting\n",
    "* the numeric and the categorical columns could be scaled."
   ]
  },
  {
   "cell_type": "code",
   "execution_count": null,
   "metadata": {},
   "outputs": [],
   "source": [
    "predictions = predictions.rename(columns={'DayType': 'IsAHoliday'})\n",
    "predictions"
   ]
  },
  {
   "cell_type": "markdown",
   "metadata": {},
   "source": [
    "Updating the defined methods"
   ]
  },
  {
   "cell_type": "code",
   "execution_count": null,
   "metadata": {},
   "outputs": [],
   "source": [
    "def weekOfYearCalculator(date):\n",
    "    from datetime import datetime\n",
    "    date_obj = datetime.strptime(date, \"%Y-%m-%d\")\n",
    "\n",
    "    # Get the week of the year\n",
    "    week_of_year = date_obj.isocalendar()[1]\n",
    "\n",
    "    return week_of_year\n",
    "\n",
    "def dayOfWeekCalculator(date):\n",
    "    from datetime import datetime\n",
    "    date_obj = datetime.strptime(date, \"%Y-%m-%d\")\n",
    "\n",
    "    # Get the day of the week\n",
    "    day_of_week = date_obj.isocalendar()[2]\n",
    "\n",
    "    return day_of_week\n",
    "\n",
    "def IsAHoliday(dayOfWeek):\n",
    "    if dayOfWeek==6 or dayOfWeek==7:\n",
    "        dayType=1\n",
    "    else:\n",
    "        dayType=0\n",
    "    return dayType\n",
    "\n",
    "def monthCalculator(date):\n",
    "    from datetime import datetime\n",
    "    date_obj = datetime.strptime(date, \"%Y-%m-%d\")\n",
    "\n",
    "    # Get the month\n",
    "    month = date_obj.month\n",
    "\n",
    "    return month\n",
    "\n",
    "def yearCalculator(date):\n",
    "    from datetime import datetime\n",
    "    date_obj = datetime.strptime(date, \"%Y-%m-%d\")\n",
    "\n",
    "    # Get the year\n",
    "    year = date_obj.year\n",
    "\n",
    "    return year\n",
    "\n",
    "def dayCalculator(date):\n",
    "    from datetime import datetime\n",
    "    date_obj = datetime.strptime(date, \"%Y-%m-%d\")\n",
    "\n",
    "    # Get the day\n",
    "    day = date_obj.day\n",
    "\n",
    "    return day\n",
    "def initialiseValuesToDataset(date,rainfall,dataset):\n",
    "    weekOfYear=weekOfYearCalculator(date)\n",
    "    dayOfWeek=dayOfWeekCalculator(date)\n",
    "    isHoliday=IsAHoliday(dayOfWeek)\n",
    "    day=dayCalculator(date)\n",
    "    month=monthCalculator(date)\n",
    "    year=yearCalculator(date)    \n",
    "    dataset[\"Week_of_Year\"].fillna(int(weekOfYear), inplace=True)\n",
    "    dataset[\"Week_of_Year\"] = dataset[\"Week_of_Year\"].astype(int)\n",
    "\n",
    "    dataset[\"DayOfWeek\"].fillna(int(dayOfWeek), inplace=True)\n",
    "    dataset[\"DayOfWeek\"] = dataset[\"DayOfWeek\"].astype(int)\n",
    "\n",
    "    dataset[\"IsAHoliday\"].fillna(isHoliday, inplace=True)\n",
    "    dataset[\"IsAHoliday\"] = dataset[\"IsAHoliday\"].astype(int)\n",
    "\n",
    "    dataset[\"Day\"].fillna(int(day), inplace=True)\n",
    "    dataset[\"Day\"] = dataset[\"Day\"].astype(int)\n",
    "\n",
    "    dataset[\"Month\"].fillna(int(month), inplace=True)\n",
    "    dataset[\"Month\"] = dataset[\"Month\"].astype(int)\n",
    "\n",
    "    dataset[\"Year\"].fillna(int(year), inplace=True)\n",
    "    dataset[\"Year\"] = dataset[\"Year\"].astype(int)\n",
    "\n",
    "    dataset[\"Rainfall\"].fillna(rainfall, inplace=True)\n",
    "    return dataset"
   ]
  },
  {
   "cell_type": "code",
   "execution_count": null,
   "metadata": {},
   "outputs": [],
   "source": [
    "date=\"2024-01-20\"\n",
    "rainfall=1.3\n",
    "predictions_df = pd.read_csv('Predictions.csv')\n",
    "predictions_df=initialiseValuesToDataset(date,rainfall,predictions_df)"
   ]
  },
  {
   "cell_type": "code",
   "execution_count": 31,
   "metadata": {},
   "outputs": [],
   "source": [
    "sales_df=pd.read_csv('Sales_Data_New.csv')"
   ]
  },
  {
   "cell_type": "code",
   "execution_count": null,
   "metadata": {},
   "outputs": [],
   "source": [
    "sales_df['Date'] = pd.to_datetime(sales_df['Date'])\n",
    "\n",
    "# Create a new column \"DayOfWeek\" with values ranging from 1 to 7 (Monday to Sunday)\n",
    "sales_df['DayOfWeek'] = sales_df['Date'].dt.dayofweek + 1\n",
    "\n",
    "# Displaying the updated DataFrame\n",
    "sales_df"
   ]
  },
  {
   "cell_type": "code",
   "execution_count": null,
   "metadata": {},
   "outputs": [],
   "source": [
    "# Rename the 'DayType' column to 'IsAHoliday'\n",
    "sales_df = sales_df.rename(columns={'DayType': 'IsAHoliday'})\n",
    "\n",
    "# Update values in the 'IsAHoliday' column based on the day of the week\n",
    "sales_df['IsAHoliday'] = (sales_df['DayOfWeek'] >= 6).astype(int)\n",
    "\n",
    "# Displaying the final updated DataFrame\n",
    "sales_df = sales_df.rename(columns={'Units sold': 'Units Sold'})\n",
    "sales_df=sales_df[['Product ID', 'Day', 'Month', 'Year', 'Week_of_Year',\n",
    "       'Rainfall', 'Category', 'DayOfWeek', 'IsAHoliday', 'Units Sold']]"
   ]
  },
  {
   "cell_type": "code",
   "execution_count": null,
   "metadata": {},
   "outputs": [],
   "source": [
    "sales_df.to_csv('Sales_Data_New.csv', index=False)"
   ]
  },
  {
   "cell_type": "markdown",
   "metadata": {},
   "source": [
    "The changes have been made to the model"
   ]
  },
  {
   "cell_type": "markdown",
   "metadata": {},
   "source": [
    "### Training the new model"
   ]
  },
  {
   "cell_type": "markdown",
   "metadata": {},
   "source": [
    "#### Feature Preprocessing"
   ]
  },
  {
   "cell_type": "code",
   "execution_count": 34,
   "metadata": {},
   "outputs": [
    {
     "name": "stderr",
     "output_type": "stream",
     "text": [
      "c:\\Users\\arkha\\anaconda3\\Lib\\site-packages\\sklearn\\preprocessing\\_encoders.py:972: FutureWarning: `sparse` was renamed to `sparse_output` in version 1.2 and will be removed in 1.4. `sparse_output` is ignored unless you leave `sparse` to its default value.\n",
      "  warnings.warn(\n"
     ]
    }
   ],
   "source": [
    "import pandas as pd\n",
    "from sklearn.model_selection import train_test_split\n",
    "from sklearn.preprocessing import StandardScaler\n",
    "from sklearn.metrics import mean_squared_error, r2_score\n",
    "from sklearn.preprocessing import OneHotEncoder\n",
    "from sklearn.ensemble import RandomForestRegressor\n",
    "import joblib\n",
    "\n",
    "sales_df=pd.read_csv('Sales_Data_New.csv')\n",
    "# Assuming your DataFrame is named 'salesdf'\n",
    "# Assuming 'Units Sold' is the target variable\n",
    "\n",
    "# Extracting features and target variable\n",
    "features = ['Product ID', 'Day', 'Month', 'Year', 'Week_of_Year', 'Rainfall', 'DayOfWeek', 'IsAHoliday', 'Category']\n",
    "target = 'Units Sold'\n",
    "\n",
    "\n",
    "numeric_cols = ['Product ID', 'Day', 'Month', 'Year', 'Week_of_Year', 'Rainfall', 'DayOfWeek', 'IsAHoliday']\n",
    "categorical_cols=['Category']\n",
    "scaler = StandardScaler()\n",
    "sales_df[numeric_cols] = scaler.fit_transform(sales_df[numeric_cols])\n",
    "encoder = OneHotEncoder(sparse=False, handle_unknown='ignore').fit(sales_df[categorical_cols])\n",
    "encoded_cols = list(encoder.get_feature_names_out(categorical_cols))\n",
    "sales_df[encoded_cols] = encoder.transform(sales_df[categorical_cols])\n",
    "\n",
    "X = sales_df[numeric_cols + encoded_cols]\n",
    "y = sales_df[target]"
   ]
  },
  {
   "cell_type": "code",
   "execution_count": 38,
   "metadata": {},
   "outputs": [
    {
     "name": "stdout",
     "output_type": "stream",
     "text": [
      "r2 score for the model is 0.12862776589901137.\n",
      "Train RMSE: 39.36558965742312, Validation RMSE: 29.857593858814976\n"
     ]
    }
   ],
   "source": [
    "# Splitting the data into training and validation sets\n",
    "X_train, X_val, y_train, y_val = train_test_split(X, y, test_size=0.4, random_state=42)\n",
    "\n",
    "classifier = RandomForestRegressor(n_estimators=200, max_depth=5, min_samples_leaf= 20, random_state=42)\n",
    "classifier.fit(X_train, y_train)\n",
    "\n",
    "y_calc = classifier.predict(X_val)\n",
    "\n",
    "def rmse(a, b):\n",
    "    return mean_squared_error(a, b, squared=False)\n",
    "\n",
    "train_rmse = rmse(classifier.predict(X_train), y_train)\n",
    "val_rmse = rmse(classifier.predict(X_val), y_val)\n",
    "r2_cal = r2_score(y_val, y_calc)\n",
    "print(f\"r2 score for the model is {r2_cal}.\")\n",
    "print('Train RMSE: {}, Validation RMSE: {}'.format(train_rmse, val_rmse))"
   ]
  },
  {
   "cell_type": "markdown",
   "metadata": {},
   "source": [
    "The model, encoder and the scaler are saved"
   ]
  },
  {
   "cell_type": "code",
   "execution_count": null,
   "metadata": {},
   "outputs": [],
   "source": [
    "joblib.dump(scaler, 'scaler.joblib')\n",
    "joblib.dump(encoder, 'encoder.joblib')\n",
    "model.save_model('rf_regressor_model.model')"
   ]
  },
  {
   "cell_type": "markdown",
   "metadata": {},
   "source": [
    "### Testing the model on New Input"
   ]
  },
  {
   "cell_type": "markdown",
   "metadata": {},
   "source": [
    "Populate to predict the quntities sold."
   ]
  },
  {
   "cell_type": "code",
   "execution_count": null,
   "metadata": {},
   "outputs": [],
   "source": [
    "def weekOfYearCalculator(date):\n",
    "    from datetime import datetime\n",
    "    date_obj = datetime.strptime(date, \"%Y-%m-%d\")\n",
    "\n",
    "    # Get the week of the year\n",
    "    week_of_year = date_obj.isocalendar()[1]\n",
    "\n",
    "    return week_of_year\n",
    "\n",
    "def dayOfWeekCalculator(date):\n",
    "    from datetime import datetime\n",
    "    date_obj = datetime.strptime(date, \"%Y-%m-%d\")\n",
    "\n",
    "    # Get the day of the week\n",
    "    day_of_week = date_obj.isocalendar()[2]\n",
    "\n",
    "    return day_of_week\n",
    "\n",
    "def IsAHoliday(dayOfWeek):\n",
    "    if dayOfWeek==6 or dayOfWeek==7:\n",
    "        dayType=1\n",
    "    else:\n",
    "        dayType=0\n",
    "    return dayType\n",
    "\n",
    "def monthCalculator(date):\n",
    "    from datetime import datetime\n",
    "    date_obj = datetime.strptime(date, \"%Y-%m-%d\")\n",
    "\n",
    "    # Get the month\n",
    "    month = date_obj.month\n",
    "\n",
    "    return month\n",
    "\n",
    "def yearCalculator(date):\n",
    "    from datetime import datetime\n",
    "    date_obj = datetime.strptime(date, \"%Y-%m-%d\")\n",
    "\n",
    "    # Get the year\n",
    "    year = date_obj.year\n",
    "\n",
    "    return year\n",
    "\n",
    "def dayCalculator(date):\n",
    "    from datetime import datetime\n",
    "    date_obj = datetime.strptime(date, \"%Y-%m-%d\")\n",
    "\n",
    "    # Get the day\n",
    "    day = date_obj.day\n",
    "\n",
    "    return day\n",
    "def initialiseValuesToDataset(date,rainfall,dataset):\n",
    "    weekOfYear=weekOfYearCalculator(date)\n",
    "    dayOfWeek=dayOfWeekCalculator(date)\n",
    "    isHoliday=IsAHoliday(dayOfWeek)\n",
    "    day=dayCalculator(date)\n",
    "    month=monthCalculator(date)\n",
    "    year=yearCalculator(date)    \n",
    "    dataset[\"Week_of_Year\"].fillna(int(weekOfYear), inplace=True)\n",
    "    dataset[\"Week_of_Year\"] = dataset[\"Week_of_Year\"].astype(int)\n",
    "\n",
    "    dataset[\"DayOfWeek\"].fillna(int(dayOfWeek), inplace=True)\n",
    "    dataset[\"DayOfWeek\"] = dataset[\"DayOfWeek\"].astype(int)\n",
    "\n",
    "    dataset[\"IsAHoliday\"].fillna(isHoliday, inplace=True)\n",
    "    dataset[\"IsAHoliday\"] = dataset[\"IsAHoliday\"].astype(int)\n",
    "\n",
    "    dataset[\"Day\"].fillna(int(day), inplace=True)\n",
    "    dataset[\"Day\"] = dataset[\"Day\"].astype(int)\n",
    "\n",
    "    dataset[\"Month\"].fillna(int(month), inplace=True)\n",
    "    dataset[\"Month\"] = dataset[\"Month\"].astype(int)\n",
    "\n",
    "    dataset[\"Year\"].fillna(int(year), inplace=True)\n",
    "    dataset[\"Year\"] = dataset[\"Year\"].astype(int)\n",
    "\n",
    "    dataset[\"Rainfall\"].fillna(rainfall, inplace=True)\n",
    "    return dataset"
   ]
  },
  {
   "cell_type": "code",
   "execution_count": null,
   "metadata": {},
   "outputs": [],
   "source": [
    "date=\"2024-01-20\"\n",
    "rainfall=10.0\n",
    "new_record = pd.read_csv('Predictions.csv')\n",
    "new_record=initialiseValuesToDataset(date,rainfall,new_record)\n",
    "results=new_record\n",
    "\n",
    "scaler = joblib.load('scaler.joblib')# Loading the scaler\n",
    "encoder = joblib.load('encoder.joblib')# Loading the encoder\n",
    "model = RandomForestRegressor\n",
    "model.load_model('rf_regressor_model.model')# Loading the model\n",
    "\n",
    "columns_to_drop = [\"Product Name\", \"Units Sold\"]#not needed for prediction\n",
    "new_record = new_record.drop(columns=columns_to_drop)  \n",
    "\n",
    "# Separate numeric and categorical columns\n",
    "numeric_cols_new_record = new_record.select_dtypes(include=['number'])#get the numeric columns and store in a variable\n",
    "categorical_cols_new_record = new_record.select_dtypes(exclude=['number'])#get the categorical columns and store in a variable\n",
    "\n",
    "# Preprocess the numeric columns\n",
    "numeric_cols_new_record_scaled = scaler.transform(numeric_cols_new_record)\n",
    "\n",
    "# Preprocess the categorical columns\n",
    "categorical_cols_new_record_encoded = pd.DataFrame(encoder.transform(categorical_cols_new_record), columns=encoded_cols)#get ehe encoded version\n",
    "\n",
    "# Combine the preprocessed numeric and categorical columns\n",
    "new_record[numeric_cols_new_record.columns] = numeric_cols_new_record_scaled#set the scaled values and the encoded values to the new_record dataframe\n",
    "new_record=pd.concat([new_record, categorical_cols_new_record_encoded], axis=1)\n",
    "new_record.drop(columns=\"Category\", inplace=True)\n",
    "\n",
    "# Make predictions\n",
    "predicted_units_sold = model.predict(new_record)#predicts the units sold\n",
    "\n",
    "results[\"Units Sold\"] = predicted_units_sold.astype(int)#converts the predicted units sold to int and stores in the results datafram"
   ]
  },
  {
   "cell_type": "markdown",
   "metadata": {},
   "source": [
    "#### Viewing the predictions made by the model"
   ]
  },
  {
   "cell_type": "code",
   "execution_count": null,
   "metadata": {},
   "outputs": [],
   "source": [
    "# displaying the results \n",
    "results[[\"Product Name\",\"Category\",\"Units Sold\"]]"
   ]
  }
 ],
 "metadata": {
  "kernelspec": {
   "display_name": "base",
   "language": "python",
   "name": "python3"
  },
  "language_info": {
   "codemirror_mode": {
    "name": "ipython",
    "version": 3
   },
   "file_extension": ".py",
   "mimetype": "text/x-python",
   "name": "python",
   "nbconvert_exporter": "python",
   "pygments_lexer": "ipython3",
   "version": "3.11.5"
  }
 },
 "nbformat": 4,
 "nbformat_minor": 2
}
